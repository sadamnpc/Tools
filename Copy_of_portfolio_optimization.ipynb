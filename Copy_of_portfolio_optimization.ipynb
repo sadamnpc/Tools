{
  "nbformat": 4,
  "nbformat_minor": 0,
  "metadata": {
    "kernelspec": {
      "display_name": "Python 3 (MHP_MLE_OPT)",
      "language": "python",
      "name": "mhp_mle_opt"
    },
    "language_info": {
      "codemirror_mode": {
        "name": "ipython",
        "version": 3
      },
      "file_extension": ".py",
      "mimetype": "text/x-python",
      "name": "python",
      "nbconvert_exporter": "python",
      "pygments_lexer": "ipython3",
      "version": "3.6.8"
    },
    "colab": {
      "name": "Copy of portfolio_optimization.ipynb",
      "version": "0.3.2",
      "provenance": [],
      "include_colab_link": true
    }
  },
  "cells": [
    {
      "cell_type": "markdown",
      "metadata": {
        "id": "view-in-github",
        "colab_type": "text"
      },
      "source": [
        "<a href=\"https://colab.research.google.com/github/sadamnpc/Tools/blob/master/Copy_of_portfolio_optimization.ipynb\" target=\"_parent\"><img src=\"https://colab.research.google.com/assets/colab-badge.svg\" alt=\"Open In Colab\"/></a>"
      ]
    },
    {
      "cell_type": "markdown",
      "metadata": {
        "id": "kACJ74LXvRPA",
        "colab_type": "text"
      },
      "source": [
        "# Portfolio optimization "
      ]
    },
    {
      "cell_type": "markdown",
      "metadata": {
        "id": "TVfW0wJdvRPF",
        "colab_type": "text"
      },
      "source": [
        "### Portfolio allocation vector\n",
        "\n",
        "In this example we show how to do portfolio optimization using CVXPY.\n",
        "We begin with the basic definitions.\n",
        "In portfolio optimization we have some amount of money to invest in any of $n$ different assets. \n",
        "We choose what fraction $w_i$ of our money to invest in each asset $i$, $i=1, \\ldots, n$.\n",
        "\n",
        "We call $w\\in {\\bf R}^n$ the *portfolio allocation vector*.\n",
        "We of course have the constraint that ${\\mathbf 1}^T w =1$.\n",
        "The allocation $w_i<0$ means a *short position* in asset $i$, or that we borrow shares to sell now that we must replace later.\n",
        "The allocation $w \\geq 0$ is a *long only* portfolio.\n",
        "The quantity\n",
        "$$ \\|w \\|_1 = {\\mathbf 1}^T w_+ + {\\mathbf 1}^T w_- $$\n",
        "is known as *leverage*."
      ]
    },
    {
      "cell_type": "markdown",
      "metadata": {
        "id": "yfjjKBIZvRPH",
        "colab_type": "text"
      },
      "source": [
        "### Asset returns\n",
        "\n",
        "We will only model investments held for one period. The initial prices are $p_i > 0$. The end of period prices are $p_i^+ >0$. The asset (fractional) returns are $r_i = (p_i^+-p_i)/p_i$. The porfolio (fractional) return is $R = r^Tw$.\n",
        "\n",
        "A common model is that $r$ is a random variable with mean ${\\bf E}r = \\mu$ and covariance ${\\bf E{(r-\\mu)(r-\\mu)^T}} = \\Sigma$.\n",
        "It follows that $R$ is a random variable with ${\\bf E}R = \\mu^T w$ and ${\\bf var}(R) = w^T\\Sigma w$.\n",
        "${\\bf E}R$ is the (mean) *return* of the portfolio. ${\\bf var}(R)$ is the *risk* of the portfolio.\n",
        "(Risk is also sometimes given as ${\\bf std}(R) = \\sqrt{{\\bf var}(R)}$.)\n",
        "\n",
        "Portfolio optimization has two competing objectives: high return and low risk."
      ]
    },
    {
      "cell_type": "markdown",
      "metadata": {
        "id": "j8mVTkEnvRPK",
        "colab_type": "text"
      },
      "source": [
        "### Classical (Markowitz) portfolio optimization\n",
        "\n",
        "Classical (Markowitz) portfolio optimization solves the optimization problem\n",
        "\n",
        "\\begin{array}{ll} \\mbox{maximize} & \\mu^T w - \\gamma w^T\\Sigma w\\\\\n",
        "\\mbox{subject to} & {\\bf 1}^T w = 1, \\quad w \\in {\\cal W},\n",
        "\\end{array}\n",
        "\n",
        "where $w \\in {\\bf R}^n$ is the optimization variable, $\\cal W$ is a set of allowed portfolios (e.g., ${\\cal W} = {\\bf R}_+^n$ for a long only portfolio), and $\\gamma >0$ is the *risk aversion parameter*.\n",
        "\n",
        "The objective $\\mu^Tw - \\gamma w^T\\Sigma w$ is the *risk-adjusted return*. Varying $\\gamma$ gives the optimal *risk-return trade-off*. \n",
        "We can get the same risk-return trade-off by fixing return and minimizing risk."
      ]
    },
    {
      "cell_type": "markdown",
      "metadata": {
        "id": "SKDBeDFpvRPO",
        "colab_type": "text"
      },
      "source": [
        "### Example\n",
        "\n",
        "In the following code we compute and plot the optimal risk-return trade-off for $10$ assets, restricting ourselves to a long only portfolio."
      ]
    },
    {
      "cell_type": "code",
      "metadata": {
        "id": "5Rpy7yC7vRPQ",
        "colab_type": "code",
        "colab": {}
      },
      "source": [
        "# Generate data for long only portfolio optimization.\n",
        "import numpy as np\n",
        "np.random.seed(1)\n",
        "n = 10\n",
        "mu = np.abs(np.random.randn(n, 1))\n",
        "Sigma = np.random.randn(n, n)\n",
        "Sigma = Sigma.T.dot(Sigma)"
      ],
      "execution_count": 0,
      "outputs": []
    },
    {
      "cell_type": "code",
      "metadata": {
        "id": "ndNBnjWxvRPY",
        "colab_type": "code",
        "colab": {}
      },
      "source": [
        "# Long only portfolio optimization.\n",
        "import cvxpy as cp\n",
        "\n",
        "\n",
        "w = cp.Variable(n)\n",
        "gamma = cp.Parameter(nonneg=True)\n",
        "ret = mu.T*w \n",
        "risk = cp.quad_form(w, Sigma)\n",
        "prob = cp.Problem(cp.Maximize(ret - gamma*risk), \n",
        "               [cp.sum(w) == 1, \n",
        "                w >= 0])"
      ],
      "execution_count": 0,
      "outputs": []
    },
    {
      "cell_type": "code",
      "metadata": {
        "id": "kYOmMKw8vRPa",
        "colab_type": "code",
        "colab": {}
      },
      "source": [
        "# Compute trade-off curve.\n",
        "SAMPLES = 100\n",
        "risk_data = np.zeros(SAMPLES)\n",
        "ret_data = np.zeros(SAMPLES)\n",
        "gamma_vals = np.logspace(-2, 3, num=SAMPLES)\n",
        "for i in range(SAMPLES):\n",
        "    gamma.value = gamma_vals[i]\n",
        "    prob.solve()\n",
        "    risk_data[i] = cp.sqrt(risk).value\n",
        "    ret_data[i] = ret.value"
      ],
      "execution_count": 0,
      "outputs": []
    },
    {
      "cell_type": "code",
      "metadata": {
        "id": "qa5BYLmhvRPc",
        "colab_type": "code",
        "outputId": "a43a82a9-adf2-4fb6-8baa-879057987659",
        "colab": {}
      },
      "source": [
        "# Plot long only trade-off curve.\n",
        "import matplotlib.pyplot as plt\n",
        "%matplotlib inline\n",
        "%config InlineBackend.figure_format = 'svg'\n",
        "\n",
        "markers_on = [29, 40]\n",
        "fig = plt.figure()\n",
        "ax = fig.add_subplot(111)\n",
        "plt.plot(risk_data, ret_data, 'g-')\n",
        "for marker in markers_on:\n",
        "    plt.plot(risk_data[marker], ret_data[marker], 'bs')\n",
        "    ax.annotate(r\"$\\gamma = %.2f$\" % gamma_vals[marker], xy=(risk_data[marker]+.08, ret_data[marker]-.03))\n",
        "for i in range(n):\n",
        "    plt.plot(cp.sqrt(Sigma[i,i]).value, mu[i], 'ro')\n",
        "plt.xlabel('Standard deviation')\n",
        "plt.ylabel('Return')\n",
        "plt.show()"
      ],
      "execution_count": 0,
      "outputs": [
        {
          "output_type": "display_data",
          "data": {
            "image/svg+xml": "<?xml version=\"1.0\" encoding=\"utf-8\" standalone=\"no\"?>\n<!DOCTYPE svg PUBLIC \"-//W3C//DTD SVG 1.1//EN\"\n  \"http://www.w3.org/Graphics/SVG/1.1/DTD/svg11.dtd\">\n<!-- Created with matplotlib (https://matplotlib.org/) -->\n<svg height=\"265.69625pt\" version=\"1.1\" viewBox=\"0 0 389.28125 265.69625\" width=\"389.28125pt\" xmlns=\"http://www.w3.org/2000/svg\" xmlns:xlink=\"http://www.w3.org/1999/xlink\">\n <defs>\n  <style type=\"text/css\">\n*{stroke-linecap:butt;stroke-linejoin:round;}\n  </style>\n </defs>\n <g id=\"figure_1\">\n  <g id=\"patch_1\">\n   <path d=\"M 0 265.69625 \nL 389.28125 265.69625 \nL 389.28125 0 \nL 0 0 \nz\n\" style=\"fill:none;\"/>\n  </g>\n  <g id=\"axes_1\">\n   <g id=\"patch_2\">\n    <path d=\"M 43.78125 228.14 \nL 378.58125 228.14 \nL 378.58125 10.7 \nL 43.78125 10.7 \nz\n\" style=\"fill:#ffffff;\"/>\n   </g>\n   <g id=\"matplotlib.axis_1\">\n    <g id=\"xtick_1\">\n     <g id=\"line2d_1\">\n      <defs>\n       <path d=\"M 0 0 \nL 0 3.5 \n\" id=\"m3f0e503790\" style=\"stroke:#000000;stroke-width:0.8;\"/>\n      </defs>\n      <g>\n       <use style=\"stroke:#000000;stroke-width:0.8;\" x=\"73.4446\" xlink:href=\"#m3f0e503790\" y=\"228.14\"/>\n      </g>\n     </g>\n     <g id=\"text_1\">\n      <!-- 0.5 -->\n      <defs>\n       <path d=\"M 31.78125 66.40625 \nQ 24.171875 66.40625 20.328125 58.90625 \nQ 16.5 51.421875 16.5 36.375 \nQ 16.5 21.390625 20.328125 13.890625 \nQ 24.171875 6.390625 31.78125 6.390625 \nQ 39.453125 6.390625 43.28125 13.890625 \nQ 47.125 21.390625 47.125 36.375 \nQ 47.125 51.421875 43.28125 58.90625 \nQ 39.453125 66.40625 31.78125 66.40625 \nz\nM 31.78125 74.21875 \nQ 44.046875 74.21875 50.515625 64.515625 \nQ 56.984375 54.828125 56.984375 36.375 \nQ 56.984375 17.96875 50.515625 8.265625 \nQ 44.046875 -1.421875 31.78125 -1.421875 \nQ 19.53125 -1.421875 13.0625 8.265625 \nQ 6.59375 17.96875 6.59375 36.375 \nQ 6.59375 54.828125 13.0625 64.515625 \nQ 19.53125 74.21875 31.78125 74.21875 \nz\n\" id=\"DejaVuSans-48\"/>\n       <path d=\"M 10.6875 12.40625 \nL 21 12.40625 \nL 21 0 \nL 10.6875 0 \nz\n\" id=\"DejaVuSans-46\"/>\n       <path d=\"M 10.796875 72.90625 \nL 49.515625 72.90625 \nL 49.515625 64.59375 \nL 19.828125 64.59375 \nL 19.828125 46.734375 \nQ 21.96875 47.46875 24.109375 47.828125 \nQ 26.265625 48.1875 28.421875 48.1875 \nQ 40.625 48.1875 47.75 41.5 \nQ 54.890625 34.8125 54.890625 23.390625 \nQ 54.890625 11.625 47.5625 5.09375 \nQ 40.234375 -1.421875 26.90625 -1.421875 \nQ 22.3125 -1.421875 17.546875 -0.640625 \nQ 12.796875 0.140625 7.71875 1.703125 \nL 7.71875 11.625 \nQ 12.109375 9.234375 16.796875 8.0625 \nQ 21.484375 6.890625 26.703125 6.890625 \nQ 35.15625 6.890625 40.078125 11.328125 \nQ 45.015625 15.765625 45.015625 23.390625 \nQ 45.015625 31 40.078125 35.4375 \nQ 35.15625 39.890625 26.703125 39.890625 \nQ 22.75 39.890625 18.8125 39.015625 \nQ 14.890625 38.140625 10.796875 36.28125 \nz\n\" id=\"DejaVuSans-53\"/>\n      </defs>\n      <g transform=\"translate(65.493037 242.738437)scale(0.1 -0.1)\">\n       <use xlink:href=\"#DejaVuSans-48\"/>\n       <use x=\"63.623047\" xlink:href=\"#DejaVuSans-46\"/>\n       <use x=\"95.410156\" xlink:href=\"#DejaVuSans-53\"/>\n      </g>\n     </g>\n    </g>\n    <g id=\"xtick_2\">\n     <g id=\"line2d_2\">\n      <g>\n       <use style=\"stroke:#000000;stroke-width:0.8;\" x=\"124.831411\" xlink:href=\"#m3f0e503790\" y=\"228.14\"/>\n      </g>\n     </g>\n     <g id=\"text_2\">\n      <!-- 1.0 -->\n      <defs>\n       <path d=\"M 12.40625 8.296875 \nL 28.515625 8.296875 \nL 28.515625 63.921875 \nL 10.984375 60.40625 \nL 10.984375 69.390625 \nL 28.421875 72.90625 \nL 38.28125 72.90625 \nL 38.28125 8.296875 \nL 54.390625 8.296875 \nL 54.390625 0 \nL 12.40625 0 \nz\n\" id=\"DejaVuSans-49\"/>\n      </defs>\n      <g transform=\"translate(116.879848 242.738437)scale(0.1 -0.1)\">\n       <use xlink:href=\"#DejaVuSans-49\"/>\n       <use x=\"63.623047\" xlink:href=\"#DejaVuSans-46\"/>\n       <use x=\"95.410156\" xlink:href=\"#DejaVuSans-48\"/>\n      </g>\n     </g>\n    </g>\n    <g id=\"xtick_3\">\n     <g id=\"line2d_3\">\n      <g>\n       <use style=\"stroke:#000000;stroke-width:0.8;\" x=\"176.218222\" xlink:href=\"#m3f0e503790\" y=\"228.14\"/>\n      </g>\n     </g>\n     <g id=\"text_3\">\n      <!-- 1.5 -->\n      <g transform=\"translate(168.26666 242.738437)scale(0.1 -0.1)\">\n       <use xlink:href=\"#DejaVuSans-49\"/>\n       <use x=\"63.623047\" xlink:href=\"#DejaVuSans-46\"/>\n       <use x=\"95.410156\" xlink:href=\"#DejaVuSans-53\"/>\n      </g>\n     </g>\n    </g>\n    <g id=\"xtick_4\">\n     <g id=\"line2d_4\">\n      <g>\n       <use style=\"stroke:#000000;stroke-width:0.8;\" x=\"227.605033\" xlink:href=\"#m3f0e503790\" y=\"228.14\"/>\n      </g>\n     </g>\n     <g id=\"text_4\">\n      <!-- 2.0 -->\n      <defs>\n       <path d=\"M 19.1875 8.296875 \nL 53.609375 8.296875 \nL 53.609375 0 \nL 7.328125 0 \nL 7.328125 8.296875 \nQ 12.9375 14.109375 22.625 23.890625 \nQ 32.328125 33.6875 34.8125 36.53125 \nQ 39.546875 41.84375 41.421875 45.53125 \nQ 43.3125 49.21875 43.3125 52.78125 \nQ 43.3125 58.59375 39.234375 62.25 \nQ 35.15625 65.921875 28.609375 65.921875 \nQ 23.96875 65.921875 18.8125 64.3125 \nQ 13.671875 62.703125 7.8125 59.421875 \nL 7.8125 69.390625 \nQ 13.765625 71.78125 18.9375 73 \nQ 24.125 74.21875 28.421875 74.21875 \nQ 39.75 74.21875 46.484375 68.546875 \nQ 53.21875 62.890625 53.21875 53.421875 \nQ 53.21875 48.921875 51.53125 44.890625 \nQ 49.859375 40.875 45.40625 35.40625 \nQ 44.1875 33.984375 37.640625 27.21875 \nQ 31.109375 20.453125 19.1875 8.296875 \nz\n\" id=\"DejaVuSans-50\"/>\n      </defs>\n      <g transform=\"translate(219.653471 242.738437)scale(0.1 -0.1)\">\n       <use xlink:href=\"#DejaVuSans-50\"/>\n       <use x=\"63.623047\" xlink:href=\"#DejaVuSans-46\"/>\n       <use x=\"95.410156\" xlink:href=\"#DejaVuSans-48\"/>\n      </g>\n     </g>\n    </g>\n    <g id=\"xtick_5\">\n     <g id=\"line2d_5\">\n      <g>\n       <use style=\"stroke:#000000;stroke-width:0.8;\" x=\"278.991845\" xlink:href=\"#m3f0e503790\" y=\"228.14\"/>\n      </g>\n     </g>\n     <g id=\"text_5\">\n      <!-- 2.5 -->\n      <g transform=\"translate(271.040282 242.738437)scale(0.1 -0.1)\">\n       <use xlink:href=\"#DejaVuSans-50\"/>\n       <use x=\"63.623047\" xlink:href=\"#DejaVuSans-46\"/>\n       <use x=\"95.410156\" xlink:href=\"#DejaVuSans-53\"/>\n      </g>\n     </g>\n    </g>\n    <g id=\"xtick_6\">\n     <g id=\"line2d_6\">\n      <g>\n       <use style=\"stroke:#000000;stroke-width:0.8;\" x=\"330.378656\" xlink:href=\"#m3f0e503790\" y=\"228.14\"/>\n      </g>\n     </g>\n     <g id=\"text_6\">\n      <!-- 3.0 -->\n      <defs>\n       <path d=\"M 40.578125 39.3125 \nQ 47.65625 37.796875 51.625 33 \nQ 55.609375 28.21875 55.609375 21.1875 \nQ 55.609375 10.40625 48.1875 4.484375 \nQ 40.765625 -1.421875 27.09375 -1.421875 \nQ 22.515625 -1.421875 17.65625 -0.515625 \nQ 12.796875 0.390625 7.625 2.203125 \nL 7.625 11.71875 \nQ 11.71875 9.328125 16.59375 8.109375 \nQ 21.484375 6.890625 26.8125 6.890625 \nQ 36.078125 6.890625 40.9375 10.546875 \nQ 45.796875 14.203125 45.796875 21.1875 \nQ 45.796875 27.640625 41.28125 31.265625 \nQ 36.765625 34.90625 28.71875 34.90625 \nL 20.21875 34.90625 \nL 20.21875 43.015625 \nL 29.109375 43.015625 \nQ 36.375 43.015625 40.234375 45.921875 \nQ 44.09375 48.828125 44.09375 54.296875 \nQ 44.09375 59.90625 40.109375 62.90625 \nQ 36.140625 65.921875 28.71875 65.921875 \nQ 24.65625 65.921875 20.015625 65.03125 \nQ 15.375 64.15625 9.8125 62.3125 \nL 9.8125 71.09375 \nQ 15.4375 72.65625 20.34375 73.4375 \nQ 25.25 74.21875 29.59375 74.21875 \nQ 40.828125 74.21875 47.359375 69.109375 \nQ 53.90625 64.015625 53.90625 55.328125 \nQ 53.90625 49.265625 50.4375 45.09375 \nQ 46.96875 40.921875 40.578125 39.3125 \nz\n\" id=\"DejaVuSans-51\"/>\n      </defs>\n      <g transform=\"translate(322.427093 242.738437)scale(0.1 -0.1)\">\n       <use xlink:href=\"#DejaVuSans-51\"/>\n       <use x=\"63.623047\" xlink:href=\"#DejaVuSans-46\"/>\n       <use x=\"95.410156\" xlink:href=\"#DejaVuSans-48\"/>\n      </g>\n     </g>\n    </g>\n    <g id=\"text_7\">\n     <!-- Standard deviation -->\n     <defs>\n      <path d=\"M 53.515625 70.515625 \nL 53.515625 60.890625 \nQ 47.90625 63.578125 42.921875 64.890625 \nQ 37.9375 66.21875 33.296875 66.21875 \nQ 25.25 66.21875 20.875 63.09375 \nQ 16.5 59.96875 16.5 54.203125 \nQ 16.5 49.359375 19.40625 46.890625 \nQ 22.3125 44.4375 30.421875 42.921875 \nL 36.375 41.703125 \nQ 47.40625 39.59375 52.65625 34.296875 \nQ 57.90625 29 57.90625 20.125 \nQ 57.90625 9.515625 50.796875 4.046875 \nQ 43.703125 -1.421875 29.984375 -1.421875 \nQ 24.8125 -1.421875 18.96875 -0.25 \nQ 13.140625 0.921875 6.890625 3.21875 \nL 6.890625 13.375 \nQ 12.890625 10.015625 18.65625 8.296875 \nQ 24.421875 6.59375 29.984375 6.59375 \nQ 38.421875 6.59375 43.015625 9.90625 \nQ 47.609375 13.234375 47.609375 19.390625 \nQ 47.609375 24.75 44.3125 27.78125 \nQ 41.015625 30.8125 33.5 32.328125 \nL 27.484375 33.5 \nQ 16.453125 35.6875 11.515625 40.375 \nQ 6.59375 45.0625 6.59375 53.421875 \nQ 6.59375 63.09375 13.40625 68.65625 \nQ 20.21875 74.21875 32.171875 74.21875 \nQ 37.3125 74.21875 42.625 73.28125 \nQ 47.953125 72.359375 53.515625 70.515625 \nz\n\" id=\"DejaVuSans-83\"/>\n      <path d=\"M 18.3125 70.21875 \nL 18.3125 54.6875 \nL 36.8125 54.6875 \nL 36.8125 47.703125 \nL 18.3125 47.703125 \nL 18.3125 18.015625 \nQ 18.3125 11.328125 20.140625 9.421875 \nQ 21.96875 7.515625 27.59375 7.515625 \nL 36.8125 7.515625 \nL 36.8125 0 \nL 27.59375 0 \nQ 17.1875 0 13.234375 3.875 \nQ 9.28125 7.765625 9.28125 18.015625 \nL 9.28125 47.703125 \nL 2.6875 47.703125 \nL 2.6875 54.6875 \nL 9.28125 54.6875 \nL 9.28125 70.21875 \nz\n\" id=\"DejaVuSans-116\"/>\n      <path d=\"M 34.28125 27.484375 \nQ 23.390625 27.484375 19.1875 25 \nQ 14.984375 22.515625 14.984375 16.5 \nQ 14.984375 11.71875 18.140625 8.90625 \nQ 21.296875 6.109375 26.703125 6.109375 \nQ 34.1875 6.109375 38.703125 11.40625 \nQ 43.21875 16.703125 43.21875 25.484375 \nL 43.21875 27.484375 \nz\nM 52.203125 31.203125 \nL 52.203125 0 \nL 43.21875 0 \nL 43.21875 8.296875 \nQ 40.140625 3.328125 35.546875 0.953125 \nQ 30.953125 -1.421875 24.3125 -1.421875 \nQ 15.921875 -1.421875 10.953125 3.296875 \nQ 6 8.015625 6 15.921875 \nQ 6 25.140625 12.171875 29.828125 \nQ 18.359375 34.515625 30.609375 34.515625 \nL 43.21875 34.515625 \nL 43.21875 35.40625 \nQ 43.21875 41.609375 39.140625 45 \nQ 35.0625 48.390625 27.6875 48.390625 \nQ 23 48.390625 18.546875 47.265625 \nQ 14.109375 46.140625 10.015625 43.890625 \nL 10.015625 52.203125 \nQ 14.9375 54.109375 19.578125 55.046875 \nQ 24.21875 56 28.609375 56 \nQ 40.484375 56 46.34375 49.84375 \nQ 52.203125 43.703125 52.203125 31.203125 \nz\n\" id=\"DejaVuSans-97\"/>\n      <path d=\"M 54.890625 33.015625 \nL 54.890625 0 \nL 45.90625 0 \nL 45.90625 32.71875 \nQ 45.90625 40.484375 42.875 44.328125 \nQ 39.84375 48.1875 33.796875 48.1875 \nQ 26.515625 48.1875 22.3125 43.546875 \nQ 18.109375 38.921875 18.109375 30.90625 \nL 18.109375 0 \nL 9.078125 0 \nL 9.078125 54.6875 \nL 18.109375 54.6875 \nL 18.109375 46.1875 \nQ 21.34375 51.125 25.703125 53.5625 \nQ 30.078125 56 35.796875 56 \nQ 45.21875 56 50.046875 50.171875 \nQ 54.890625 44.34375 54.890625 33.015625 \nz\n\" id=\"DejaVuSans-110\"/>\n      <path d=\"M 45.40625 46.390625 \nL 45.40625 75.984375 \nL 54.390625 75.984375 \nL 54.390625 0 \nL 45.40625 0 \nL 45.40625 8.203125 \nQ 42.578125 3.328125 38.25 0.953125 \nQ 33.9375 -1.421875 27.875 -1.421875 \nQ 17.96875 -1.421875 11.734375 6.484375 \nQ 5.515625 14.40625 5.515625 27.296875 \nQ 5.515625 40.1875 11.734375 48.09375 \nQ 17.96875 56 27.875 56 \nQ 33.9375 56 38.25 53.625 \nQ 42.578125 51.265625 45.40625 46.390625 \nz\nM 14.796875 27.296875 \nQ 14.796875 17.390625 18.875 11.75 \nQ 22.953125 6.109375 30.078125 6.109375 \nQ 37.203125 6.109375 41.296875 11.75 \nQ 45.40625 17.390625 45.40625 27.296875 \nQ 45.40625 37.203125 41.296875 42.84375 \nQ 37.203125 48.484375 30.078125 48.484375 \nQ 22.953125 48.484375 18.875 42.84375 \nQ 14.796875 37.203125 14.796875 27.296875 \nz\n\" id=\"DejaVuSans-100\"/>\n      <path d=\"M 41.109375 46.296875 \nQ 39.59375 47.171875 37.8125 47.578125 \nQ 36.03125 48 33.890625 48 \nQ 26.265625 48 22.1875 43.046875 \nQ 18.109375 38.09375 18.109375 28.8125 \nL 18.109375 0 \nL 9.078125 0 \nL 9.078125 54.6875 \nL 18.109375 54.6875 \nL 18.109375 46.1875 \nQ 20.953125 51.171875 25.484375 53.578125 \nQ 30.03125 56 36.53125 56 \nQ 37.453125 56 38.578125 55.875 \nQ 39.703125 55.765625 41.0625 55.515625 \nz\n\" id=\"DejaVuSans-114\"/>\n      <path id=\"DejaVuSans-32\"/>\n      <path d=\"M 56.203125 29.59375 \nL 56.203125 25.203125 \nL 14.890625 25.203125 \nQ 15.484375 15.921875 20.484375 11.0625 \nQ 25.484375 6.203125 34.421875 6.203125 \nQ 39.59375 6.203125 44.453125 7.46875 \nQ 49.3125 8.734375 54.109375 11.28125 \nL 54.109375 2.78125 \nQ 49.265625 0.734375 44.1875 -0.34375 \nQ 39.109375 -1.421875 33.890625 -1.421875 \nQ 20.796875 -1.421875 13.15625 6.1875 \nQ 5.515625 13.8125 5.515625 26.8125 \nQ 5.515625 40.234375 12.765625 48.109375 \nQ 20.015625 56 32.328125 56 \nQ 43.359375 56 49.78125 48.890625 \nQ 56.203125 41.796875 56.203125 29.59375 \nz\nM 47.21875 32.234375 \nQ 47.125 39.59375 43.09375 43.984375 \nQ 39.0625 48.390625 32.421875 48.390625 \nQ 24.90625 48.390625 20.390625 44.140625 \nQ 15.875 39.890625 15.1875 32.171875 \nz\n\" id=\"DejaVuSans-101\"/>\n      <path d=\"M 2.984375 54.6875 \nL 12.5 54.6875 \nL 29.59375 8.796875 \nL 46.6875 54.6875 \nL 56.203125 54.6875 \nL 35.6875 0 \nL 23.484375 0 \nz\n\" id=\"DejaVuSans-118\"/>\n      <path d=\"M 9.421875 54.6875 \nL 18.40625 54.6875 \nL 18.40625 0 \nL 9.421875 0 \nz\nM 9.421875 75.984375 \nL 18.40625 75.984375 \nL 18.40625 64.59375 \nL 9.421875 64.59375 \nz\n\" id=\"DejaVuSans-105\"/>\n      <path d=\"M 30.609375 48.390625 \nQ 23.390625 48.390625 19.1875 42.75 \nQ 14.984375 37.109375 14.984375 27.296875 \nQ 14.984375 17.484375 19.15625 11.84375 \nQ 23.34375 6.203125 30.609375 6.203125 \nQ 37.796875 6.203125 41.984375 11.859375 \nQ 46.1875 17.53125 46.1875 27.296875 \nQ 46.1875 37.015625 41.984375 42.703125 \nQ 37.796875 48.390625 30.609375 48.390625 \nz\nM 30.609375 56 \nQ 42.328125 56 49.015625 48.375 \nQ 55.71875 40.765625 55.71875 27.296875 \nQ 55.71875 13.875 49.015625 6.21875 \nQ 42.328125 -1.421875 30.609375 -1.421875 \nQ 18.84375 -1.421875 12.171875 6.21875 \nQ 5.515625 13.875 5.515625 27.296875 \nQ 5.515625 40.765625 12.171875 48.375 \nQ 18.84375 56 30.609375 56 \nz\n\" id=\"DejaVuSans-111\"/>\n     </defs>\n     <g transform=\"translate(163.517188 256.416562)scale(0.1 -0.1)\">\n      <use xlink:href=\"#DejaVuSans-83\"/>\n      <use x=\"63.476562\" xlink:href=\"#DejaVuSans-116\"/>\n      <use x=\"102.685547\" xlink:href=\"#DejaVuSans-97\"/>\n      <use x=\"163.964844\" xlink:href=\"#DejaVuSans-110\"/>\n      <use x=\"227.34375\" xlink:href=\"#DejaVuSans-100\"/>\n      <use x=\"290.820312\" xlink:href=\"#DejaVuSans-97\"/>\n      <use x=\"352.099609\" xlink:href=\"#DejaVuSans-114\"/>\n      <use x=\"393.197266\" xlink:href=\"#DejaVuSans-100\"/>\n      <use x=\"456.673828\" xlink:href=\"#DejaVuSans-32\"/>\n      <use x=\"488.460938\" xlink:href=\"#DejaVuSans-100\"/>\n      <use x=\"551.9375\" xlink:href=\"#DejaVuSans-101\"/>\n      <use x=\"613.460938\" xlink:href=\"#DejaVuSans-118\"/>\n      <use x=\"672.640625\" xlink:href=\"#DejaVuSans-105\"/>\n      <use x=\"700.423828\" xlink:href=\"#DejaVuSans-97\"/>\n      <use x=\"761.703125\" xlink:href=\"#DejaVuSans-116\"/>\n      <use x=\"800.912109\" xlink:href=\"#DejaVuSans-105\"/>\n      <use x=\"828.695312\" xlink:href=\"#DejaVuSans-111\"/>\n      <use x=\"889.876953\" xlink:href=\"#DejaVuSans-110\"/>\n     </g>\n    </g>\n   </g>\n   <g id=\"matplotlib.axis_2\">\n    <g id=\"ytick_1\">\n     <g id=\"line2d_7\">\n      <defs>\n       <path d=\"M 0 0 \nL -3.5 0 \n\" id=\"m62c134a511\" style=\"stroke:#000000;stroke-width:0.8;\"/>\n      </defs>\n      <g>\n       <use style=\"stroke:#000000;stroke-width:0.8;\" x=\"43.78125\" xlink:href=\"#m62c134a511\" y=\"194.114756\"/>\n      </g>\n     </g>\n     <g id=\"text_8\">\n      <!-- 0.5 -->\n      <g transform=\"translate(20.878125 197.913975)scale(0.1 -0.1)\">\n       <use xlink:href=\"#DejaVuSans-48\"/>\n       <use x=\"63.623047\" xlink:href=\"#DejaVuSans-46\"/>\n       <use x=\"95.410156\" xlink:href=\"#DejaVuSans-53\"/>\n      </g>\n     </g>\n    </g>\n    <g id=\"ytick_2\">\n     <g id=\"line2d_8\">\n      <g>\n       <use style=\"stroke:#000000;stroke-width:0.8;\" x=\"43.78125\" xlink:href=\"#m62c134a511\" y=\"145.952838\"/>\n      </g>\n     </g>\n     <g id=\"text_9\">\n      <!-- 1.0 -->\n      <g transform=\"translate(20.878125 149.752057)scale(0.1 -0.1)\">\n       <use xlink:href=\"#DejaVuSans-49\"/>\n       <use x=\"63.623047\" xlink:href=\"#DejaVuSans-46\"/>\n       <use x=\"95.410156\" xlink:href=\"#DejaVuSans-48\"/>\n      </g>\n     </g>\n    </g>\n    <g id=\"ytick_3\">\n     <g id=\"line2d_9\">\n      <g>\n       <use style=\"stroke:#000000;stroke-width:0.8;\" x=\"43.78125\" xlink:href=\"#m62c134a511\" y=\"97.790919\"/>\n      </g>\n     </g>\n     <g id=\"text_10\">\n      <!-- 1.5 -->\n      <g transform=\"translate(20.878125 101.590138)scale(0.1 -0.1)\">\n       <use xlink:href=\"#DejaVuSans-49\"/>\n       <use x=\"63.623047\" xlink:href=\"#DejaVuSans-46\"/>\n       <use x=\"95.410156\" xlink:href=\"#DejaVuSans-53\"/>\n      </g>\n     </g>\n    </g>\n    <g id=\"ytick_4\">\n     <g id=\"line2d_10\">\n      <g>\n       <use style=\"stroke:#000000;stroke-width:0.8;\" x=\"43.78125\" xlink:href=\"#m62c134a511\" y=\"49.629001\"/>\n      </g>\n     </g>\n     <g id=\"text_11\">\n      <!-- 2.0 -->\n      <g transform=\"translate(20.878125 53.428219)scale(0.1 -0.1)\">\n       <use xlink:href=\"#DejaVuSans-50\"/>\n       <use x=\"63.623047\" xlink:href=\"#DejaVuSans-46\"/>\n       <use x=\"95.410156\" xlink:href=\"#DejaVuSans-48\"/>\n      </g>\n     </g>\n    </g>\n    <g id=\"text_12\">\n     <!-- Return -->\n     <defs>\n      <path d=\"M 44.390625 34.1875 \nQ 47.5625 33.109375 50.5625 29.59375 \nQ 53.5625 26.078125 56.59375 19.921875 \nL 66.609375 0 \nL 56 0 \nL 46.6875 18.703125 \nQ 43.0625 26.03125 39.671875 28.421875 \nQ 36.28125 30.8125 30.421875 30.8125 \nL 19.671875 30.8125 \nL 19.671875 0 \nL 9.8125 0 \nL 9.8125 72.90625 \nL 32.078125 72.90625 \nQ 44.578125 72.90625 50.734375 67.671875 \nQ 56.890625 62.453125 56.890625 51.90625 \nQ 56.890625 45.015625 53.6875 40.46875 \nQ 50.484375 35.9375 44.390625 34.1875 \nz\nM 19.671875 64.796875 \nL 19.671875 38.921875 \nL 32.078125 38.921875 \nQ 39.203125 38.921875 42.84375 42.21875 \nQ 46.484375 45.515625 46.484375 51.90625 \nQ 46.484375 58.296875 42.84375 61.546875 \nQ 39.203125 64.796875 32.078125 64.796875 \nz\n\" id=\"DejaVuSans-82\"/>\n      <path d=\"M 8.5 21.578125 \nL 8.5 54.6875 \nL 17.484375 54.6875 \nL 17.484375 21.921875 \nQ 17.484375 14.15625 20.5 10.265625 \nQ 23.53125 6.390625 29.59375 6.390625 \nQ 36.859375 6.390625 41.078125 11.03125 \nQ 45.3125 15.671875 45.3125 23.6875 \nL 45.3125 54.6875 \nL 54.296875 54.6875 \nL 54.296875 0 \nL 45.3125 0 \nL 45.3125 8.40625 \nQ 42.046875 3.421875 37.71875 1 \nQ 33.40625 -1.421875 27.6875 -1.421875 \nQ 18.265625 -1.421875 13.375 4.4375 \nQ 8.5 10.296875 8.5 21.578125 \nz\nM 31.109375 56 \nz\n\" id=\"DejaVuSans-117\"/>\n     </defs>\n     <g transform=\"translate(14.798438 136.32)rotate(-90)scale(0.1 -0.1)\">\n      <use xlink:href=\"#DejaVuSans-82\"/>\n      <use x=\"69.419922\" xlink:href=\"#DejaVuSans-101\"/>\n      <use x=\"130.943359\" xlink:href=\"#DejaVuSans-116\"/>\n      <use x=\"170.152344\" xlink:href=\"#DejaVuSans-117\"/>\n      <use x=\"233.53125\" xlink:href=\"#DejaVuSans-114\"/>\n      <use x=\"274.628906\" xlink:href=\"#DejaVuSans-110\"/>\n     </g>\n    </g>\n   </g>\n   <g id=\"line2d_11\">\n    <path clip-path=\"url(#p0e814ad8d6)\" d=\"M 285.510086 20.583636 \nL 285.510086 20.583636 \nL 285.510086 20.583636 \nL 285.510086 20.583636 \nL 285.510086 20.583636 \nL 285.510086 20.583636 \nL 285.510086 20.583636 \nL 285.510086 20.583636 \nL 285.510086 20.583636 \nL 285.510086 20.583636 \nL 285.510086 20.583636 \nL 285.510086 20.583636 \nL 285.510086 20.583636 \nL 285.510086 20.583636 \nL 285.510086 20.583636 \nL 273.526714 23.647641 \nL 261.341207 26.949595 \nL 251.224658 29.889044 \nL 242.878527 32.505786 \nL 229.916643 36.895651 \nL 216.158762 41.757701 \nL 202.750878 46.734807 \nL 188.222614 52.346459 \nL 174.194996 57.910928 \nL 162.08378 62.864501 \nL 151.684622 67.274247 \nL 142.809042 71.19987 \nL 135.28221 74.694518 \nL 128.941517 77.805507 \nL 123.635896 80.574956 \nL 119.225738 83.040361 \nL 115.583176 85.235102 \nL 112.592476 87.188894 \nL 109.773635 89.206541 \nL 104.909532 92.922365 \nL 100.146628 96.782538 \nL 96.07621 100.281626 \nL 92.68405 103.396567 \nL 89.834443 106.211566 \nL 84.734022 111.541734 \nL 80.376055 116.286729 \nL 76.676025 120.510796 \nL 73.555344 124.271123 \nL 70.940963 127.618624 \nL 68.765289 130.598619 \nL 66.966304 133.251456 \nL 65.487743 135.613051 \nL 64.27925 137.715379 \nL 63.296393 139.586903 \nL 62.500535 141.252962 \nL 61.858529 142.736113 \nL 61.3423 144.056436 \nL 60.928327 145.231807 \nL 60.426549 146.821425 \nL 59.974942 148.400715 \nL 59.639709 149.69865 \nL 59.507736 150.271444 \nL 59.402818 150.781353 \nL 59.319463 151.235281 \nL 59.253272 151.639376 \nL 59.200734 151.999106 \nL 59.159045 152.319344 \nL 59.125975 152.604425 \nL 59.099746 152.858208 \nL 59.078946 153.084129 \nL 59.062455 153.285248 \nL 59.049381 153.464287 \nL 59.039016 153.62367 \nL 59.0308 153.765555 \nL 59.024288 153.891863 \nL 59.019127 154.004305 \nL 59.015036 154.104402 \nL 59.011793 154.19351 \nL 59.009224 154.272836 \nL 59.007187 154.343452 \nL 59.005573 154.406316 \nL 59.004294 154.462279 \nL 59.00328 154.512097 \nL 59.002477 154.556447 \nL 59.00184 154.595927 \nL 59.001336 154.631073 \nL 59.000936 154.662361 \nL 59.000619 154.690213 \nL 59.000368 154.715008 \nL 59.000169 154.737081 \nL 59.000011 154.75673 \nL 58.999886 154.774223 \nL 58.999787 154.789795 \nL 58.999708 154.803657 \nL 58.999646 154.815997 \nL 58.999597 154.826983 \nL 58.999558 154.836763 \nL 58.999527 154.845469 \nL 58.999502 154.853219 \nL 58.999483 154.860118 \nL 58.999467 154.86626 \nL 58.999455 154.871728 \nL 58.999446 154.876595 \nL 58.999438 154.880928 \nL 58.999432 154.884785 \n\" style=\"fill:none;stroke:#008000;stroke-linecap:square;stroke-width:1.5;\"/>\n   </g>\n   <g id=\"line2d_12\">\n    <defs>\n     <path d=\"M -3 3 \nL 3 3 \nL 3 -3 \nL -3 -3 \nz\n\" id=\"mc3c3b47ed6\" style=\"stroke:#0000ff;stroke-linejoin:miter;\"/>\n    </defs>\n    <g clip-path=\"url(#p0e814ad8d6)\">\n     <use style=\"fill:#0000ff;stroke:#0000ff;stroke-linejoin:miter;\" x=\"123.635896\" xlink:href=\"#mc3c3b47ed6\" y=\"80.574956\"/>\n    </g>\n   </g>\n   <g id=\"line2d_13\">\n    <g clip-path=\"url(#p0e814ad8d6)\">\n     <use style=\"fill:#0000ff;stroke:#0000ff;stroke-linejoin:miter;\" x=\"80.376055\" xlink:href=\"#mc3c3b47ed6\" y=\"116.286729\"/>\n    </g>\n   </g>\n   <g id=\"line2d_14\">\n    <defs>\n     <path d=\"M 0 3 \nC 0.795609 3 1.55874 2.683901 2.12132 2.12132 \nC 2.683901 1.55874 3 0.795609 3 0 \nC 3 -0.795609 2.683901 -1.55874 2.12132 -2.12132 \nC 1.55874 -2.683901 0.795609 -3 0 -3 \nC -0.795609 -3 -1.55874 -2.683901 -2.12132 -2.12132 \nC -2.683901 -1.55874 -3 -0.795609 -3 0 \nC -3 0.795609 -2.683901 1.55874 -2.12132 2.12132 \nC -1.55874 2.683901 -0.795609 3 0 3 \nz\n\" id=\"mf0d6f0fcaf\" style=\"stroke:#ff0000;\"/>\n    </defs>\n    <g clip-path=\"url(#p0e814ad8d6)\">\n     <use style=\"fill:#ff0000;stroke:#ff0000;\" x=\"318.070062\" xlink:href=\"#mf0d6f0fcaf\" y=\"85.813497\"/>\n    </g>\n   </g>\n   <g id=\"line2d_15\">\n    <g clip-path=\"url(#p0e814ad8d6)\">\n     <use style=\"fill:#ff0000;stroke:#ff0000;\" x=\"347.415783\" xlink:href=\"#mf0d6f0fcaf\" y=\"183.34995\"/>\n    </g>\n   </g>\n   <g id=\"line2d_16\">\n    <g clip-path=\"url(#p0e814ad8d6)\">\n     <use style=\"fill:#ff0000;stroke:#ff0000;\" x=\"224.492521\" xlink:href=\"#mf0d6f0fcaf\" y=\"191.401145\"/>\n    </g>\n   </g>\n   <g id=\"line2d_17\">\n    <g clip-path=\"url(#p0e814ad8d6)\">\n     <use style=\"fill:#ff0000;stroke:#ff0000;\" x=\"271.393448\" xlink:href=\"#mf0d6f0fcaf\" y=\"138.92422\"/>\n    </g>\n   </g>\n   <g id=\"line2d_18\">\n    <g clip-path=\"url(#p0e814ad8d6)\">\n     <use style=\"fill:#ff0000;stroke:#ff0000;\" x=\"236.397883\" xlink:href=\"#mf0d6f0fcaf\" y=\"158.917291\"/>\n    </g>\n   </g>\n   <g id=\"line2d_19\">\n    <g clip-path=\"url(#p0e814ad8d6)\">\n     <use style=\"fill:#ff0000;stroke:#ff0000;\" x=\"285.510086\" xlink:href=\"#mf0d6f0fcaf\" y=\"20.583636\"/>\n    </g>\n   </g>\n   <g id=\"line2d_20\">\n    <g clip-path=\"url(#p0e814ad8d6)\">\n     <use style=\"fill:#ff0000;stroke:#ff0000;\" x=\"240.662644\" xlink:href=\"#mf0d6f0fcaf\" y=\"74.209711\"/>\n    </g>\n   </g>\n   <g id=\"line2d_21\">\n    <g clip-path=\"url(#p0e814ad8d6)\">\n     <use style=\"fill:#ff0000;stroke:#ff0000;\" x=\"363.363068\" xlink:href=\"#mf0d6f0fcaf\" y=\"168.954305\"/>\n    </g>\n   </g>\n   <g id=\"line2d_22\">\n    <g clip-path=\"url(#p0e814ad8d6)\">\n     <use style=\"fill:#ff0000;stroke:#ff0000;\" x=\"316.792125\" xlink:href=\"#mf0d6f0fcaf\" y=\"211.545605\"/>\n    </g>\n   </g>\n   <g id=\"line2d_23\">\n    <g clip-path=\"url(#p0e814ad8d6)\">\n     <use style=\"fill:#ff0000;stroke:#ff0000;\" x=\"286.705433\" xlink:href=\"#mf0d6f0fcaf\" y=\"218.256364\"/>\n    </g>\n   </g>\n   <g id=\"patch_3\">\n    <path d=\"M 43.78125 228.14 \nL 43.78125 10.7 \n\" style=\"fill:none;stroke:#000000;stroke-linecap:square;stroke-linejoin:miter;stroke-width:0.8;\"/>\n   </g>\n   <g id=\"patch_4\">\n    <path d=\"M 378.58125 228.14 \nL 378.58125 10.7 \n\" style=\"fill:none;stroke:#000000;stroke-linecap:square;stroke-linejoin:miter;stroke-width:0.8;\"/>\n   </g>\n   <g id=\"patch_5\">\n    <path d=\"M 43.78125 228.14 \nL 378.58125 228.14 \n\" style=\"fill:none;stroke:#000000;stroke-linecap:square;stroke-linejoin:miter;stroke-width:0.8;\"/>\n   </g>\n   <g id=\"patch_6\">\n    <path d=\"M 43.78125 10.7 \nL 378.58125 10.7 \n\" style=\"fill:none;stroke:#000000;stroke-linecap:square;stroke-linejoin:miter;stroke-width:0.8;\"/>\n   </g>\n   <g id=\"text_13\">\n    <!-- $\\gamma = 0.29$ -->\n    <defs>\n     <path d=\"M 23.296875 46.09375 \nL 28.71875 12.3125 \nL 54 54.6875 \nL 63.53125 54.6875 \nL 30.8125 0 \nL 26.765625 -20.796875 \nL 17.78125 -20.796875 \nL 21.828125 0 \nL 15.4375 40.828125 \nQ 14.453125 46.96875 9.8125 46.96875 \nL 7.421875 46.96875 \nL 8.890625 54.6875 \nL 12.3125 54.6875 \nQ 21.921875 54.6875 23.296875 46.09375 \nz\n\" id=\"DejaVuSans-Oblique-947\"/>\n     <path d=\"M 10.59375 45.40625 \nL 73.1875 45.40625 \nL 73.1875 37.203125 \nL 10.59375 37.203125 \nz\nM 10.59375 25.484375 \nL 73.1875 25.484375 \nL 73.1875 17.1875 \nL 10.59375 17.1875 \nz\n\" id=\"DejaVuSans-61\"/>\n     <path d=\"M 10.984375 1.515625 \nL 10.984375 10.5 \nQ 14.703125 8.734375 18.5 7.8125 \nQ 22.3125 6.890625 25.984375 6.890625 \nQ 35.75 6.890625 40.890625 13.453125 \nQ 46.046875 20.015625 46.78125 33.40625 \nQ 43.953125 29.203125 39.59375 26.953125 \nQ 35.25 24.703125 29.984375 24.703125 \nQ 19.046875 24.703125 12.671875 31.3125 \nQ 6.296875 37.9375 6.296875 49.421875 \nQ 6.296875 60.640625 12.9375 67.421875 \nQ 19.578125 74.21875 30.609375 74.21875 \nQ 43.265625 74.21875 49.921875 64.515625 \nQ 56.59375 54.828125 56.59375 36.375 \nQ 56.59375 19.140625 48.40625 8.859375 \nQ 40.234375 -1.421875 26.421875 -1.421875 \nQ 22.703125 -1.421875 18.890625 -0.6875 \nQ 15.09375 0.046875 10.984375 1.515625 \nz\nM 30.609375 32.421875 \nQ 37.25 32.421875 41.125 36.953125 \nQ 45.015625 41.5 45.015625 49.421875 \nQ 45.015625 57.28125 41.125 61.84375 \nQ 37.25 66.40625 30.609375 66.40625 \nQ 23.96875 66.40625 20.09375 61.84375 \nQ 16.21875 57.28125 16.21875 49.421875 \nQ 16.21875 41.5 20.09375 36.953125 \nQ 23.96875 32.421875 30.609375 32.421875 \nz\n\" id=\"DejaVuSans-57\"/>\n    </defs>\n    <g transform=\"translate(131.857786 83.464671)scale(0.1 -0.1)\">\n     <use transform=\"translate(0 0.78125)\" xlink:href=\"#DejaVuSans-Oblique-947\"/>\n     <use transform=\"translate(78.662109 0.78125)\" xlink:href=\"#DejaVuSans-61\"/>\n     <use transform=\"translate(181.933594 0.78125)\" xlink:href=\"#DejaVuSans-48\"/>\n     <use transform=\"translate(245.556641 0.78125)\" xlink:href=\"#DejaVuSans-46\"/>\n     <use transform=\"translate(277.265625 0.78125)\" xlink:href=\"#DejaVuSans-50\"/>\n     <use transform=\"translate(340.873047 0.78125)\" xlink:href=\"#DejaVuSans-57\"/>\n    </g>\n   </g>\n   <g id=\"text_14\">\n    <!-- $\\gamma = 1.05$ -->\n    <g transform=\"translate(88.597944 119.176444)scale(0.1 -0.1)\">\n     <use transform=\"translate(0 0.78125)\" xlink:href=\"#DejaVuSans-Oblique-947\"/>\n     <use transform=\"translate(78.662109 0.78125)\" xlink:href=\"#DejaVuSans-61\"/>\n     <use transform=\"translate(181.933594 0.78125)\" xlink:href=\"#DejaVuSans-49\"/>\n     <use transform=\"translate(245.556641 0.78125)\" xlink:href=\"#DejaVuSans-46\"/>\n     <use transform=\"translate(277.34375 0.78125)\" xlink:href=\"#DejaVuSans-48\"/>\n     <use transform=\"translate(340.966797 0.78125)\" xlink:href=\"#DejaVuSans-53\"/>\n    </g>\n   </g>\n  </g>\n </g>\n <defs>\n  <clipPath id=\"p0e814ad8d6\">\n   <rect height=\"217.44\" width=\"334.8\" x=\"43.78125\" y=\"10.7\"/>\n  </clipPath>\n </defs>\n</svg>\n",
            "text/plain": [
              "<Figure size 432x288 with 1 Axes>"
            ]
          },
          "metadata": {
            "tags": [],
            "needs_background": "light"
          }
        }
      ]
    },
    {
      "cell_type": "markdown",
      "metadata": {
        "id": "AkGyiVQNvRPj",
        "colab_type": "text"
      },
      "source": [
        "We plot below the return distributions for the two risk aversion values marked on the trade-off curve.\n",
        "Notice that the probability of a loss is near 0 for the low risk value and far above 0 for the high risk value."
      ]
    },
    {
      "cell_type": "code",
      "metadata": {
        "id": "i8dnpLocvRPk",
        "colab_type": "code",
        "outputId": "7eee7795-982f-49a4-f88a-edc6f81ded1b",
        "colab": {}
      },
      "source": [
        "# Plot return distributions for two points on the trade-off curve.\n",
        "import scipy.stats as spstats\n",
        "\n",
        "\n",
        "plt.figure()\n",
        "for midx, idx in enumerate(markers_on):\n",
        "    gamma.value = gamma_vals[idx]\n",
        "    prob.solve()\n",
        "    x = np.linspace(-2, 5, 1000)\n",
        "    plt.plot(x, spstats.norm.pdf(x, ret.value, risk.value), label=r\"$\\gamma = %.2f$\" % gamma.value)\n",
        "\n",
        "plt.xlabel('Return')\n",
        "plt.ylabel('Density')\n",
        "plt.legend(loc='upper right')\n",
        "plt.show()"
      ],
      "execution_count": 0,
      "outputs": [
        {
          "output_type": "display_data",
          "data": {
            "image/svg+xml": "<?xml version=\"1.0\" encoding=\"utf-8\" standalone=\"no\"?>\n<!DOCTYPE svg PUBLIC \"-//W3C//DTD SVG 1.1//EN\"\n  \"http://www.w3.org/Graphics/SVG/1.1/DTD/svg11.dtd\">\n<!-- Created with matplotlib (https://matplotlib.org/) -->\n<svg height=\"265.69625pt\" version=\"1.1\" viewBox=\"0 0 389.28125 265.69625\" width=\"389.28125pt\" xmlns=\"http://www.w3.org/2000/svg\" xmlns:xlink=\"http://www.w3.org/1999/xlink\">\n <defs>\n  <style type=\"text/css\">\n*{stroke-linecap:butt;stroke-linejoin:round;}\n  </style>\n </defs>\n <g id=\"figure_1\">\n  <g id=\"patch_1\">\n   <path d=\"M 0 265.69625 \nL 389.28125 265.69625 \nL 389.28125 0 \nL 0 0 \nz\n\" style=\"fill:none;\"/>\n  </g>\n  <g id=\"axes_1\">\n   <g id=\"patch_2\">\n    <path d=\"M 43.78125 228.14 \nL 378.58125 228.14 \nL 378.58125 10.7 \nL 43.78125 10.7 \nz\n\" style=\"fill:#ffffff;\"/>\n   </g>\n   <g id=\"matplotlib.axis_1\">\n    <g id=\"xtick_1\">\n     <g id=\"line2d_1\">\n      <defs>\n       <path d=\"M 0 0 \nL 0 3.5 \n\" id=\"m306d46cbbf\" style=\"stroke:#000000;stroke-width:0.8;\"/>\n      </defs>\n      <g>\n       <use style=\"stroke:#000000;stroke-width:0.8;\" x=\"58.999432\" xlink:href=\"#m306d46cbbf\" y=\"228.14\"/>\n      </g>\n     </g>\n     <g id=\"text_1\">\n      <!-- −2 -->\n      <defs>\n       <path d=\"M 10.59375 35.5 \nL 73.1875 35.5 \nL 73.1875 27.203125 \nL 10.59375 27.203125 \nz\n\" id=\"DejaVuSans-8722\"/>\n       <path d=\"M 19.1875 8.296875 \nL 53.609375 8.296875 \nL 53.609375 0 \nL 7.328125 0 \nL 7.328125 8.296875 \nQ 12.9375 14.109375 22.625 23.890625 \nQ 32.328125 33.6875 34.8125 36.53125 \nQ 39.546875 41.84375 41.421875 45.53125 \nQ 43.3125 49.21875 43.3125 52.78125 \nQ 43.3125 58.59375 39.234375 62.25 \nQ 35.15625 65.921875 28.609375 65.921875 \nQ 23.96875 65.921875 18.8125 64.3125 \nQ 13.671875 62.703125 7.8125 59.421875 \nL 7.8125 69.390625 \nQ 13.765625 71.78125 18.9375 73 \nQ 24.125 74.21875 28.421875 74.21875 \nQ 39.75 74.21875 46.484375 68.546875 \nQ 53.21875 62.890625 53.21875 53.421875 \nQ 53.21875 48.921875 51.53125 44.890625 \nQ 49.859375 40.875 45.40625 35.40625 \nQ 44.1875 33.984375 37.640625 27.21875 \nQ 31.109375 20.453125 19.1875 8.296875 \nz\n\" id=\"DejaVuSans-50\"/>\n      </defs>\n      <g transform=\"translate(51.628338 242.738437)scale(0.1 -0.1)\">\n       <use xlink:href=\"#DejaVuSans-8722\"/>\n       <use x=\"83.789062\" xlink:href=\"#DejaVuSans-50\"/>\n      </g>\n     </g>\n    </g>\n    <g id=\"xtick_2\">\n     <g id=\"line2d_2\">\n      <g>\n       <use style=\"stroke:#000000;stroke-width:0.8;\" x=\"102.479951\" xlink:href=\"#m306d46cbbf\" y=\"228.14\"/>\n      </g>\n     </g>\n     <g id=\"text_2\">\n      <!-- −1 -->\n      <defs>\n       <path d=\"M 12.40625 8.296875 \nL 28.515625 8.296875 \nL 28.515625 63.921875 \nL 10.984375 60.40625 \nL 10.984375 69.390625 \nL 28.421875 72.90625 \nL 38.28125 72.90625 \nL 38.28125 8.296875 \nL 54.390625 8.296875 \nL 54.390625 0 \nL 12.40625 0 \nz\n\" id=\"DejaVuSans-49\"/>\n      </defs>\n      <g transform=\"translate(95.108858 242.738437)scale(0.1 -0.1)\">\n       <use xlink:href=\"#DejaVuSans-8722\"/>\n       <use x=\"83.789062\" xlink:href=\"#DejaVuSans-49\"/>\n      </g>\n     </g>\n    </g>\n    <g id=\"xtick_3\">\n     <g id=\"line2d_3\">\n      <g>\n       <use style=\"stroke:#000000;stroke-width:0.8;\" x=\"145.960471\" xlink:href=\"#m306d46cbbf\" y=\"228.14\"/>\n      </g>\n     </g>\n     <g id=\"text_3\">\n      <!-- 0 -->\n      <defs>\n       <path d=\"M 31.78125 66.40625 \nQ 24.171875 66.40625 20.328125 58.90625 \nQ 16.5 51.421875 16.5 36.375 \nQ 16.5 21.390625 20.328125 13.890625 \nQ 24.171875 6.390625 31.78125 6.390625 \nQ 39.453125 6.390625 43.28125 13.890625 \nQ 47.125 21.390625 47.125 36.375 \nQ 47.125 51.421875 43.28125 58.90625 \nQ 39.453125 66.40625 31.78125 66.40625 \nz\nM 31.78125 74.21875 \nQ 44.046875 74.21875 50.515625 64.515625 \nQ 56.984375 54.828125 56.984375 36.375 \nQ 56.984375 17.96875 50.515625 8.265625 \nQ 44.046875 -1.421875 31.78125 -1.421875 \nQ 19.53125 -1.421875 13.0625 8.265625 \nQ 6.59375 17.96875 6.59375 36.375 \nQ 6.59375 54.828125 13.0625 64.515625 \nQ 19.53125 74.21875 31.78125 74.21875 \nz\n\" id=\"DejaVuSans-48\"/>\n      </defs>\n      <g transform=\"translate(142.779221 242.738437)scale(0.1 -0.1)\">\n       <use xlink:href=\"#DejaVuSans-48\"/>\n      </g>\n     </g>\n    </g>\n    <g id=\"xtick_4\">\n     <g id=\"line2d_4\">\n      <g>\n       <use style=\"stroke:#000000;stroke-width:0.8;\" x=\"189.44099\" xlink:href=\"#m306d46cbbf\" y=\"228.14\"/>\n      </g>\n     </g>\n     <g id=\"text_4\">\n      <!-- 1 -->\n      <g transform=\"translate(186.25974 242.738437)scale(0.1 -0.1)\">\n       <use xlink:href=\"#DejaVuSans-49\"/>\n      </g>\n     </g>\n    </g>\n    <g id=\"xtick_5\">\n     <g id=\"line2d_5\">\n      <g>\n       <use style=\"stroke:#000000;stroke-width:0.8;\" x=\"232.92151\" xlink:href=\"#m306d46cbbf\" y=\"228.14\"/>\n      </g>\n     </g>\n     <g id=\"text_5\">\n      <!-- 2 -->\n      <g transform=\"translate(229.74026 242.738437)scale(0.1 -0.1)\">\n       <use xlink:href=\"#DejaVuSans-50\"/>\n      </g>\n     </g>\n    </g>\n    <g id=\"xtick_6\">\n     <g id=\"line2d_6\">\n      <g>\n       <use style=\"stroke:#000000;stroke-width:0.8;\" x=\"276.402029\" xlink:href=\"#m306d46cbbf\" y=\"228.14\"/>\n      </g>\n     </g>\n     <g id=\"text_6\">\n      <!-- 3 -->\n      <defs>\n       <path d=\"M 40.578125 39.3125 \nQ 47.65625 37.796875 51.625 33 \nQ 55.609375 28.21875 55.609375 21.1875 \nQ 55.609375 10.40625 48.1875 4.484375 \nQ 40.765625 -1.421875 27.09375 -1.421875 \nQ 22.515625 -1.421875 17.65625 -0.515625 \nQ 12.796875 0.390625 7.625 2.203125 \nL 7.625 11.71875 \nQ 11.71875 9.328125 16.59375 8.109375 \nQ 21.484375 6.890625 26.8125 6.890625 \nQ 36.078125 6.890625 40.9375 10.546875 \nQ 45.796875 14.203125 45.796875 21.1875 \nQ 45.796875 27.640625 41.28125 31.265625 \nQ 36.765625 34.90625 28.71875 34.90625 \nL 20.21875 34.90625 \nL 20.21875 43.015625 \nL 29.109375 43.015625 \nQ 36.375 43.015625 40.234375 45.921875 \nQ 44.09375 48.828125 44.09375 54.296875 \nQ 44.09375 59.90625 40.109375 62.90625 \nQ 36.140625 65.921875 28.71875 65.921875 \nQ 24.65625 65.921875 20.015625 65.03125 \nQ 15.375 64.15625 9.8125 62.3125 \nL 9.8125 71.09375 \nQ 15.4375 72.65625 20.34375 73.4375 \nQ 25.25 74.21875 29.59375 74.21875 \nQ 40.828125 74.21875 47.359375 69.109375 \nQ 53.90625 64.015625 53.90625 55.328125 \nQ 53.90625 49.265625 50.4375 45.09375 \nQ 46.96875 40.921875 40.578125 39.3125 \nz\n\" id=\"DejaVuSans-51\"/>\n      </defs>\n      <g transform=\"translate(273.220779 242.738437)scale(0.1 -0.1)\">\n       <use xlink:href=\"#DejaVuSans-51\"/>\n      </g>\n     </g>\n    </g>\n    <g id=\"xtick_7\">\n     <g id=\"line2d_7\">\n      <g>\n       <use style=\"stroke:#000000;stroke-width:0.8;\" x=\"319.882549\" xlink:href=\"#m306d46cbbf\" y=\"228.14\"/>\n      </g>\n     </g>\n     <g id=\"text_7\">\n      <!-- 4 -->\n      <defs>\n       <path d=\"M 37.796875 64.3125 \nL 12.890625 25.390625 \nL 37.796875 25.390625 \nz\nM 35.203125 72.90625 \nL 47.609375 72.90625 \nL 47.609375 25.390625 \nL 58.015625 25.390625 \nL 58.015625 17.1875 \nL 47.609375 17.1875 \nL 47.609375 0 \nL 37.796875 0 \nL 37.796875 17.1875 \nL 4.890625 17.1875 \nL 4.890625 26.703125 \nz\n\" id=\"DejaVuSans-52\"/>\n      </defs>\n      <g transform=\"translate(316.701299 242.738437)scale(0.1 -0.1)\">\n       <use xlink:href=\"#DejaVuSans-52\"/>\n      </g>\n     </g>\n    </g>\n    <g id=\"xtick_8\">\n     <g id=\"line2d_8\">\n      <g>\n       <use style=\"stroke:#000000;stroke-width:0.8;\" x=\"363.363068\" xlink:href=\"#m306d46cbbf\" y=\"228.14\"/>\n      </g>\n     </g>\n     <g id=\"text_8\">\n      <!-- 5 -->\n      <defs>\n       <path d=\"M 10.796875 72.90625 \nL 49.515625 72.90625 \nL 49.515625 64.59375 \nL 19.828125 64.59375 \nL 19.828125 46.734375 \nQ 21.96875 47.46875 24.109375 47.828125 \nQ 26.265625 48.1875 28.421875 48.1875 \nQ 40.625 48.1875 47.75 41.5 \nQ 54.890625 34.8125 54.890625 23.390625 \nQ 54.890625 11.625 47.5625 5.09375 \nQ 40.234375 -1.421875 26.90625 -1.421875 \nQ 22.3125 -1.421875 17.546875 -0.640625 \nQ 12.796875 0.140625 7.71875 1.703125 \nL 7.71875 11.625 \nQ 12.109375 9.234375 16.796875 8.0625 \nQ 21.484375 6.890625 26.703125 6.890625 \nQ 35.15625 6.890625 40.078125 11.328125 \nQ 45.015625 15.765625 45.015625 23.390625 \nQ 45.015625 31 40.078125 35.4375 \nQ 35.15625 39.890625 26.703125 39.890625 \nQ 22.75 39.890625 18.8125 39.015625 \nQ 14.890625 38.140625 10.796875 36.28125 \nz\n\" id=\"DejaVuSans-53\"/>\n      </defs>\n      <g transform=\"translate(360.181818 242.738437)scale(0.1 -0.1)\">\n       <use xlink:href=\"#DejaVuSans-53\"/>\n      </g>\n     </g>\n    </g>\n    <g id=\"text_9\">\n     <!-- Return -->\n     <defs>\n      <path d=\"M 44.390625 34.1875 \nQ 47.5625 33.109375 50.5625 29.59375 \nQ 53.5625 26.078125 56.59375 19.921875 \nL 66.609375 0 \nL 56 0 \nL 46.6875 18.703125 \nQ 43.0625 26.03125 39.671875 28.421875 \nQ 36.28125 30.8125 30.421875 30.8125 \nL 19.671875 30.8125 \nL 19.671875 0 \nL 9.8125 0 \nL 9.8125 72.90625 \nL 32.078125 72.90625 \nQ 44.578125 72.90625 50.734375 67.671875 \nQ 56.890625 62.453125 56.890625 51.90625 \nQ 56.890625 45.015625 53.6875 40.46875 \nQ 50.484375 35.9375 44.390625 34.1875 \nz\nM 19.671875 64.796875 \nL 19.671875 38.921875 \nL 32.078125 38.921875 \nQ 39.203125 38.921875 42.84375 42.21875 \nQ 46.484375 45.515625 46.484375 51.90625 \nQ 46.484375 58.296875 42.84375 61.546875 \nQ 39.203125 64.796875 32.078125 64.796875 \nz\n\" id=\"DejaVuSans-82\"/>\n      <path d=\"M 56.203125 29.59375 \nL 56.203125 25.203125 \nL 14.890625 25.203125 \nQ 15.484375 15.921875 20.484375 11.0625 \nQ 25.484375 6.203125 34.421875 6.203125 \nQ 39.59375 6.203125 44.453125 7.46875 \nQ 49.3125 8.734375 54.109375 11.28125 \nL 54.109375 2.78125 \nQ 49.265625 0.734375 44.1875 -0.34375 \nQ 39.109375 -1.421875 33.890625 -1.421875 \nQ 20.796875 -1.421875 13.15625 6.1875 \nQ 5.515625 13.8125 5.515625 26.8125 \nQ 5.515625 40.234375 12.765625 48.109375 \nQ 20.015625 56 32.328125 56 \nQ 43.359375 56 49.78125 48.890625 \nQ 56.203125 41.796875 56.203125 29.59375 \nz\nM 47.21875 32.234375 \nQ 47.125 39.59375 43.09375 43.984375 \nQ 39.0625 48.390625 32.421875 48.390625 \nQ 24.90625 48.390625 20.390625 44.140625 \nQ 15.875 39.890625 15.1875 32.171875 \nz\n\" id=\"DejaVuSans-101\"/>\n      <path d=\"M 18.3125 70.21875 \nL 18.3125 54.6875 \nL 36.8125 54.6875 \nL 36.8125 47.703125 \nL 18.3125 47.703125 \nL 18.3125 18.015625 \nQ 18.3125 11.328125 20.140625 9.421875 \nQ 21.96875 7.515625 27.59375 7.515625 \nL 36.8125 7.515625 \nL 36.8125 0 \nL 27.59375 0 \nQ 17.1875 0 13.234375 3.875 \nQ 9.28125 7.765625 9.28125 18.015625 \nL 9.28125 47.703125 \nL 2.6875 47.703125 \nL 2.6875 54.6875 \nL 9.28125 54.6875 \nL 9.28125 70.21875 \nz\n\" id=\"DejaVuSans-116\"/>\n      <path d=\"M 8.5 21.578125 \nL 8.5 54.6875 \nL 17.484375 54.6875 \nL 17.484375 21.921875 \nQ 17.484375 14.15625 20.5 10.265625 \nQ 23.53125 6.390625 29.59375 6.390625 \nQ 36.859375 6.390625 41.078125 11.03125 \nQ 45.3125 15.671875 45.3125 23.6875 \nL 45.3125 54.6875 \nL 54.296875 54.6875 \nL 54.296875 0 \nL 45.3125 0 \nL 45.3125 8.40625 \nQ 42.046875 3.421875 37.71875 1 \nQ 33.40625 -1.421875 27.6875 -1.421875 \nQ 18.265625 -1.421875 13.375 4.4375 \nQ 8.5 10.296875 8.5 21.578125 \nz\nM 31.109375 56 \nz\n\" id=\"DejaVuSans-117\"/>\n      <path d=\"M 41.109375 46.296875 \nQ 39.59375 47.171875 37.8125 47.578125 \nQ 36.03125 48 33.890625 48 \nQ 26.265625 48 22.1875 43.046875 \nQ 18.109375 38.09375 18.109375 28.8125 \nL 18.109375 0 \nL 9.078125 0 \nL 9.078125 54.6875 \nL 18.109375 54.6875 \nL 18.109375 46.1875 \nQ 20.953125 51.171875 25.484375 53.578125 \nQ 30.03125 56 36.53125 56 \nQ 37.453125 56 38.578125 55.875 \nQ 39.703125 55.765625 41.0625 55.515625 \nz\n\" id=\"DejaVuSans-114\"/>\n      <path d=\"M 54.890625 33.015625 \nL 54.890625 0 \nL 45.90625 0 \nL 45.90625 32.71875 \nQ 45.90625 40.484375 42.875 44.328125 \nQ 39.84375 48.1875 33.796875 48.1875 \nQ 26.515625 48.1875 22.3125 43.546875 \nQ 18.109375 38.921875 18.109375 30.90625 \nL 18.109375 0 \nL 9.078125 0 \nL 9.078125 54.6875 \nL 18.109375 54.6875 \nL 18.109375 46.1875 \nQ 21.34375 51.125 25.703125 53.5625 \nQ 30.078125 56 35.796875 56 \nQ 45.21875 56 50.046875 50.171875 \nQ 54.890625 44.34375 54.890625 33.015625 \nz\n\" id=\"DejaVuSans-110\"/>\n     </defs>\n     <g transform=\"translate(194.28125 256.416562)scale(0.1 -0.1)\">\n      <use xlink:href=\"#DejaVuSans-82\"/>\n      <use x=\"69.419922\" xlink:href=\"#DejaVuSans-101\"/>\n      <use x=\"130.943359\" xlink:href=\"#DejaVuSans-116\"/>\n      <use x=\"170.152344\" xlink:href=\"#DejaVuSans-117\"/>\n      <use x=\"233.53125\" xlink:href=\"#DejaVuSans-114\"/>\n      <use x=\"274.628906\" xlink:href=\"#DejaVuSans-110\"/>\n     </g>\n    </g>\n   </g>\n   <g id=\"matplotlib.axis_2\">\n    <g id=\"ytick_1\">\n     <g id=\"line2d_9\">\n      <defs>\n       <path d=\"M 0 0 \nL -3.5 0 \n\" id=\"m3ba6161134\" style=\"stroke:#000000;stroke-width:0.8;\"/>\n      </defs>\n      <g>\n       <use style=\"stroke:#000000;stroke-width:0.8;\" x=\"43.78125\" xlink:href=\"#m3ba6161134\" y=\"218.256364\"/>\n      </g>\n     </g>\n     <g id=\"text_10\">\n      <!-- 0.0 -->\n      <defs>\n       <path d=\"M 10.6875 12.40625 \nL 21 12.40625 \nL 21 0 \nL 10.6875 0 \nz\n\" id=\"DejaVuSans-46\"/>\n      </defs>\n      <g transform=\"translate(20.878125 222.055582)scale(0.1 -0.1)\">\n       <use xlink:href=\"#DejaVuSans-48\"/>\n       <use x=\"63.623047\" xlink:href=\"#DejaVuSans-46\"/>\n       <use x=\"95.410156\" xlink:href=\"#DejaVuSans-48\"/>\n      </g>\n     </g>\n    </g>\n    <g id=\"ytick_2\">\n     <g id=\"line2d_10\">\n      <g>\n       <use style=\"stroke:#000000;stroke-width:0.8;\" x=\"43.78125\" xlink:href=\"#m3ba6161134\" y=\"186.34734\"/>\n      </g>\n     </g>\n     <g id=\"text_11\">\n      <!-- 0.2 -->\n      <g transform=\"translate(20.878125 190.146559)scale(0.1 -0.1)\">\n       <use xlink:href=\"#DejaVuSans-48\"/>\n       <use x=\"63.623047\" xlink:href=\"#DejaVuSans-46\"/>\n       <use x=\"95.410156\" xlink:href=\"#DejaVuSans-50\"/>\n      </g>\n     </g>\n    </g>\n    <g id=\"ytick_3\">\n     <g id=\"line2d_11\">\n      <g>\n       <use style=\"stroke:#000000;stroke-width:0.8;\" x=\"43.78125\" xlink:href=\"#m3ba6161134\" y=\"154.438316\"/>\n      </g>\n     </g>\n     <g id=\"text_12\">\n      <!-- 0.4 -->\n      <g transform=\"translate(20.878125 158.237535)scale(0.1 -0.1)\">\n       <use xlink:href=\"#DejaVuSans-48\"/>\n       <use x=\"63.623047\" xlink:href=\"#DejaVuSans-46\"/>\n       <use x=\"95.410156\" xlink:href=\"#DejaVuSans-52\"/>\n      </g>\n     </g>\n    </g>\n    <g id=\"ytick_4\">\n     <g id=\"line2d_12\">\n      <g>\n       <use style=\"stroke:#000000;stroke-width:0.8;\" x=\"43.78125\" xlink:href=\"#m3ba6161134\" y=\"122.529292\"/>\n      </g>\n     </g>\n     <g id=\"text_13\">\n      <!-- 0.6 -->\n      <defs>\n       <path d=\"M 33.015625 40.375 \nQ 26.375 40.375 22.484375 35.828125 \nQ 18.609375 31.296875 18.609375 23.390625 \nQ 18.609375 15.53125 22.484375 10.953125 \nQ 26.375 6.390625 33.015625 6.390625 \nQ 39.65625 6.390625 43.53125 10.953125 \nQ 47.40625 15.53125 47.40625 23.390625 \nQ 47.40625 31.296875 43.53125 35.828125 \nQ 39.65625 40.375 33.015625 40.375 \nz\nM 52.59375 71.296875 \nL 52.59375 62.3125 \nQ 48.875 64.0625 45.09375 64.984375 \nQ 41.3125 65.921875 37.59375 65.921875 \nQ 27.828125 65.921875 22.671875 59.328125 \nQ 17.53125 52.734375 16.796875 39.40625 \nQ 19.671875 43.65625 24.015625 45.921875 \nQ 28.375 48.1875 33.59375 48.1875 \nQ 44.578125 48.1875 50.953125 41.515625 \nQ 57.328125 34.859375 57.328125 23.390625 \nQ 57.328125 12.15625 50.6875 5.359375 \nQ 44.046875 -1.421875 33.015625 -1.421875 \nQ 20.359375 -1.421875 13.671875 8.265625 \nQ 6.984375 17.96875 6.984375 36.375 \nQ 6.984375 53.65625 15.1875 63.9375 \nQ 23.390625 74.21875 37.203125 74.21875 \nQ 40.921875 74.21875 44.703125 73.484375 \nQ 48.484375 72.75 52.59375 71.296875 \nz\n\" id=\"DejaVuSans-54\"/>\n      </defs>\n      <g transform=\"translate(20.878125 126.328511)scale(0.1 -0.1)\">\n       <use xlink:href=\"#DejaVuSans-48\"/>\n       <use x=\"63.623047\" xlink:href=\"#DejaVuSans-46\"/>\n       <use x=\"95.410156\" xlink:href=\"#DejaVuSans-54\"/>\n      </g>\n     </g>\n    </g>\n    <g id=\"ytick_5\">\n     <g id=\"line2d_13\">\n      <g>\n       <use style=\"stroke:#000000;stroke-width:0.8;\" x=\"43.78125\" xlink:href=\"#m3ba6161134\" y=\"90.620268\"/>\n      </g>\n     </g>\n     <g id=\"text_14\">\n      <!-- 0.8 -->\n      <defs>\n       <path d=\"M 31.78125 34.625 \nQ 24.75 34.625 20.71875 30.859375 \nQ 16.703125 27.09375 16.703125 20.515625 \nQ 16.703125 13.921875 20.71875 10.15625 \nQ 24.75 6.390625 31.78125 6.390625 \nQ 38.8125 6.390625 42.859375 10.171875 \nQ 46.921875 13.96875 46.921875 20.515625 \nQ 46.921875 27.09375 42.890625 30.859375 \nQ 38.875 34.625 31.78125 34.625 \nz\nM 21.921875 38.8125 \nQ 15.578125 40.375 12.03125 44.71875 \nQ 8.5 49.078125 8.5 55.328125 \nQ 8.5 64.0625 14.71875 69.140625 \nQ 20.953125 74.21875 31.78125 74.21875 \nQ 42.671875 74.21875 48.875 69.140625 \nQ 55.078125 64.0625 55.078125 55.328125 \nQ 55.078125 49.078125 51.53125 44.71875 \nQ 48 40.375 41.703125 38.8125 \nQ 48.828125 37.15625 52.796875 32.3125 \nQ 56.78125 27.484375 56.78125 20.515625 \nQ 56.78125 9.90625 50.3125 4.234375 \nQ 43.84375 -1.421875 31.78125 -1.421875 \nQ 19.734375 -1.421875 13.25 4.234375 \nQ 6.78125 9.90625 6.78125 20.515625 \nQ 6.78125 27.484375 10.78125 32.3125 \nQ 14.796875 37.15625 21.921875 38.8125 \nz\nM 18.3125 54.390625 \nQ 18.3125 48.734375 21.84375 45.5625 \nQ 25.390625 42.390625 31.78125 42.390625 \nQ 38.140625 42.390625 41.71875 45.5625 \nQ 45.3125 48.734375 45.3125 54.390625 \nQ 45.3125 60.0625 41.71875 63.234375 \nQ 38.140625 66.40625 31.78125 66.40625 \nQ 25.390625 66.40625 21.84375 63.234375 \nQ 18.3125 60.0625 18.3125 54.390625 \nz\n\" id=\"DejaVuSans-56\"/>\n      </defs>\n      <g transform=\"translate(20.878125 94.419487)scale(0.1 -0.1)\">\n       <use xlink:href=\"#DejaVuSans-48\"/>\n       <use x=\"63.623047\" xlink:href=\"#DejaVuSans-46\"/>\n       <use x=\"95.410156\" xlink:href=\"#DejaVuSans-56\"/>\n      </g>\n     </g>\n    </g>\n    <g id=\"ytick_6\">\n     <g id=\"line2d_14\">\n      <g>\n       <use style=\"stroke:#000000;stroke-width:0.8;\" x=\"43.78125\" xlink:href=\"#m3ba6161134\" y=\"58.711244\"/>\n      </g>\n     </g>\n     <g id=\"text_15\">\n      <!-- 1.0 -->\n      <g transform=\"translate(20.878125 62.510463)scale(0.1 -0.1)\">\n       <use xlink:href=\"#DejaVuSans-49\"/>\n       <use x=\"63.623047\" xlink:href=\"#DejaVuSans-46\"/>\n       <use x=\"95.410156\" xlink:href=\"#DejaVuSans-48\"/>\n      </g>\n     </g>\n    </g>\n    <g id=\"ytick_7\">\n     <g id=\"line2d_15\">\n      <g>\n       <use style=\"stroke:#000000;stroke-width:0.8;\" x=\"43.78125\" xlink:href=\"#m3ba6161134\" y=\"26.802221\"/>\n      </g>\n     </g>\n     <g id=\"text_16\">\n      <!-- 1.2 -->\n      <g transform=\"translate(20.878125 30.601439)scale(0.1 -0.1)\">\n       <use xlink:href=\"#DejaVuSans-49\"/>\n       <use x=\"63.623047\" xlink:href=\"#DejaVuSans-46\"/>\n       <use x=\"95.410156\" xlink:href=\"#DejaVuSans-50\"/>\n      </g>\n     </g>\n    </g>\n    <g id=\"text_17\">\n     <!-- Density -->\n     <defs>\n      <path d=\"M 19.671875 64.796875 \nL 19.671875 8.109375 \nL 31.59375 8.109375 \nQ 46.6875 8.109375 53.6875 14.9375 \nQ 60.6875 21.78125 60.6875 36.53125 \nQ 60.6875 51.171875 53.6875 57.984375 \nQ 46.6875 64.796875 31.59375 64.796875 \nz\nM 9.8125 72.90625 \nL 30.078125 72.90625 \nQ 51.265625 72.90625 61.171875 64.09375 \nQ 71.09375 55.28125 71.09375 36.53125 \nQ 71.09375 17.671875 61.125 8.828125 \nQ 51.171875 0 30.078125 0 \nL 9.8125 0 \nz\n\" id=\"DejaVuSans-68\"/>\n      <path d=\"M 44.28125 53.078125 \nL 44.28125 44.578125 \nQ 40.484375 46.53125 36.375 47.5 \nQ 32.28125 48.484375 27.875 48.484375 \nQ 21.1875 48.484375 17.84375 46.4375 \nQ 14.5 44.390625 14.5 40.28125 \nQ 14.5 37.15625 16.890625 35.375 \nQ 19.28125 33.59375 26.515625 31.984375 \nL 29.59375 31.296875 \nQ 39.15625 29.25 43.1875 25.515625 \nQ 47.21875 21.78125 47.21875 15.09375 \nQ 47.21875 7.46875 41.1875 3.015625 \nQ 35.15625 -1.421875 24.609375 -1.421875 \nQ 20.21875 -1.421875 15.453125 -0.5625 \nQ 10.6875 0.296875 5.421875 2 \nL 5.421875 11.28125 \nQ 10.40625 8.6875 15.234375 7.390625 \nQ 20.0625 6.109375 24.8125 6.109375 \nQ 31.15625 6.109375 34.5625 8.28125 \nQ 37.984375 10.453125 37.984375 14.40625 \nQ 37.984375 18.0625 35.515625 20.015625 \nQ 33.0625 21.96875 24.703125 23.78125 \nL 21.578125 24.515625 \nQ 13.234375 26.265625 9.515625 29.90625 \nQ 5.8125 33.546875 5.8125 39.890625 \nQ 5.8125 47.609375 11.28125 51.796875 \nQ 16.75 56 26.8125 56 \nQ 31.78125 56 36.171875 55.265625 \nQ 40.578125 54.546875 44.28125 53.078125 \nz\n\" id=\"DejaVuSans-115\"/>\n      <path d=\"M 9.421875 54.6875 \nL 18.40625 54.6875 \nL 18.40625 0 \nL 9.421875 0 \nz\nM 9.421875 75.984375 \nL 18.40625 75.984375 \nL 18.40625 64.59375 \nL 9.421875 64.59375 \nz\n\" id=\"DejaVuSans-105\"/>\n      <path d=\"M 32.171875 -5.078125 \nQ 28.375 -14.84375 24.75 -17.8125 \nQ 21.140625 -20.796875 15.09375 -20.796875 \nL 7.90625 -20.796875 \nL 7.90625 -13.28125 \nL 13.1875 -13.28125 \nQ 16.890625 -13.28125 18.9375 -11.515625 \nQ 21 -9.765625 23.484375 -3.21875 \nL 25.09375 0.875 \nL 2.984375 54.6875 \nL 12.5 54.6875 \nL 29.59375 11.921875 \nL 46.6875 54.6875 \nL 56.203125 54.6875 \nz\n\" id=\"DejaVuSans-121\"/>\n     </defs>\n     <g transform=\"translate(14.798438 138.428594)rotate(-90)scale(0.1 -0.1)\">\n      <use xlink:href=\"#DejaVuSans-68\"/>\n      <use x=\"77.001953\" xlink:href=\"#DejaVuSans-101\"/>\n      <use x=\"138.525391\" xlink:href=\"#DejaVuSans-110\"/>\n      <use x=\"201.904297\" xlink:href=\"#DejaVuSans-115\"/>\n      <use x=\"254.003906\" xlink:href=\"#DejaVuSans-105\"/>\n      <use x=\"281.787109\" xlink:href=\"#DejaVuSans-116\"/>\n      <use x=\"320.996094\" xlink:href=\"#DejaVuSans-121\"/>\n     </g>\n    </g>\n   </g>\n   <g id=\"line2d_16\">\n    <path clip-path=\"url(#p6827269886)\" d=\"M 58.999432 218.202103 \nL 77.27953 218.006252 \nL 88.247589 217.683949 \nL 96.778302 217.215577 \nL 103.785673 216.606148 \nL 109.57437 215.890495 \nL 114.753732 215.041706 \nL 119.628424 214.024344 \nL 124.198449 212.845056 \nL 128.463805 211.520337 \nL 132.729162 209.955452 \nL 136.68985 208.269109 \nL 140.650537 206.344212 \nL 144.611225 204.171325 \nL 148.571913 201.746267 \nL 152.532601 199.071227 \nL 156.797958 195.921999 \nL 161.367982 192.264512 \nL 166.547343 187.81915 \nL 172.945378 182.016165 \nL 186.96012 169.192243 \nL 191.530144 165.357581 \nL 195.490832 162.318865 \nL 198.842184 160.008635 \nL 201.888867 158.151318 \nL 204.93555 156.553063 \nL 207.677564 155.355641 \nL 210.419579 154.401652 \nL 213.161594 153.702782 \nL 215.59894 153.302794 \nL 218.036287 153.115181 \nL 220.473633 153.141792 \nL 222.91098 153.382363 \nL 225.348326 153.834527 \nL 227.785673 154.493845 \nL 230.527687 155.475109 \nL 233.269702 156.69835 \nL 236.316385 158.323233 \nL 239.363068 160.204676 \nL 242.71442 162.538211 \nL 246.370439 165.353989 \nL 250.635795 168.923846 \nL 256.119825 173.825271 \nL 275.00926 190.983245 \nL 279.883953 194.970393 \nL 284.453977 198.41604 \nL 288.719334 201.347924 \nL 292.680021 203.81204 \nL 296.640709 206.023881 \nL 300.601397 207.986712 \nL 304.562085 209.709228 \nL 308.827442 211.310459 \nL 313.092798 212.668349 \nL 317.662822 213.879347 \nL 322.537515 214.926047 \nL 327.716877 215.801051 \nL 333.505574 216.540384 \nL 339.903609 217.126166 \nL 347.520316 217.588936 \nL 356.965034 217.924195 \nL 363.363068 218.055052 \nL 363.363068 218.055052 \n\" style=\"fill:none;stroke:#1f77b4;stroke-linecap:square;stroke-width:1.5;\"/>\n   </g>\n   <g id=\"line2d_17\">\n    <path clip-path=\"url(#p6827269886)\" d=\"M 58.999432 218.256364 \nL 148.571913 218.148148 \nL 152.83727 217.919907 \nL 155.883953 217.54165 \nL 158.016631 217.078927 \nL 159.844641 216.483195 \nL 161.67265 215.631186 \nL 163.195992 214.662926 \nL 164.719334 213.395428 \nL 165.938007 212.118945 \nL 167.15668 210.56575 \nL 168.375353 208.692231 \nL 169.594026 206.45208 \nL 170.8127 203.797205 \nL 172.031373 200.678916 \nL 173.250046 197.049425 \nL 174.773388 191.725386 \nL 176.296729 185.455376 \nL 177.820071 178.180858 \nL 179.343412 169.869274 \nL 181.171422 158.530397 \nL 182.999432 145.780569 \nL 185.13211 129.362856 \nL 188.178793 103.950069 \nL 192.748818 65.74284 \nL 194.576827 52.126839 \nL 196.100169 42.164295 \nL 197.318842 35.331716 \nL 198.537515 29.66837 \nL 199.45152 26.263127 \nL 200.365525 23.62768 \nL 201.27953 21.795165 \nL 201.888867 21.031454 \nL 202.498203 20.639461 \nL 203.10754 20.62141 \nL 203.716877 20.977404 \nL 204.326213 21.705423 \nL 204.93555 22.801344 \nL 205.849555 25.120954 \nL 206.76356 28.224683 \nL 207.677564 32.073743 \nL 208.896238 38.281983 \nL 210.114911 45.596412 \nL 211.638252 56.060288 \nL 213.770931 72.579465 \nL 217.122282 100.84142 \nL 220.778302 131.328449 \nL 223.215648 149.760646 \nL 225.043658 162.099393 \nL 226.871668 172.993709 \nL 228.395009 180.928664 \nL 229.918351 187.834848 \nL 231.441692 193.755078 \nL 232.965034 198.755435 \nL 234.488375 202.917961 \nL 236.011717 206.333972 \nL 237.535058 209.098271 \nL 238.753732 210.903502 \nL 240.277073 212.727407 \nL 241.800415 214.147815 \nL 243.323756 215.239248 \nL 244.847098 216.066818 \nL 246.675107 216.78919 \nL 248.807786 217.356301 \nL 251.245132 217.755859 \nL 254.291815 218.026051 \nL 258.86184 218.19058 \nL 268.306557 218.252841 \nL 363.363068 218.256364 \nL 363.363068 218.256364 \n\" style=\"fill:none;stroke:#ff7f0e;stroke-linecap:square;stroke-width:1.5;\"/>\n   </g>\n   <g id=\"patch_3\">\n    <path d=\"M 43.78125 228.14 \nL 43.78125 10.7 \n\" style=\"fill:none;stroke:#000000;stroke-linecap:square;stroke-linejoin:miter;stroke-width:0.8;\"/>\n   </g>\n   <g id=\"patch_4\">\n    <path d=\"M 378.58125 228.14 \nL 378.58125 10.7 \n\" style=\"fill:none;stroke:#000000;stroke-linecap:square;stroke-linejoin:miter;stroke-width:0.8;\"/>\n   </g>\n   <g id=\"patch_5\">\n    <path d=\"M 43.78125 228.14 \nL 378.58125 228.14 \n\" style=\"fill:none;stroke:#000000;stroke-linecap:square;stroke-linejoin:miter;stroke-width:0.8;\"/>\n   </g>\n   <g id=\"patch_6\">\n    <path d=\"M 43.78125 10.7 \nL 378.58125 10.7 \n\" style=\"fill:none;stroke:#000000;stroke-linecap:square;stroke-linejoin:miter;stroke-width:0.8;\"/>\n   </g>\n   <g id=\"legend_1\">\n    <g id=\"patch_7\">\n     <path d=\"M 299.08125 48.096875 \nL 371.58125 48.096875 \nQ 373.58125 48.096875 373.58125 46.096875 \nL 373.58125 17.7 \nQ 373.58125 15.7 371.58125 15.7 \nL 299.08125 15.7 \nQ 297.08125 15.7 297.08125 17.7 \nL 297.08125 46.096875 \nQ 297.08125 48.096875 299.08125 48.096875 \nz\n\" style=\"fill:#ffffff;opacity:0.8;stroke:#cccccc;stroke-linejoin:miter;\"/>\n    </g>\n    <g id=\"line2d_18\">\n     <path d=\"M 301.08125 23.798437 \nL 321.08125 23.798437 \n\" style=\"fill:none;stroke:#1f77b4;stroke-linecap:square;stroke-width:1.5;\"/>\n    </g>\n    <g id=\"line2d_19\"/>\n    <g id=\"text_18\">\n     <!-- $\\gamma = 0.29$ -->\n     <defs>\n      <path d=\"M 23.296875 46.09375 \nL 28.71875 12.3125 \nL 54 54.6875 \nL 63.53125 54.6875 \nL 30.8125 0 \nL 26.765625 -20.796875 \nL 17.78125 -20.796875 \nL 21.828125 0 \nL 15.4375 40.828125 \nQ 14.453125 46.96875 9.8125 46.96875 \nL 7.421875 46.96875 \nL 8.890625 54.6875 \nL 12.3125 54.6875 \nQ 21.921875 54.6875 23.296875 46.09375 \nz\n\" id=\"DejaVuSans-Oblique-947\"/>\n      <path d=\"M 10.59375 45.40625 \nL 73.1875 45.40625 \nL 73.1875 37.203125 \nL 10.59375 37.203125 \nz\nM 10.59375 25.484375 \nL 73.1875 25.484375 \nL 73.1875 17.1875 \nL 10.59375 17.1875 \nz\n\" id=\"DejaVuSans-61\"/>\n      <path d=\"M 10.984375 1.515625 \nL 10.984375 10.5 \nQ 14.703125 8.734375 18.5 7.8125 \nQ 22.3125 6.890625 25.984375 6.890625 \nQ 35.75 6.890625 40.890625 13.453125 \nQ 46.046875 20.015625 46.78125 33.40625 \nQ 43.953125 29.203125 39.59375 26.953125 \nQ 35.25 24.703125 29.984375 24.703125 \nQ 19.046875 24.703125 12.671875 31.3125 \nQ 6.296875 37.9375 6.296875 49.421875 \nQ 6.296875 60.640625 12.9375 67.421875 \nQ 19.578125 74.21875 30.609375 74.21875 \nQ 43.265625 74.21875 49.921875 64.515625 \nQ 56.59375 54.828125 56.59375 36.375 \nQ 56.59375 19.140625 48.40625 8.859375 \nQ 40.234375 -1.421875 26.421875 -1.421875 \nQ 22.703125 -1.421875 18.890625 -0.6875 \nQ 15.09375 0.046875 10.984375 1.515625 \nz\nM 30.609375 32.421875 \nQ 37.25 32.421875 41.125 36.953125 \nQ 45.015625 41.5 45.015625 49.421875 \nQ 45.015625 57.28125 41.125 61.84375 \nQ 37.25 66.40625 30.609375 66.40625 \nQ 23.96875 66.40625 20.09375 61.84375 \nQ 16.21875 57.28125 16.21875 49.421875 \nQ 16.21875 41.5 20.09375 36.953125 \nQ 23.96875 32.421875 30.609375 32.421875 \nz\n\" id=\"DejaVuSans-57\"/>\n     </defs>\n     <g transform=\"translate(329.08125 27.298437)scale(0.1 -0.1)\">\n      <use transform=\"translate(0 0.78125)\" xlink:href=\"#DejaVuSans-Oblique-947\"/>\n      <use transform=\"translate(78.662109 0.78125)\" xlink:href=\"#DejaVuSans-61\"/>\n      <use transform=\"translate(181.933594 0.78125)\" xlink:href=\"#DejaVuSans-48\"/>\n      <use transform=\"translate(245.556641 0.78125)\" xlink:href=\"#DejaVuSans-46\"/>\n      <use transform=\"translate(277.265625 0.78125)\" xlink:href=\"#DejaVuSans-50\"/>\n      <use transform=\"translate(340.873047 0.78125)\" xlink:href=\"#DejaVuSans-57\"/>\n     </g>\n    </g>\n    <g id=\"line2d_20\">\n     <path d=\"M 301.08125 38.496875 \nL 321.08125 38.496875 \n\" style=\"fill:none;stroke:#ff7f0e;stroke-linecap:square;stroke-width:1.5;\"/>\n    </g>\n    <g id=\"line2d_21\"/>\n    <g id=\"text_19\">\n     <!-- $\\gamma = 1.05$ -->\n     <g transform=\"translate(329.08125 41.996875)scale(0.1 -0.1)\">\n      <use transform=\"translate(0 0.78125)\" xlink:href=\"#DejaVuSans-Oblique-947\"/>\n      <use transform=\"translate(78.662109 0.78125)\" xlink:href=\"#DejaVuSans-61\"/>\n      <use transform=\"translate(181.933594 0.78125)\" xlink:href=\"#DejaVuSans-49\"/>\n      <use transform=\"translate(245.556641 0.78125)\" xlink:href=\"#DejaVuSans-46\"/>\n      <use transform=\"translate(277.34375 0.78125)\" xlink:href=\"#DejaVuSans-48\"/>\n      <use transform=\"translate(340.966797 0.78125)\" xlink:href=\"#DejaVuSans-53\"/>\n     </g>\n    </g>\n   </g>\n  </g>\n </g>\n <defs>\n  <clipPath id=\"p6827269886\">\n   <rect height=\"217.44\" width=\"334.8\" x=\"43.78125\" y=\"10.7\"/>\n  </clipPath>\n </defs>\n</svg>\n",
            "text/plain": [
              "<Figure size 432x288 with 1 Axes>"
            ]
          },
          "metadata": {
            "tags": [],
            "needs_background": "light"
          }
        }
      ]
    },
    {
      "cell_type": "markdown",
      "metadata": {
        "id": "cod4yrKWvRPl",
        "colab_type": "text"
      },
      "source": [
        "### Portfolio constraints\n",
        "\n",
        "There are many other possible portfolio constraints besides the long only constraint. With no constraint (${\\cal W} = {\\bf R}^n$), the optimization problem has a simple analytical solution. We will look in detail at a *leverage limit*, or the constraint that $\\|w \\|_1 \\leq L^\\mathrm{max}$.\n",
        "\n",
        "\n",
        "Another interesting constraint is the *market neutral* constraint $m^T \\Sigma w =0$, where $m_i$ is the capitalization of asset $i$.\n",
        "$M = m^Tr$ is the *market return*, and $m^T \\Sigma w = {\\bf cov}(M,R)$.\n",
        "The market neutral constraint ensures that the portfolio return is uncorrelated with the market return."
      ]
    },
    {
      "cell_type": "markdown",
      "metadata": {
        "id": "z-XDKIRgvRPl",
        "colab_type": "text"
      },
      "source": [
        "### Example\n",
        "\n",
        "In the following code we compute and plot optimal risk-return trade-off curves for leverage limits of 1, 2, and 4.\n",
        "Notice that more leverage increases returns and allows greater risk."
      ]
    },
    {
      "cell_type": "code",
      "metadata": {
        "id": "UArEONIjvRPm",
        "colab_type": "code",
        "colab": {}
      },
      "source": [
        "# Portfolio optimization with leverage limit.\n",
        "Lmax = cp.Parameter()\n",
        "prob = cp.Problem(cp.Maximize(ret - gamma*risk), \n",
        "               [cp.sum(w) == 1, \n",
        "                cp.norm(w, 1) <= Lmax])"
      ],
      "execution_count": 0,
      "outputs": []
    },
    {
      "cell_type": "code",
      "metadata": {
        "id": "KzaHMtefvRPn",
        "colab_type": "code",
        "colab": {}
      },
      "source": [
        "# Compute trade-off curve for each leverage limit.\n",
        "L_vals = [1, 2, 4]\n",
        "SAMPLES = 100\n",
        "risk_data = np.zeros((len(L_vals), SAMPLES))\n",
        "ret_data = np.zeros((len(L_vals), SAMPLES))\n",
        "gamma_vals = np.logspace(-2, 3, num=SAMPLES)\n",
        "w_vals = []\n",
        "for k, L_val in enumerate(L_vals):\n",
        "    for i in range(SAMPLES):\n",
        "        Lmax.value = L_val\n",
        "        gamma.value = gamma_vals[i]\n",
        "        prob.solve(solver=cp.SCS)\n",
        "        risk_data[k, i] = cp.sqrt(risk).value\n",
        "        ret_data[k, i] = ret.value"
      ],
      "execution_count": 0,
      "outputs": []
    },
    {
      "cell_type": "code",
      "metadata": {
        "id": "bkgTb8bOvRPn",
        "colab_type": "code",
        "outputId": "f085b92a-1c98-4c37-bcb6-b38b66f4005d",
        "colab": {}
      },
      "source": [
        "# Plot trade-off curves for each leverage limit.\n",
        "for idx, L_val in enumerate(L_vals):\n",
        "    plt.plot(risk_data[idx,:], ret_data[idx,:], label=r\"$L^{\\max}$ = %d\" % L_val)\n",
        "for w_val in w_vals:\n",
        "    w.value = w_val\n",
        "    plt.plot(cp.sqrt(risk).value, ret.value, 'bs')\n",
        "plt.xlabel('Standard deviation')\n",
        "plt.ylabel('Return')\n",
        "plt.legend(loc='lower right')\n",
        "plt.show()"
      ],
      "execution_count": 0,
      "outputs": [
        {
          "output_type": "display_data",
          "data": {
            "image/svg+xml": "<?xml version=\"1.0\" encoding=\"utf-8\" standalone=\"no\"?>\n<!DOCTYPE svg PUBLIC \"-//W3C//DTD SVG 1.1//EN\"\n  \"http://www.w3.org/Graphics/SVG/1.1/DTD/svg11.dtd\">\n<!-- Created with matplotlib (https://matplotlib.org/) -->\n<svg height=\"265.69625pt\" version=\"1.1\" viewBox=\"0 0 379.740625 265.69625\" width=\"379.740625pt\" xmlns=\"http://www.w3.org/2000/svg\" xmlns:xlink=\"http://www.w3.org/1999/xlink\">\n <defs>\n  <style type=\"text/css\">\n*{stroke-linecap:butt;stroke-linejoin:round;}\n  </style>\n </defs>\n <g id=\"figure_1\">\n  <g id=\"patch_1\">\n   <path d=\"M 0 265.69625 \nL 379.740625 265.69625 \nL 379.740625 0 \nL 0 0 \nz\n\" style=\"fill:none;\"/>\n  </g>\n  <g id=\"axes_1\">\n   <g id=\"patch_2\">\n    <path d=\"M 34.240625 228.14 \nL 369.040625 228.14 \nL 369.040625 10.7 \nL 34.240625 10.7 \nz\n\" style=\"fill:#ffffff;\"/>\n   </g>\n   <g id=\"matplotlib.axis_1\">\n    <g id=\"xtick_1\">\n     <g id=\"line2d_1\">\n      <defs>\n       <path d=\"M 0 0 \nL 0 3.5 \n\" id=\"m5b051e3546\" style=\"stroke:#000000;stroke-width:0.8;\"/>\n      </defs>\n      <g>\n       <use style=\"stroke:#000000;stroke-width:0.8;\" x=\"34.60793\" xlink:href=\"#m5b051e3546\" y=\"228.14\"/>\n      </g>\n     </g>\n     <g id=\"text_1\">\n      <!-- 0 -->\n      <defs>\n       <path d=\"M 31.78125 66.40625 \nQ 24.171875 66.40625 20.328125 58.90625 \nQ 16.5 51.421875 16.5 36.375 \nQ 16.5 21.390625 20.328125 13.890625 \nQ 24.171875 6.390625 31.78125 6.390625 \nQ 39.453125 6.390625 43.28125 13.890625 \nQ 47.125 21.390625 47.125 36.375 \nQ 47.125 51.421875 43.28125 58.90625 \nQ 39.453125 66.40625 31.78125 66.40625 \nz\nM 31.78125 74.21875 \nQ 44.046875 74.21875 50.515625 64.515625 \nQ 56.984375 54.828125 56.984375 36.375 \nQ 56.984375 17.96875 50.515625 8.265625 \nQ 44.046875 -1.421875 31.78125 -1.421875 \nQ 19.53125 -1.421875 13.0625 8.265625 \nQ 6.59375 17.96875 6.59375 36.375 \nQ 6.59375 54.828125 13.0625 64.515625 \nQ 19.53125 74.21875 31.78125 74.21875 \nz\n\" id=\"DejaVuSans-48\"/>\n      </defs>\n      <g transform=\"translate(31.42668 242.738437)scale(0.1 -0.1)\">\n       <use xlink:href=\"#DejaVuSans-48\"/>\n      </g>\n     </g>\n    </g>\n    <g id=\"xtick_2\">\n     <g id=\"line2d_2\">\n      <g>\n       <use style=\"stroke:#000000;stroke-width:0.8;\" x=\"77.511147\" xlink:href=\"#m5b051e3546\" y=\"228.14\"/>\n      </g>\n     </g>\n     <g id=\"text_2\">\n      <!-- 1 -->\n      <defs>\n       <path d=\"M 12.40625 8.296875 \nL 28.515625 8.296875 \nL 28.515625 63.921875 \nL 10.984375 60.40625 \nL 10.984375 69.390625 \nL 28.421875 72.90625 \nL 38.28125 72.90625 \nL 38.28125 8.296875 \nL 54.390625 8.296875 \nL 54.390625 0 \nL 12.40625 0 \nz\n\" id=\"DejaVuSans-49\"/>\n      </defs>\n      <g transform=\"translate(74.329897 242.738437)scale(0.1 -0.1)\">\n       <use xlink:href=\"#DejaVuSans-49\"/>\n      </g>\n     </g>\n    </g>\n    <g id=\"xtick_3\">\n     <g id=\"line2d_3\">\n      <g>\n       <use style=\"stroke:#000000;stroke-width:0.8;\" x=\"120.414365\" xlink:href=\"#m5b051e3546\" y=\"228.14\"/>\n      </g>\n     </g>\n     <g id=\"text_3\">\n      <!-- 2 -->\n      <defs>\n       <path d=\"M 19.1875 8.296875 \nL 53.609375 8.296875 \nL 53.609375 0 \nL 7.328125 0 \nL 7.328125 8.296875 \nQ 12.9375 14.109375 22.625 23.890625 \nQ 32.328125 33.6875 34.8125 36.53125 \nQ 39.546875 41.84375 41.421875 45.53125 \nQ 43.3125 49.21875 43.3125 52.78125 \nQ 43.3125 58.59375 39.234375 62.25 \nQ 35.15625 65.921875 28.609375 65.921875 \nQ 23.96875 65.921875 18.8125 64.3125 \nQ 13.671875 62.703125 7.8125 59.421875 \nL 7.8125 69.390625 \nQ 13.765625 71.78125 18.9375 73 \nQ 24.125 74.21875 28.421875 74.21875 \nQ 39.75 74.21875 46.484375 68.546875 \nQ 53.21875 62.890625 53.21875 53.421875 \nQ 53.21875 48.921875 51.53125 44.890625 \nQ 49.859375 40.875 45.40625 35.40625 \nQ 44.1875 33.984375 37.640625 27.21875 \nQ 31.109375 20.453125 19.1875 8.296875 \nz\n\" id=\"DejaVuSans-50\"/>\n      </defs>\n      <g transform=\"translate(117.233115 242.738437)scale(0.1 -0.1)\">\n       <use xlink:href=\"#DejaVuSans-50\"/>\n      </g>\n     </g>\n    </g>\n    <g id=\"xtick_4\">\n     <g id=\"line2d_4\">\n      <g>\n       <use style=\"stroke:#000000;stroke-width:0.8;\" x=\"163.317582\" xlink:href=\"#m5b051e3546\" y=\"228.14\"/>\n      </g>\n     </g>\n     <g id=\"text_4\">\n      <!-- 3 -->\n      <defs>\n       <path d=\"M 40.578125 39.3125 \nQ 47.65625 37.796875 51.625 33 \nQ 55.609375 28.21875 55.609375 21.1875 \nQ 55.609375 10.40625 48.1875 4.484375 \nQ 40.765625 -1.421875 27.09375 -1.421875 \nQ 22.515625 -1.421875 17.65625 -0.515625 \nQ 12.796875 0.390625 7.625 2.203125 \nL 7.625 11.71875 \nQ 11.71875 9.328125 16.59375 8.109375 \nQ 21.484375 6.890625 26.8125 6.890625 \nQ 36.078125 6.890625 40.9375 10.546875 \nQ 45.796875 14.203125 45.796875 21.1875 \nQ 45.796875 27.640625 41.28125 31.265625 \nQ 36.765625 34.90625 28.71875 34.90625 \nL 20.21875 34.90625 \nL 20.21875 43.015625 \nL 29.109375 43.015625 \nQ 36.375 43.015625 40.234375 45.921875 \nQ 44.09375 48.828125 44.09375 54.296875 \nQ 44.09375 59.90625 40.109375 62.90625 \nQ 36.140625 65.921875 28.71875 65.921875 \nQ 24.65625 65.921875 20.015625 65.03125 \nQ 15.375 64.15625 9.8125 62.3125 \nL 9.8125 71.09375 \nQ 15.4375 72.65625 20.34375 73.4375 \nQ 25.25 74.21875 29.59375 74.21875 \nQ 40.828125 74.21875 47.359375 69.109375 \nQ 53.90625 64.015625 53.90625 55.328125 \nQ 53.90625 49.265625 50.4375 45.09375 \nQ 46.96875 40.921875 40.578125 39.3125 \nz\n\" id=\"DejaVuSans-51\"/>\n      </defs>\n      <g transform=\"translate(160.136332 242.738437)scale(0.1 -0.1)\">\n       <use xlink:href=\"#DejaVuSans-51\"/>\n      </g>\n     </g>\n    </g>\n    <g id=\"xtick_5\">\n     <g id=\"line2d_5\">\n      <g>\n       <use style=\"stroke:#000000;stroke-width:0.8;\" x=\"206.2208\" xlink:href=\"#m5b051e3546\" y=\"228.14\"/>\n      </g>\n     </g>\n     <g id=\"text_5\">\n      <!-- 4 -->\n      <defs>\n       <path d=\"M 37.796875 64.3125 \nL 12.890625 25.390625 \nL 37.796875 25.390625 \nz\nM 35.203125 72.90625 \nL 47.609375 72.90625 \nL 47.609375 25.390625 \nL 58.015625 25.390625 \nL 58.015625 17.1875 \nL 47.609375 17.1875 \nL 47.609375 0 \nL 37.796875 0 \nL 37.796875 17.1875 \nL 4.890625 17.1875 \nL 4.890625 26.703125 \nz\n\" id=\"DejaVuSans-52\"/>\n      </defs>\n      <g transform=\"translate(203.03955 242.738437)scale(0.1 -0.1)\">\n       <use xlink:href=\"#DejaVuSans-52\"/>\n      </g>\n     </g>\n    </g>\n    <g id=\"xtick_6\">\n     <g id=\"line2d_6\">\n      <g>\n       <use style=\"stroke:#000000;stroke-width:0.8;\" x=\"249.124017\" xlink:href=\"#m5b051e3546\" y=\"228.14\"/>\n      </g>\n     </g>\n     <g id=\"text_6\">\n      <!-- 5 -->\n      <defs>\n       <path d=\"M 10.796875 72.90625 \nL 49.515625 72.90625 \nL 49.515625 64.59375 \nL 19.828125 64.59375 \nL 19.828125 46.734375 \nQ 21.96875 47.46875 24.109375 47.828125 \nQ 26.265625 48.1875 28.421875 48.1875 \nQ 40.625 48.1875 47.75 41.5 \nQ 54.890625 34.8125 54.890625 23.390625 \nQ 54.890625 11.625 47.5625 5.09375 \nQ 40.234375 -1.421875 26.90625 -1.421875 \nQ 22.3125 -1.421875 17.546875 -0.640625 \nQ 12.796875 0.140625 7.71875 1.703125 \nL 7.71875 11.625 \nQ 12.109375 9.234375 16.796875 8.0625 \nQ 21.484375 6.890625 26.703125 6.890625 \nQ 35.15625 6.890625 40.078125 11.328125 \nQ 45.015625 15.765625 45.015625 23.390625 \nQ 45.015625 31 40.078125 35.4375 \nQ 35.15625 39.890625 26.703125 39.890625 \nQ 22.75 39.890625 18.8125 39.015625 \nQ 14.890625 38.140625 10.796875 36.28125 \nz\n\" id=\"DejaVuSans-53\"/>\n      </defs>\n      <g transform=\"translate(245.942767 242.738437)scale(0.1 -0.1)\">\n       <use xlink:href=\"#DejaVuSans-53\"/>\n      </g>\n     </g>\n    </g>\n    <g id=\"xtick_7\">\n     <g id=\"line2d_7\">\n      <g>\n       <use style=\"stroke:#000000;stroke-width:0.8;\" x=\"292.027235\" xlink:href=\"#m5b051e3546\" y=\"228.14\"/>\n      </g>\n     </g>\n     <g id=\"text_7\">\n      <!-- 6 -->\n      <defs>\n       <path d=\"M 33.015625 40.375 \nQ 26.375 40.375 22.484375 35.828125 \nQ 18.609375 31.296875 18.609375 23.390625 \nQ 18.609375 15.53125 22.484375 10.953125 \nQ 26.375 6.390625 33.015625 6.390625 \nQ 39.65625 6.390625 43.53125 10.953125 \nQ 47.40625 15.53125 47.40625 23.390625 \nQ 47.40625 31.296875 43.53125 35.828125 \nQ 39.65625 40.375 33.015625 40.375 \nz\nM 52.59375 71.296875 \nL 52.59375 62.3125 \nQ 48.875 64.0625 45.09375 64.984375 \nQ 41.3125 65.921875 37.59375 65.921875 \nQ 27.828125 65.921875 22.671875 59.328125 \nQ 17.53125 52.734375 16.796875 39.40625 \nQ 19.671875 43.65625 24.015625 45.921875 \nQ 28.375 48.1875 33.59375 48.1875 \nQ 44.578125 48.1875 50.953125 41.515625 \nQ 57.328125 34.859375 57.328125 23.390625 \nQ 57.328125 12.15625 50.6875 5.359375 \nQ 44.046875 -1.421875 33.015625 -1.421875 \nQ 20.359375 -1.421875 13.671875 8.265625 \nQ 6.984375 17.96875 6.984375 36.375 \nQ 6.984375 53.65625 15.1875 63.9375 \nQ 23.390625 74.21875 37.203125 74.21875 \nQ 40.921875 74.21875 44.703125 73.484375 \nQ 48.484375 72.75 52.59375 71.296875 \nz\n\" id=\"DejaVuSans-54\"/>\n      </defs>\n      <g transform=\"translate(288.845985 242.738437)scale(0.1 -0.1)\">\n       <use xlink:href=\"#DejaVuSans-54\"/>\n      </g>\n     </g>\n    </g>\n    <g id=\"xtick_8\">\n     <g id=\"line2d_8\">\n      <g>\n       <use style=\"stroke:#000000;stroke-width:0.8;\" x=\"334.930452\" xlink:href=\"#m5b051e3546\" y=\"228.14\"/>\n      </g>\n     </g>\n     <g id=\"text_8\">\n      <!-- 7 -->\n      <defs>\n       <path d=\"M 8.203125 72.90625 \nL 55.078125 72.90625 \nL 55.078125 68.703125 \nL 28.609375 0 \nL 18.3125 0 \nL 43.21875 64.59375 \nL 8.203125 64.59375 \nz\n\" id=\"DejaVuSans-55\"/>\n      </defs>\n      <g transform=\"translate(331.749202 242.738437)scale(0.1 -0.1)\">\n       <use xlink:href=\"#DejaVuSans-55\"/>\n      </g>\n     </g>\n    </g>\n    <g id=\"text_9\">\n     <!-- Standard deviation -->\n     <defs>\n      <path d=\"M 53.515625 70.515625 \nL 53.515625 60.890625 \nQ 47.90625 63.578125 42.921875 64.890625 \nQ 37.9375 66.21875 33.296875 66.21875 \nQ 25.25 66.21875 20.875 63.09375 \nQ 16.5 59.96875 16.5 54.203125 \nQ 16.5 49.359375 19.40625 46.890625 \nQ 22.3125 44.4375 30.421875 42.921875 \nL 36.375 41.703125 \nQ 47.40625 39.59375 52.65625 34.296875 \nQ 57.90625 29 57.90625 20.125 \nQ 57.90625 9.515625 50.796875 4.046875 \nQ 43.703125 -1.421875 29.984375 -1.421875 \nQ 24.8125 -1.421875 18.96875 -0.25 \nQ 13.140625 0.921875 6.890625 3.21875 \nL 6.890625 13.375 \nQ 12.890625 10.015625 18.65625 8.296875 \nQ 24.421875 6.59375 29.984375 6.59375 \nQ 38.421875 6.59375 43.015625 9.90625 \nQ 47.609375 13.234375 47.609375 19.390625 \nQ 47.609375 24.75 44.3125 27.78125 \nQ 41.015625 30.8125 33.5 32.328125 \nL 27.484375 33.5 \nQ 16.453125 35.6875 11.515625 40.375 \nQ 6.59375 45.0625 6.59375 53.421875 \nQ 6.59375 63.09375 13.40625 68.65625 \nQ 20.21875 74.21875 32.171875 74.21875 \nQ 37.3125 74.21875 42.625 73.28125 \nQ 47.953125 72.359375 53.515625 70.515625 \nz\n\" id=\"DejaVuSans-83\"/>\n      <path d=\"M 18.3125 70.21875 \nL 18.3125 54.6875 \nL 36.8125 54.6875 \nL 36.8125 47.703125 \nL 18.3125 47.703125 \nL 18.3125 18.015625 \nQ 18.3125 11.328125 20.140625 9.421875 \nQ 21.96875 7.515625 27.59375 7.515625 \nL 36.8125 7.515625 \nL 36.8125 0 \nL 27.59375 0 \nQ 17.1875 0 13.234375 3.875 \nQ 9.28125 7.765625 9.28125 18.015625 \nL 9.28125 47.703125 \nL 2.6875 47.703125 \nL 2.6875 54.6875 \nL 9.28125 54.6875 \nL 9.28125 70.21875 \nz\n\" id=\"DejaVuSans-116\"/>\n      <path d=\"M 34.28125 27.484375 \nQ 23.390625 27.484375 19.1875 25 \nQ 14.984375 22.515625 14.984375 16.5 \nQ 14.984375 11.71875 18.140625 8.90625 \nQ 21.296875 6.109375 26.703125 6.109375 \nQ 34.1875 6.109375 38.703125 11.40625 \nQ 43.21875 16.703125 43.21875 25.484375 \nL 43.21875 27.484375 \nz\nM 52.203125 31.203125 \nL 52.203125 0 \nL 43.21875 0 \nL 43.21875 8.296875 \nQ 40.140625 3.328125 35.546875 0.953125 \nQ 30.953125 -1.421875 24.3125 -1.421875 \nQ 15.921875 -1.421875 10.953125 3.296875 \nQ 6 8.015625 6 15.921875 \nQ 6 25.140625 12.171875 29.828125 \nQ 18.359375 34.515625 30.609375 34.515625 \nL 43.21875 34.515625 \nL 43.21875 35.40625 \nQ 43.21875 41.609375 39.140625 45 \nQ 35.0625 48.390625 27.6875 48.390625 \nQ 23 48.390625 18.546875 47.265625 \nQ 14.109375 46.140625 10.015625 43.890625 \nL 10.015625 52.203125 \nQ 14.9375 54.109375 19.578125 55.046875 \nQ 24.21875 56 28.609375 56 \nQ 40.484375 56 46.34375 49.84375 \nQ 52.203125 43.703125 52.203125 31.203125 \nz\n\" id=\"DejaVuSans-97\"/>\n      <path d=\"M 54.890625 33.015625 \nL 54.890625 0 \nL 45.90625 0 \nL 45.90625 32.71875 \nQ 45.90625 40.484375 42.875 44.328125 \nQ 39.84375 48.1875 33.796875 48.1875 \nQ 26.515625 48.1875 22.3125 43.546875 \nQ 18.109375 38.921875 18.109375 30.90625 \nL 18.109375 0 \nL 9.078125 0 \nL 9.078125 54.6875 \nL 18.109375 54.6875 \nL 18.109375 46.1875 \nQ 21.34375 51.125 25.703125 53.5625 \nQ 30.078125 56 35.796875 56 \nQ 45.21875 56 50.046875 50.171875 \nQ 54.890625 44.34375 54.890625 33.015625 \nz\n\" id=\"DejaVuSans-110\"/>\n      <path d=\"M 45.40625 46.390625 \nL 45.40625 75.984375 \nL 54.390625 75.984375 \nL 54.390625 0 \nL 45.40625 0 \nL 45.40625 8.203125 \nQ 42.578125 3.328125 38.25 0.953125 \nQ 33.9375 -1.421875 27.875 -1.421875 \nQ 17.96875 -1.421875 11.734375 6.484375 \nQ 5.515625 14.40625 5.515625 27.296875 \nQ 5.515625 40.1875 11.734375 48.09375 \nQ 17.96875 56 27.875 56 \nQ 33.9375 56 38.25 53.625 \nQ 42.578125 51.265625 45.40625 46.390625 \nz\nM 14.796875 27.296875 \nQ 14.796875 17.390625 18.875 11.75 \nQ 22.953125 6.109375 30.078125 6.109375 \nQ 37.203125 6.109375 41.296875 11.75 \nQ 45.40625 17.390625 45.40625 27.296875 \nQ 45.40625 37.203125 41.296875 42.84375 \nQ 37.203125 48.484375 30.078125 48.484375 \nQ 22.953125 48.484375 18.875 42.84375 \nQ 14.796875 37.203125 14.796875 27.296875 \nz\n\" id=\"DejaVuSans-100\"/>\n      <path d=\"M 41.109375 46.296875 \nQ 39.59375 47.171875 37.8125 47.578125 \nQ 36.03125 48 33.890625 48 \nQ 26.265625 48 22.1875 43.046875 \nQ 18.109375 38.09375 18.109375 28.8125 \nL 18.109375 0 \nL 9.078125 0 \nL 9.078125 54.6875 \nL 18.109375 54.6875 \nL 18.109375 46.1875 \nQ 20.953125 51.171875 25.484375 53.578125 \nQ 30.03125 56 36.53125 56 \nQ 37.453125 56 38.578125 55.875 \nQ 39.703125 55.765625 41.0625 55.515625 \nz\n\" id=\"DejaVuSans-114\"/>\n      <path id=\"DejaVuSans-32\"/>\n      <path d=\"M 56.203125 29.59375 \nL 56.203125 25.203125 \nL 14.890625 25.203125 \nQ 15.484375 15.921875 20.484375 11.0625 \nQ 25.484375 6.203125 34.421875 6.203125 \nQ 39.59375 6.203125 44.453125 7.46875 \nQ 49.3125 8.734375 54.109375 11.28125 \nL 54.109375 2.78125 \nQ 49.265625 0.734375 44.1875 -0.34375 \nQ 39.109375 -1.421875 33.890625 -1.421875 \nQ 20.796875 -1.421875 13.15625 6.1875 \nQ 5.515625 13.8125 5.515625 26.8125 \nQ 5.515625 40.234375 12.765625 48.109375 \nQ 20.015625 56 32.328125 56 \nQ 43.359375 56 49.78125 48.890625 \nQ 56.203125 41.796875 56.203125 29.59375 \nz\nM 47.21875 32.234375 \nQ 47.125 39.59375 43.09375 43.984375 \nQ 39.0625 48.390625 32.421875 48.390625 \nQ 24.90625 48.390625 20.390625 44.140625 \nQ 15.875 39.890625 15.1875 32.171875 \nz\n\" id=\"DejaVuSans-101\"/>\n      <path d=\"M 2.984375 54.6875 \nL 12.5 54.6875 \nL 29.59375 8.796875 \nL 46.6875 54.6875 \nL 56.203125 54.6875 \nL 35.6875 0 \nL 23.484375 0 \nz\n\" id=\"DejaVuSans-118\"/>\n      <path d=\"M 9.421875 54.6875 \nL 18.40625 54.6875 \nL 18.40625 0 \nL 9.421875 0 \nz\nM 9.421875 75.984375 \nL 18.40625 75.984375 \nL 18.40625 64.59375 \nL 9.421875 64.59375 \nz\n\" id=\"DejaVuSans-105\"/>\n      <path d=\"M 30.609375 48.390625 \nQ 23.390625 48.390625 19.1875 42.75 \nQ 14.984375 37.109375 14.984375 27.296875 \nQ 14.984375 17.484375 19.15625 11.84375 \nQ 23.34375 6.203125 30.609375 6.203125 \nQ 37.796875 6.203125 41.984375 11.859375 \nQ 46.1875 17.53125 46.1875 27.296875 \nQ 46.1875 37.015625 41.984375 42.703125 \nQ 37.796875 48.390625 30.609375 48.390625 \nz\nM 30.609375 56 \nQ 42.328125 56 49.015625 48.375 \nQ 55.71875 40.765625 55.71875 27.296875 \nQ 55.71875 13.875 49.015625 6.21875 \nQ 42.328125 -1.421875 30.609375 -1.421875 \nQ 18.84375 -1.421875 12.171875 6.21875 \nQ 5.515625 13.875 5.515625 27.296875 \nQ 5.515625 40.765625 12.171875 48.375 \nQ 18.84375 56 30.609375 56 \nz\n\" id=\"DejaVuSans-111\"/>\n     </defs>\n     <g transform=\"translate(153.976563 256.416562)scale(0.1 -0.1)\">\n      <use xlink:href=\"#DejaVuSans-83\"/>\n      <use x=\"63.476562\" xlink:href=\"#DejaVuSans-116\"/>\n      <use x=\"102.685547\" xlink:href=\"#DejaVuSans-97\"/>\n      <use x=\"163.964844\" xlink:href=\"#DejaVuSans-110\"/>\n      <use x=\"227.34375\" xlink:href=\"#DejaVuSans-100\"/>\n      <use x=\"290.820312\" xlink:href=\"#DejaVuSans-97\"/>\n      <use x=\"352.099609\" xlink:href=\"#DejaVuSans-114\"/>\n      <use x=\"393.197266\" xlink:href=\"#DejaVuSans-100\"/>\n      <use x=\"456.673828\" xlink:href=\"#DejaVuSans-32\"/>\n      <use x=\"488.460938\" xlink:href=\"#DejaVuSans-100\"/>\n      <use x=\"551.9375\" xlink:href=\"#DejaVuSans-101\"/>\n      <use x=\"613.460938\" xlink:href=\"#DejaVuSans-118\"/>\n      <use x=\"672.640625\" xlink:href=\"#DejaVuSans-105\"/>\n      <use x=\"700.423828\" xlink:href=\"#DejaVuSans-97\"/>\n      <use x=\"761.703125\" xlink:href=\"#DejaVuSans-116\"/>\n      <use x=\"800.912109\" xlink:href=\"#DejaVuSans-105\"/>\n      <use x=\"828.695312\" xlink:href=\"#DejaVuSans-111\"/>\n      <use x=\"889.876953\" xlink:href=\"#DejaVuSans-110\"/>\n     </g>\n    </g>\n   </g>\n   <g id=\"matplotlib.axis_2\">\n    <g id=\"ytick_1\">\n     <g id=\"line2d_9\">\n      <defs>\n       <path d=\"M 0 0 \nL -3.5 0 \n\" id=\"m66ecd2071f\" style=\"stroke:#000000;stroke-width:0.8;\"/>\n      </defs>\n      <g>\n       <use style=\"stroke:#000000;stroke-width:0.8;\" x=\"34.240625\" xlink:href=\"#m66ecd2071f\" y=\"212.005333\"/>\n      </g>\n     </g>\n     <g id=\"text_10\">\n      <!-- 1 -->\n      <g transform=\"translate(20.878125 215.804552)scale(0.1 -0.1)\">\n       <use xlink:href=\"#DejaVuSans-49\"/>\n      </g>\n     </g>\n    </g>\n    <g id=\"ytick_2\">\n     <g id=\"line2d_10\">\n      <g>\n       <use style=\"stroke:#000000;stroke-width:0.8;\" x=\"34.240625\" xlink:href=\"#m66ecd2071f\" y=\"167.578374\"/>\n      </g>\n     </g>\n     <g id=\"text_11\">\n      <!-- 2 -->\n      <g transform=\"translate(20.878125 171.377592)scale(0.1 -0.1)\">\n       <use xlink:href=\"#DejaVuSans-50\"/>\n      </g>\n     </g>\n    </g>\n    <g id=\"ytick_3\">\n     <g id=\"line2d_11\">\n      <g>\n       <use style=\"stroke:#000000;stroke-width:0.8;\" x=\"34.240625\" xlink:href=\"#m66ecd2071f\" y=\"123.151414\"/>\n      </g>\n     </g>\n     <g id=\"text_12\">\n      <!-- 3 -->\n      <g transform=\"translate(20.878125 126.950633)scale(0.1 -0.1)\">\n       <use xlink:href=\"#DejaVuSans-51\"/>\n      </g>\n     </g>\n    </g>\n    <g id=\"ytick_4\">\n     <g id=\"line2d_12\">\n      <g>\n       <use style=\"stroke:#000000;stroke-width:0.8;\" x=\"34.240625\" xlink:href=\"#m66ecd2071f\" y=\"78.724455\"/>\n      </g>\n     </g>\n     <g id=\"text_13\">\n      <!-- 4 -->\n      <g transform=\"translate(20.878125 82.523674)scale(0.1 -0.1)\">\n       <use xlink:href=\"#DejaVuSans-52\"/>\n      </g>\n     </g>\n    </g>\n    <g id=\"ytick_5\">\n     <g id=\"line2d_13\">\n      <g>\n       <use style=\"stroke:#000000;stroke-width:0.8;\" x=\"34.240625\" xlink:href=\"#m66ecd2071f\" y=\"34.297496\"/>\n      </g>\n     </g>\n     <g id=\"text_14\">\n      <!-- 5 -->\n      <g transform=\"translate(20.878125 38.096715)scale(0.1 -0.1)\">\n       <use xlink:href=\"#DejaVuSans-53\"/>\n      </g>\n     </g>\n    </g>\n    <g id=\"text_15\">\n     <!-- Return -->\n     <defs>\n      <path d=\"M 44.390625 34.1875 \nQ 47.5625 33.109375 50.5625 29.59375 \nQ 53.5625 26.078125 56.59375 19.921875 \nL 66.609375 0 \nL 56 0 \nL 46.6875 18.703125 \nQ 43.0625 26.03125 39.671875 28.421875 \nQ 36.28125 30.8125 30.421875 30.8125 \nL 19.671875 30.8125 \nL 19.671875 0 \nL 9.8125 0 \nL 9.8125 72.90625 \nL 32.078125 72.90625 \nQ 44.578125 72.90625 50.734375 67.671875 \nQ 56.890625 62.453125 56.890625 51.90625 \nQ 56.890625 45.015625 53.6875 40.46875 \nQ 50.484375 35.9375 44.390625 34.1875 \nz\nM 19.671875 64.796875 \nL 19.671875 38.921875 \nL 32.078125 38.921875 \nQ 39.203125 38.921875 42.84375 42.21875 \nQ 46.484375 45.515625 46.484375 51.90625 \nQ 46.484375 58.296875 42.84375 61.546875 \nQ 39.203125 64.796875 32.078125 64.796875 \nz\n\" id=\"DejaVuSans-82\"/>\n      <path d=\"M 8.5 21.578125 \nL 8.5 54.6875 \nL 17.484375 54.6875 \nL 17.484375 21.921875 \nQ 17.484375 14.15625 20.5 10.265625 \nQ 23.53125 6.390625 29.59375 6.390625 \nQ 36.859375 6.390625 41.078125 11.03125 \nQ 45.3125 15.671875 45.3125 23.6875 \nL 45.3125 54.6875 \nL 54.296875 54.6875 \nL 54.296875 0 \nL 45.3125 0 \nL 45.3125 8.40625 \nQ 42.046875 3.421875 37.71875 1 \nQ 33.40625 -1.421875 27.6875 -1.421875 \nQ 18.265625 -1.421875 13.375 4.4375 \nQ 8.5 10.296875 8.5 21.578125 \nz\nM 31.109375 56 \nz\n\" id=\"DejaVuSans-117\"/>\n     </defs>\n     <g transform=\"translate(14.798437 136.32)rotate(-90)scale(0.1 -0.1)\">\n      <use xlink:href=\"#DejaVuSans-82\"/>\n      <use x=\"69.419922\" xlink:href=\"#DejaVuSans-101\"/>\n      <use x=\"130.943359\" xlink:href=\"#DejaVuSans-116\"/>\n      <use x=\"170.152344\" xlink:href=\"#DejaVuSans-117\"/>\n      <use x=\"233.53125\" xlink:href=\"#DejaVuSans-114\"/>\n      <use x=\"274.628906\" xlink:href=\"#DejaVuSans-110\"/>\n     </g>\n    </g>\n   </g>\n   <g id=\"line2d_14\">\n    <path clip-path=\"url(#pf8485b6302)\" d=\"M 144.589466 154.180095 \nL 144.586629 154.18253 \nL 144.669447 154.162522 \nL 144.58718 154.181822 \nL 144.610077 154.170053 \nL 144.586824 154.182031 \nL 144.607999 154.170823 \nL 144.587044 154.182034 \nL 144.587216 154.181903 \nL 144.587036 154.181926 \nL 144.587037 154.181926 \nL 144.587036 154.181924 \nL 144.592206 154.178265 \nL 144.587041 154.181931 \nL 144.587036 154.181926 \nL 139.589913 155.590928 \nL 134.503454 157.116251 \nL 130.274463 158.473812 \nL 126.790331 159.68072 \nL 121.377041 161.706313 \nL 115.635971 163.9479 \nL 110.033285 166.245631 \nL 103.974553 168.831588 \nL 98.117339 171.397032 \nL 93.062281 173.682918 \nL 88.72112 175.716796 \nL 85.016458 177.526794 \nL 81.873752 179.139281 \nL 79.226879 180.57405 \nL 77.012064 181.8514 \nL 75.171446 182.987763 \nL 73.650477 184.000786 \nL 72.40196 184.901933 \nL 71.225175 185.832566 \nL 69.195729 187.543244 \nL 67.206391 189.326758 \nL 65.507195 190.940618 \nL 64.091142 192.377467 \nL 62.913477 193.661948 \nL 60.778412 196.124359 \nL 58.953099 198.322583 \nL 57.409726 200.269356 \nL 56.105404 202.005904 \nL 55.014387 203.549134 \nL 54.104944 204.925356 \nL 53.355148 206.147144 \nL 52.737922 207.236359 \nL 52.233392 208.206095 \nL 51.822841 209.069126 \nL 51.4909 209.837631 \nL 51.223117 210.521078 \nL 51.007435 211.130542 \nL 50.834822 211.671923 \nL 50.625107 212.405943 \nL 50.436581 213.134355 \nL 50.296638 213.732994 \nL 50.241545 213.997181 \nL 50.197746 214.232366 \nL 50.162949 214.441729 \nL 50.135316 214.628123 \nL 50.113386 214.79402 \nL 50.096001 214.941541 \nL 50.082177 215.073211 \nL 50.071248 215.190189 \nL 50.062545 215.294463 \nL 50.055661 215.387232 \nL 50.050204 215.469794 \nL 50.045874 215.543273 \nL 50.042607 215.601617 \nL 50.039729 215.667003 \nL 50.037565 215.718953 \nL 50.035865 215.765036 \nL 50.034508 215.806168 \nL 50.033438 215.842712 \nL 50.032812 215.873215 \nL 50.031916 215.904284 \nL 50.031419 215.930111 \nL 50.030958 215.953077 \nL 50.030623 215.973531 \nL 50.030355 215.991637 \nL 50.030145 216.007957 \nL 50.030061 216.022478 \nL 50.029914 216.036039 \nL 50.029791 216.046767 \nL 50.029737 216.057384 \nL 50.029595 216.065906 \nL 50.029499 216.07414 \nL 50.0295 216.081158 \nL 50.029467 216.087552 \nL 50.029441 216.093243 \nL 50.029467 216.098156 \nL 50.029402 216.102788 \nL 50.029391 216.106838 \nL 50.029382 216.110408 \nL 50.029373 216.113593 \nL 50.029366 216.116425 \nL 50.029334 216.11903 \nL 50.029186 216.121959 \nL 50.029355 216.123187 \nL 50.029308 216.125194 \n\" style=\"fill:none;stroke:#1f77b4;stroke-linecap:square;stroke-width:1.5;\"/>\n   </g>\n   <g id=\"line2d_15\">\n    <path clip-path=\"url(#pf8485b6302)\" d=\"M 216.146102 109.124747 \nL 215.446137 109.190938 \nL 214.891348 109.248419 \nL 214.45048 109.299564 \nL 214.100323 109.345129 \nL 213.822358 109.385672 \nL 211.449571 109.783435 \nL 206.874726 110.602968 \nL 203.170737 111.330813 \nL 200.151805 111.98775 \nL 197.734062 112.561914 \nL 192.599416 113.94038 \nL 182.37669 116.811724 \nL 173.792864 119.355878 \nL 166.540951 121.625743 \nL 160.4969 123.654095 \nL 155.493191 125.455912 \nL 151.212565 127.130061 \nL 143.894993 130.167445 \nL 137.696274 132.904396 \nL 132.520249 135.325275 \nL 126.482591 138.343121 \nL 120.14901 141.643088 \nL 113.510044 145.244776 \nL 108.001373 148.345288 \nL 103.893566 150.784659 \nL 98.758261 153.993384 \nL 94.23503 156.933747 \nL 90.390483 159.551393 \nL 87.144142 161.88227 \nL 84.421363 163.957031 \nL 82.297672 165.684612 \nL 79.407925 168.201297 \nL 76.858819 170.542975 \nL 74.723712 172.62742 \nL 72.947247 174.483272 \nL 71.244903 176.400041 \nL 69.607849 178.371995 \nL 68.161315 180.243694 \nL 66.399691 182.717293 \nL 63.706755 186.622849 \nL 61.380883 190.099319 \nL 59.382865 193.194633 \nL 57.677455 195.949273 \nL 56.230379 198.401856 \nL 55.010782 200.585261 \nL 53.989863 202.528924 \nL 53.14091 204.259188 \nL 52.439411 205.799559 \nL 51.863283 207.170736 \nL 51.392654 208.391419 \nL 51.010125 209.478012 \nL 50.700481 210.44544 \nL 50.450877 211.306371 \nL 50.250126 212.07321 \nL 50.08925 212.755631 \nL 49.960532 213.363218 \nL 49.857769 213.904052 \nL 49.775835 214.385514 \nL 49.710589 214.814117 \nL 49.658631 215.196201 \nL 49.617418 215.535326 \nL 49.584637 215.837698 \nL 49.558609 216.106862 \nL 49.537948 216.346492 \nL 49.521554 216.559828 \nL 49.50855 216.749711 \nL 49.498266 216.91879 \nL 49.491061 217.048791 \nL 49.483573 217.20322 \nL 49.478431 217.322498 \nL 49.474349 217.428484 \nL 49.471127 217.523162 \nL 49.468567 217.607284 \nL 49.466537 217.682198 \nL 49.465557 217.745178 \nL 49.463798 217.803942 \nL 49.462643 217.861072 \nL 49.461887 217.908259 \nL 49.461207 217.949986 \nL 49.460704 217.987264 \nL 49.460306 218.020449 \nL 49.45999 218.049993 \nL 49.45974 218.076291 \nL 49.459541 218.099701 \nL 49.45937 218.120559 \nL 49.459259 218.139164 \nL 49.459161 218.155612 \nL 49.459083 218.170315 \nL 49.45902 218.183407 \nL 49.458971 218.195064 \nL 49.458932 218.205429 \nL 49.458902 218.214662 \nL 49.458877 218.222881 \nL 49.458858 218.230201 \nL 49.458842 218.236715 \nL 49.45883 218.242514 \nL 49.458821 218.247675 \nL 49.458813 218.252272 \nL 49.458815 218.256276 \n\" style=\"fill:none;stroke:#ff7f0e;stroke-linecap:square;stroke-width:1.5;\"/>\n   </g>\n   <g id=\"line2d_16\">\n    <path clip-path=\"url(#pf8485b6302)\" d=\"M 353.822443 20.583636 \nL 343.552882 22.231066 \nL 335.17049 23.696063 \nL 328.349654 25.002952 \nL 322.832935 26.165127 \nL 318.393207 27.200435 \nL 314.809707 28.120719 \nL 302.016485 31.771647 \nL 286.776668 36.33579 \nL 274.013996 40.398031 \nL 263.393891 44.01439 \nL 254.613486 47.234258 \nL 247.429776 50.092395 \nL 235.218374 55.289297 \nL 224.426446 60.182226 \nL 215.457805 64.50176 \nL 208.000083 68.367083 \nL 196.653869 74.675914 \nL 181.464907 83.328689 \nL 168.207215 91.030612 \nL 156.680247 97.888243 \nL 146.709532 103.991555 \nL 138.126793 109.425499 \nL 130.782036 114.263319 \nL 124.537606 118.568943 \nL 119.261822 122.402681 \nL 114.354947 126.17775 \nL 110.34406 129.453232 \nL 107.108996 132.282377 \nL 104.439025 134.800232 \nL 100.318873 138.973059 \nL 96.582807 142.963157 \nL 93.452894 146.515482 \nL 90.849002 149.677617 \nL 87.033787 154.663774 \nL 81.770249 161.64311 \nL 77.133961 167.861352 \nL 73.061816 173.402801 \nL 69.501406 178.33184 \nL 66.399268 182.717944 \nL 63.706652 186.622791 \nL 61.380882 190.099321 \nL 59.38316 193.194182 \nL 57.677456 195.949273 \nL 56.230765 198.40125 \nL 55.010782 200.585261 \nL 53.991063 202.526606 \nL 53.140902 204.259202 \nL 52.43943 205.79952 \nL 51.863283 207.170736 \nL 51.392657 208.39141 \nL 51.010104 209.478078 \nL 50.700486 210.445424 \nL 50.450811 211.306607 \nL 50.250122 212.073227 \nL 50.089232 212.755684 \nL 49.960532 213.363218 \nL 49.857768 213.904054 \nL 49.775845 214.385464 \nL 49.710589 214.814117 \nL 49.658681 215.195665 \nL 49.617418 215.535326 \nL 49.584637 215.837697 \nL 49.558617 216.106962 \nL 49.537479 216.351415 \nL 49.521554 216.559811 \nL 49.50855 216.74971 \nL 49.498236 216.91876 \nL 49.490058 217.069251 \nL 49.483832 217.200196 \nL 49.478433 217.322475 \nL 49.474357 217.428706 \nL 49.471127 217.523162 \nL 49.468566 217.607299 \nL 49.466537 217.682199 \nL 49.464928 217.748875 \nL 49.463653 217.808232 \nL 49.46258 217.859598 \nL 49.461842 217.908111 \nL 49.461267 217.949347 \nL 49.460705 217.987264 \nL 49.460306 218.020449 \nL 49.45999 218.049991 \nL 49.459395 218.078753 \nL 49.45998 218.093489 \nL 49.459384 218.120542 \nL 49.459185 218.145089 \nL 49.45916 218.155665 \nL 49.459083 218.170315 \nL 49.459023 218.183392 \nL 49.458972 218.195047 \nL 49.458932 218.205429 \nL 49.458902 218.214663 \nL 49.458877 218.222884 \nL 49.45886 218.230244 \nL 49.458842 218.236715 \nL 49.45883 218.242514 \nL 49.458821 218.247677 \nL 49.458813 218.252237 \nL 49.458807 218.256364 \n\" style=\"fill:none;stroke:#2ca02c;stroke-linecap:square;stroke-width:1.5;\"/>\n   </g>\n   <g id=\"patch_3\">\n    <path d=\"M 34.240625 228.14 \nL 34.240625 10.7 \n\" style=\"fill:none;stroke:#000000;stroke-linecap:square;stroke-linejoin:miter;stroke-width:0.8;\"/>\n   </g>\n   <g id=\"patch_4\">\n    <path d=\"M 369.040625 228.14 \nL 369.040625 10.7 \n\" style=\"fill:none;stroke:#000000;stroke-linecap:square;stroke-linejoin:miter;stroke-width:0.8;\"/>\n   </g>\n   <g id=\"patch_5\">\n    <path d=\"M 34.240625 228.14 \nL 369.040625 228.14 \n\" style=\"fill:none;stroke:#000000;stroke-linecap:square;stroke-linejoin:miter;stroke-width:0.8;\"/>\n   </g>\n   <g id=\"patch_6\">\n    <path d=\"M 34.240625 10.7 \nL 369.040625 10.7 \n\" style=\"fill:none;stroke:#000000;stroke-linecap:square;stroke-linejoin:miter;stroke-width:0.8;\"/>\n   </g>\n   <g id=\"legend_1\">\n    <g id=\"patch_7\">\n     <path d=\"M 287.140625 223.14 \nL 362.040625 223.14 \nQ 364.040625 223.14 364.040625 221.14 \nL 364.040625 178.105625 \nQ 364.040625 176.105625 362.040625 176.105625 \nL 287.140625 176.105625 \nQ 285.140625 176.105625 285.140625 178.105625 \nL 285.140625 221.14 \nQ 285.140625 223.14 287.140625 223.14 \nz\n\" style=\"fill:#ffffff;opacity:0.8;stroke:#cccccc;stroke-linejoin:miter;\"/>\n    </g>\n    <g id=\"line2d_17\">\n     <path d=\"M 289.140625 184.204062 \nL 309.140625 184.204062 \n\" style=\"fill:none;stroke:#1f77b4;stroke-linecap:square;stroke-width:1.5;\"/>\n    </g>\n    <g id=\"line2d_18\"/>\n    <g id=\"text_16\">\n     <!-- $L^{\\max}$ = 1 -->\n     <defs>\n      <path d=\"M 16.796875 72.90625 \nL 26.703125 72.90625 \nL 14.203125 8.203125 \nL 49.703125 8.203125 \nL 48.09375 0 \nL 2.6875 0 \nz\n\" id=\"DejaVuSans-Oblique-76\"/>\n      <path d=\"M 52 44.1875 \nQ 55.375 50.25 60.0625 53.125 \nQ 64.75 56 71.09375 56 \nQ 79.640625 56 84.28125 50.015625 \nQ 88.921875 44.046875 88.921875 33.015625 \nL 88.921875 0 \nL 79.890625 0 \nL 79.890625 32.71875 \nQ 79.890625 40.578125 77.09375 44.375 \nQ 74.3125 48.1875 68.609375 48.1875 \nQ 61.625 48.1875 57.5625 43.546875 \nQ 53.515625 38.921875 53.515625 30.90625 \nL 53.515625 0 \nL 44.484375 0 \nL 44.484375 32.71875 \nQ 44.484375 40.625 41.703125 44.40625 \nQ 38.921875 48.1875 33.109375 48.1875 \nQ 26.21875 48.1875 22.15625 43.53125 \nQ 18.109375 38.875 18.109375 30.90625 \nL 18.109375 0 \nL 9.078125 0 \nL 9.078125 54.6875 \nL 18.109375 54.6875 \nL 18.109375 46.1875 \nQ 21.1875 51.21875 25.484375 53.609375 \nQ 29.78125 56 35.6875 56 \nQ 41.65625 56 45.828125 52.96875 \nQ 50 49.953125 52 44.1875 \nz\n\" id=\"DejaVuSans-109\"/>\n      <path d=\"M 54.890625 54.6875 \nL 35.109375 28.078125 \nL 55.90625 0 \nL 45.3125 0 \nL 29.390625 21.484375 \nL 13.484375 0 \nL 2.875 0 \nL 24.125 28.609375 \nL 4.6875 54.6875 \nL 15.28125 54.6875 \nL 29.78125 35.203125 \nL 44.28125 54.6875 \nz\n\" id=\"DejaVuSans-120\"/>\n      <path d=\"M 10.59375 45.40625 \nL 73.1875 45.40625 \nL 73.1875 37.203125 \nL 10.59375 37.203125 \nz\nM 10.59375 25.484375 \nL 73.1875 25.484375 \nL 73.1875 17.1875 \nL 10.59375 17.1875 \nz\n\" id=\"DejaVuSans-61\"/>\n     </defs>\n     <g transform=\"translate(317.140625 187.704062)scale(0.1 -0.1)\">\n      <use transform=\"translate(0 0.51875)\" xlink:href=\"#DejaVuSans-Oblique-76\"/>\n      <use transform=\"translate(62.729661 38.8)scale(0.7)\" xlink:href=\"#DejaVuSans-109\"/>\n      <use transform=\"translate(130.918138 38.8)scale(0.7)\" xlink:href=\"#DejaVuSans-97\"/>\n      <use transform=\"translate(173.813646 38.8)scale(0.7)\" xlink:href=\"#DejaVuSans-120\"/>\n      <use transform=\"translate(217.973802 0.51875)\" xlink:href=\"#DejaVuSans-32\"/>\n      <use transform=\"translate(249.760911 0.51875)\" xlink:href=\"#DejaVuSans-61\"/>\n      <use transform=\"translate(333.549974 0.51875)\" xlink:href=\"#DejaVuSans-32\"/>\n      <use transform=\"translate(365.337083 0.51875)\" xlink:href=\"#DejaVuSans-49\"/>\n     </g>\n    </g>\n    <g id=\"line2d_19\">\n     <path d=\"M 289.140625 198.882187 \nL 309.140625 198.882187 \n\" style=\"fill:none;stroke:#ff7f0e;stroke-linecap:square;stroke-width:1.5;\"/>\n    </g>\n    <g id=\"line2d_20\"/>\n    <g id=\"text_17\">\n     <!-- $L^{\\max}$ = 2 -->\n     <g transform=\"translate(317.140625 202.382187)scale(0.1 -0.1)\">\n      <use transform=\"translate(0 0.51875)\" xlink:href=\"#DejaVuSans-Oblique-76\"/>\n      <use transform=\"translate(62.729661 38.8)scale(0.7)\" xlink:href=\"#DejaVuSans-109\"/>\n      <use transform=\"translate(130.918138 38.8)scale(0.7)\" xlink:href=\"#DejaVuSans-97\"/>\n      <use transform=\"translate(173.813646 38.8)scale(0.7)\" xlink:href=\"#DejaVuSans-120\"/>\n      <use transform=\"translate(217.973802 0.51875)\" xlink:href=\"#DejaVuSans-32\"/>\n      <use transform=\"translate(249.760911 0.51875)\" xlink:href=\"#DejaVuSans-61\"/>\n      <use transform=\"translate(333.549974 0.51875)\" xlink:href=\"#DejaVuSans-32\"/>\n      <use transform=\"translate(365.337083 0.51875)\" xlink:href=\"#DejaVuSans-50\"/>\n     </g>\n    </g>\n    <g id=\"line2d_21\">\n     <path d=\"M 289.140625 213.560312 \nL 309.140625 213.560312 \n\" style=\"fill:none;stroke:#2ca02c;stroke-linecap:square;stroke-width:1.5;\"/>\n    </g>\n    <g id=\"line2d_22\"/>\n    <g id=\"text_18\">\n     <!-- $L^{\\max}$ = 4 -->\n     <g transform=\"translate(317.140625 217.060312)scale(0.1 -0.1)\">\n      <use transform=\"translate(0 0.51875)\" xlink:href=\"#DejaVuSans-Oblique-76\"/>\n      <use transform=\"translate(62.729661 38.8)scale(0.7)\" xlink:href=\"#DejaVuSans-109\"/>\n      <use transform=\"translate(130.918138 38.8)scale(0.7)\" xlink:href=\"#DejaVuSans-97\"/>\n      <use transform=\"translate(173.813646 38.8)scale(0.7)\" xlink:href=\"#DejaVuSans-120\"/>\n      <use transform=\"translate(217.973802 0.51875)\" xlink:href=\"#DejaVuSans-32\"/>\n      <use transform=\"translate(249.760911 0.51875)\" xlink:href=\"#DejaVuSans-61\"/>\n      <use transform=\"translate(333.549974 0.51875)\" xlink:href=\"#DejaVuSans-32\"/>\n      <use transform=\"translate(365.337083 0.51875)\" xlink:href=\"#DejaVuSans-52\"/>\n     </g>\n    </g>\n   </g>\n  </g>\n </g>\n <defs>\n  <clipPath id=\"pf8485b6302\">\n   <rect height=\"217.44\" width=\"334.8\" x=\"34.240625\" y=\"10.7\"/>\n  </clipPath>\n </defs>\n</svg>\n",
            "text/plain": [
              "<Figure size 432x288 with 1 Axes>"
            ]
          },
          "metadata": {
            "tags": [],
            "needs_background": "light"
          }
        }
      ]
    },
    {
      "cell_type": "markdown",
      "metadata": {
        "id": "bzPj_HkrvRPo",
        "colab_type": "text"
      },
      "source": [
        "We next examine the points on each trade-off curve where $w^T\\Sigma w = 2$.\n",
        "We plot the amount of each asset held in each portfolio as bar graphs. (Negative holdings indicate a short position.)\n",
        "Notice that some assets are held in a long position for the low leverage portfolio but in a short position in the higher leverage portfolios. "
      ]
    },
    {
      "cell_type": "code",
      "metadata": {
        "id": "papStlcAvRPp",
        "colab_type": "code",
        "colab": {}
      },
      "source": [
        "# Portfolio optimization with a leverage limit and a bound on risk.\n",
        "prob = cp.Problem(cp.Maximize(ret), \n",
        "              [cp.sum(w) == 1, \n",
        "               cp.norm(w, 1) <= Lmax,\n",
        "               risk <= 2])"
      ],
      "execution_count": 0,
      "outputs": []
    },
    {
      "cell_type": "code",
      "metadata": {
        "id": "Zi2p_twTvRPp",
        "colab_type": "code",
        "colab": {}
      },
      "source": [
        "# Compute solution for different leverage limits.\n",
        "for k, L_val in enumerate(L_vals):\n",
        "    Lmax.value = L_val\n",
        "    prob.solve()\n",
        "    w_vals.append( w.value )"
      ],
      "execution_count": 0,
      "outputs": []
    },
    {
      "cell_type": "code",
      "metadata": {
        "id": "_wONzl5QvRPq",
        "colab_type": "code",
        "outputId": "70d9dd7a-d061-444c-a7c0-d7cdf4ce5d5d",
        "colab": {}
      },
      "source": [
        "# Plot bar graph of holdings for different leverage limits.\n",
        "colors = ['b', 'g', 'r']\n",
        "indices = np.argsort(mu.flatten())\n",
        "for idx, L_val in enumerate(L_vals):\n",
        "     plt.bar(np.arange(1,n+1) + 0.25*idx - 0.375, w_vals[idx][indices], color=colors[idx], \n",
        "             label=r\"$L^{\\max}$ = %d\" % L_val, width = 0.25)\n",
        "plt.ylabel(r\"$w_i$\", fontsize=16)\n",
        "plt.xlabel(r\"$i$\", fontsize=16)\n",
        "plt.xlim([1-0.375, 10+.375])\n",
        "plt.xticks(np.arange(1,n+1))\n",
        "plt.show()"
      ],
      "execution_count": 0,
      "outputs": [
        {
          "output_type": "display_data",
          "data": {
            "image/svg+xml": "<?xml version=\"1.0\" encoding=\"utf-8\" standalone=\"no\"?>\n<!DOCTYPE svg PUBLIC \"-//W3C//DTD SVG 1.1//EN\"\n  \"http://www.w3.org/Graphics/SVG/1.1/DTD/svg11.dtd\">\n<!-- Created with matplotlib (https://matplotlib.org/) -->\n<svg height=\"271.503125pt\" version=\"1.1\" viewBox=\"0 0 403.467812 271.503125\" width=\"403.467812pt\" xmlns=\"http://www.w3.org/2000/svg\" xmlns:xlink=\"http://www.w3.org/1999/xlink\">\n <defs>\n  <style type=\"text/css\">\n*{stroke-linecap:butt;stroke-linejoin:round;}\n  </style>\n </defs>\n <g id=\"figure_1\">\n  <g id=\"patch_1\">\n   <path d=\"M -0 271.503125 \nL 403.467812 271.503125 \nL 403.467812 0 \nL -0 0 \nz\n\" style=\"fill:none;\"/>\n  </g>\n  <g id=\"axes_1\">\n   <g id=\"patch_2\">\n    <path d=\"M 57.967813 228.14 \nL 392.767812 228.14 \nL 392.767812 10.7 \nL 57.967813 10.7 \nz\n\" style=\"fill:#ffffff;\"/>\n   </g>\n   <g id=\"patch_3\">\n    <path clip-path=\"url(#pbc52fb767c)\" d=\"M 53.675505 159.507423 \nL 62.26012 159.507423 \nL 62.26012 159.507423 \nL 53.675505 159.507423 \nz\n\" style=\"fill:#0000ff;\"/>\n   </g>\n   <g id=\"patch_4\">\n    <path clip-path=\"url(#pbc52fb767c)\" d=\"M 88.013966 159.507423 \nL 96.598582 159.507423 \nL 96.598582 159.507423 \nL 88.013966 159.507423 \nz\n\" style=\"fill:#0000ff;\"/>\n   </g>\n   <g id=\"patch_5\">\n    <path clip-path=\"url(#pbc52fb767c)\" d=\"M 122.352428 159.507423 \nL 130.937043 159.507423 \nL 130.937043 159.507423 \nL 122.352428 159.507423 \nz\n\" style=\"fill:#0000ff;\"/>\n   </g>\n   <g id=\"patch_6\">\n    <path clip-path=\"url(#pbc52fb767c)\" d=\"M 156.690889 159.507423 \nL 165.275505 159.507423 \nL 165.275505 159.507423 \nL 156.690889 159.507423 \nz\n\" style=\"fill:#0000ff;\"/>\n   </g>\n   <g id=\"patch_7\">\n    <path clip-path=\"url(#pbc52fb767c)\" d=\"M 191.029351 159.507423 \nL 199.613966 159.507423 \nL 199.613966 159.507423 \nL 191.029351 159.507423 \nz\n\" style=\"fill:#0000ff;\"/>\n   </g>\n   <g id=\"patch_8\">\n    <path clip-path=\"url(#pbc52fb767c)\" d=\"M 225.367813 159.507423 \nL 233.952428 159.507423 \nL 233.952428 148.467177 \nL 225.367813 148.467177 \nz\n\" style=\"fill:#0000ff;\"/>\n   </g>\n   <g id=\"patch_9\">\n    <path clip-path=\"url(#pbc52fb767c)\" d=\"M 259.706274 159.507423 \nL 268.290889 159.507423 \nL 268.290889 136.250024 \nL 259.706274 136.250024 \nz\n\" style=\"fill:#0000ff;\"/>\n   </g>\n   <g id=\"patch_10\">\n    <path clip-path=\"url(#pbc52fb767c)\" d=\"M 294.044736 159.507423 \nL 302.629351 159.507423 \nL 302.629351 155.885669 \nL 294.044736 155.885669 \nz\n\" style=\"fill:#0000ff;\"/>\n   </g>\n   <g id=\"patch_11\">\n    <path clip-path=\"url(#pbc52fb767c)\" d=\"M 328.383197 159.507423 \nL 336.967812 159.507423 \nL 336.967812 134.964876 \nL 328.383197 134.964876 \nz\n\" style=\"fill:#0000ff;\"/>\n   </g>\n   <g id=\"patch_12\">\n    <path clip-path=\"url(#pbc52fb767c)\" d=\"M 362.721659 159.507423 \nL 371.306274 159.507423 \nL 371.306274 76.482504 \nL 362.721659 76.482504 \nz\n\" style=\"fill:#0000ff;\"/>\n   </g>\n   <g id=\"patch_13\">\n    <path clip-path=\"url(#pbc52fb767c)\" d=\"M 62.26012 159.507423 \nL 70.844736 159.507423 \nL 70.844736 168.584868 \nL 62.26012 168.584868 \nz\n\" style=\"fill:#008000;\"/>\n   </g>\n   <g id=\"patch_14\">\n    <path clip-path=\"url(#pbc52fb767c)\" d=\"M 96.598582 159.507423 \nL 105.183197 159.507423 \nL 105.183197 159.507426 \nL 96.598582 159.507426 \nz\n\" style=\"fill:#008000;\"/>\n   </g>\n   <g id=\"patch_15\">\n    <path clip-path=\"url(#pbc52fb767c)\" d=\"M 130.937043 159.507423 \nL 139.521659 159.507423 \nL 139.521659 159.507425 \nL 130.937043 159.507425 \nz\n\" style=\"fill:#008000;\"/>\n   </g>\n   <g id=\"patch_16\">\n    <path clip-path=\"url(#pbc52fb767c)\" d=\"M 165.275505 159.507423 \nL 173.86012 159.507423 \nL 173.86012 204.595304 \nL 165.275505 204.595304 \nz\n\" style=\"fill:#008000;\"/>\n   </g>\n   <g id=\"patch_17\">\n    <path clip-path=\"url(#pbc52fb767c)\" d=\"M 199.613966 159.507423 \nL 208.198582 159.507423 \nL 208.198582 170.68925 \nL 199.613966 170.68925 \nz\n\" style=\"fill:#008000;\"/>\n   </g>\n   <g id=\"patch_18\">\n    <path clip-path=\"url(#pbc52fb767c)\" d=\"M 233.952428 159.507423 \nL 242.537043 159.507423 \nL 242.537043 126.105963 \nL 233.952428 126.105963 \nz\n\" style=\"fill:#008000;\"/>\n   </g>\n   <g id=\"patch_19\">\n    <path clip-path=\"url(#pbc52fb767c)\" d=\"M 268.290889 159.507423 \nL 276.875505 159.507423 \nL 276.875505 114.469315 \nL 268.290889 114.469315 \nz\n\" style=\"fill:#008000;\"/>\n   </g>\n   <g id=\"patch_20\">\n    <path clip-path=\"url(#pbc52fb767c)\" d=\"M 302.629351 159.507423 \nL 311.213966 159.507423 \nL 311.213966 166.903689 \nL 302.629351 166.903689 \nz\n\" style=\"fill:#008000;\"/>\n   </g>\n   <g id=\"patch_21\">\n    <path clip-path=\"url(#pbc52fb767c)\" d=\"M 336.967812 159.507423 \nL 345.552428 159.507423 \nL 345.552428 122.698603 \nL 336.967812 122.698603 \nz\n\" style=\"fill:#008000;\"/>\n   </g>\n   <g id=\"patch_22\">\n    <path clip-path=\"url(#pbc52fb767c)\" d=\"M 371.306274 159.507423 \nL 379.890889 159.507423 \nL 379.890889 56.52552 \nL 371.306274 56.52552 \nz\n\" style=\"fill:#008000;\"/>\n   </g>\n   <g id=\"patch_23\">\n    <path clip-path=\"url(#pbc52fb767c)\" d=\"M 70.844736 159.507423 \nL 79.429351 159.507423 \nL 79.429351 173.737617 \nL 70.844736 173.737617 \nz\n\" style=\"fill:#ff0000;\"/>\n   </g>\n   <g id=\"patch_24\">\n    <path clip-path=\"url(#pbc52fb767c)\" d=\"M 105.183197 159.507423 \nL 113.767813 159.507423 \nL 113.767813 143.684332 \nL 105.183197 143.684332 \nz\n\" style=\"fill:#ff0000;\"/>\n   </g>\n   <g id=\"patch_25\">\n    <path clip-path=\"url(#pbc52fb767c)\" d=\"M 139.521659 159.507423 \nL 148.106274 159.507423 \nL 148.106274 200.835022 \nL 139.521659 200.835022 \nz\n\" style=\"fill:#ff0000;\"/>\n   </g>\n   <g id=\"patch_26\">\n    <path clip-path=\"url(#pbc52fb767c)\" d=\"M 173.86012 159.507423 \nL 182.444736 159.507423 \nL 182.444736 218.256364 \nL 173.86012 218.256364 \nz\n\" style=\"fill:#ff0000;\"/>\n   </g>\n   <g id=\"patch_27\">\n    <path clip-path=\"url(#pbc52fb767c)\" d=\"M 208.198582 159.507423 \nL 216.783197 159.507423 \nL 216.783197 207.264713 \nL 208.198582 207.264713 \nz\n\" style=\"fill:#ff0000;\"/>\n   </g>\n   <g id=\"patch_28\">\n    <path clip-path=\"url(#pbc52fb767c)\" d=\"M 242.537043 159.507423 \nL 251.121659 159.507423 \nL 251.121659 64.73842 \nL 242.537043 64.73842 \nz\n\" style=\"fill:#ff0000;\"/>\n   </g>\n   <g id=\"patch_29\">\n    <path clip-path=\"url(#pbc52fb767c)\" d=\"M 276.875505 159.507423 \nL 285.46012 159.507423 \nL 285.46012 84.611243 \nL 276.875505 84.611243 \nz\n\" style=\"fill:#ff0000;\"/>\n   </g>\n   <g id=\"patch_30\">\n    <path clip-path=\"url(#pbc52fb767c)\" d=\"M 311.213966 159.507423 \nL 319.798582 159.507423 \nL 319.798582 215.673265 \nL 311.213966 215.673265 \nz\n\" style=\"fill:#ff0000;\"/>\n   </g>\n   <g id=\"patch_31\">\n    <path clip-path=\"url(#pbc52fb767c)\" d=\"M 345.552428 159.507423 \nL 354.137043 159.507423 \nL 354.137043 120.20275 \nL 345.552428 120.20275 \nz\n\" style=\"fill:#ff0000;\"/>\n   </g>\n   <g id=\"patch_32\">\n    <path clip-path=\"url(#pbc52fb767c)\" d=\"M 379.890889 159.507423 \nL 388.475505 159.507423 \nL 388.475505 20.583636 \nL 379.890889 20.583636 \nz\n\" style=\"fill:#ff0000;\"/>\n   </g>\n   <g id=\"matplotlib.axis_1\">\n    <g id=\"xtick_1\">\n     <g id=\"line2d_1\">\n      <defs>\n       <path d=\"M 0 0 \nL 0 3.5 \n\" id=\"m8c69216663\" style=\"stroke:#000000;stroke-width:0.8;\"/>\n      </defs>\n      <g>\n       <use style=\"stroke:#000000;stroke-width:0.8;\" x=\"70.844736\" xlink:href=\"#m8c69216663\" y=\"228.14\"/>\n      </g>\n     </g>\n     <g id=\"text_1\">\n      <!-- 1 -->\n      <defs>\n       <path d=\"M 12.40625 8.296875 \nL 28.515625 8.296875 \nL 28.515625 63.921875 \nL 10.984375 60.40625 \nL 10.984375 69.390625 \nL 28.421875 72.90625 \nL 38.28125 72.90625 \nL 38.28125 8.296875 \nL 54.390625 8.296875 \nL 54.390625 0 \nL 12.40625 0 \nz\n\" id=\"DejaVuSans-49\"/>\n      </defs>\n      <g transform=\"translate(67.663486 242.738437)scale(0.1 -0.1)\">\n       <use xlink:href=\"#DejaVuSans-49\"/>\n      </g>\n     </g>\n    </g>\n    <g id=\"xtick_2\">\n     <g id=\"line2d_2\">\n      <g>\n       <use style=\"stroke:#000000;stroke-width:0.8;\" x=\"105.183197\" xlink:href=\"#m8c69216663\" y=\"228.14\"/>\n      </g>\n     </g>\n     <g id=\"text_2\">\n      <!-- 2 -->\n      <defs>\n       <path d=\"M 19.1875 8.296875 \nL 53.609375 8.296875 \nL 53.609375 0 \nL 7.328125 0 \nL 7.328125 8.296875 \nQ 12.9375 14.109375 22.625 23.890625 \nQ 32.328125 33.6875 34.8125 36.53125 \nQ 39.546875 41.84375 41.421875 45.53125 \nQ 43.3125 49.21875 43.3125 52.78125 \nQ 43.3125 58.59375 39.234375 62.25 \nQ 35.15625 65.921875 28.609375 65.921875 \nQ 23.96875 65.921875 18.8125 64.3125 \nQ 13.671875 62.703125 7.8125 59.421875 \nL 7.8125 69.390625 \nQ 13.765625 71.78125 18.9375 73 \nQ 24.125 74.21875 28.421875 74.21875 \nQ 39.75 74.21875 46.484375 68.546875 \nQ 53.21875 62.890625 53.21875 53.421875 \nQ 53.21875 48.921875 51.53125 44.890625 \nQ 49.859375 40.875 45.40625 35.40625 \nQ 44.1875 33.984375 37.640625 27.21875 \nQ 31.109375 20.453125 19.1875 8.296875 \nz\n\" id=\"DejaVuSans-50\"/>\n      </defs>\n      <g transform=\"translate(102.001947 242.738437)scale(0.1 -0.1)\">\n       <use xlink:href=\"#DejaVuSans-50\"/>\n      </g>\n     </g>\n    </g>\n    <g id=\"xtick_3\">\n     <g id=\"line2d_3\">\n      <g>\n       <use style=\"stroke:#000000;stroke-width:0.8;\" x=\"139.521659\" xlink:href=\"#m8c69216663\" y=\"228.14\"/>\n      </g>\n     </g>\n     <g id=\"text_3\">\n      <!-- 3 -->\n      <defs>\n       <path d=\"M 40.578125 39.3125 \nQ 47.65625 37.796875 51.625 33 \nQ 55.609375 28.21875 55.609375 21.1875 \nQ 55.609375 10.40625 48.1875 4.484375 \nQ 40.765625 -1.421875 27.09375 -1.421875 \nQ 22.515625 -1.421875 17.65625 -0.515625 \nQ 12.796875 0.390625 7.625 2.203125 \nL 7.625 11.71875 \nQ 11.71875 9.328125 16.59375 8.109375 \nQ 21.484375 6.890625 26.8125 6.890625 \nQ 36.078125 6.890625 40.9375 10.546875 \nQ 45.796875 14.203125 45.796875 21.1875 \nQ 45.796875 27.640625 41.28125 31.265625 \nQ 36.765625 34.90625 28.71875 34.90625 \nL 20.21875 34.90625 \nL 20.21875 43.015625 \nL 29.109375 43.015625 \nQ 36.375 43.015625 40.234375 45.921875 \nQ 44.09375 48.828125 44.09375 54.296875 \nQ 44.09375 59.90625 40.109375 62.90625 \nQ 36.140625 65.921875 28.71875 65.921875 \nQ 24.65625 65.921875 20.015625 65.03125 \nQ 15.375 64.15625 9.8125 62.3125 \nL 9.8125 71.09375 \nQ 15.4375 72.65625 20.34375 73.4375 \nQ 25.25 74.21875 29.59375 74.21875 \nQ 40.828125 74.21875 47.359375 69.109375 \nQ 53.90625 64.015625 53.90625 55.328125 \nQ 53.90625 49.265625 50.4375 45.09375 \nQ 46.96875 40.921875 40.578125 39.3125 \nz\n\" id=\"DejaVuSans-51\"/>\n      </defs>\n      <g transform=\"translate(136.340409 242.738437)scale(0.1 -0.1)\">\n       <use xlink:href=\"#DejaVuSans-51\"/>\n      </g>\n     </g>\n    </g>\n    <g id=\"xtick_4\">\n     <g id=\"line2d_4\">\n      <g>\n       <use style=\"stroke:#000000;stroke-width:0.8;\" x=\"173.86012\" xlink:href=\"#m8c69216663\" y=\"228.14\"/>\n      </g>\n     </g>\n     <g id=\"text_4\">\n      <!-- 4 -->\n      <defs>\n       <path d=\"M 37.796875 64.3125 \nL 12.890625 25.390625 \nL 37.796875 25.390625 \nz\nM 35.203125 72.90625 \nL 47.609375 72.90625 \nL 47.609375 25.390625 \nL 58.015625 25.390625 \nL 58.015625 17.1875 \nL 47.609375 17.1875 \nL 47.609375 0 \nL 37.796875 0 \nL 37.796875 17.1875 \nL 4.890625 17.1875 \nL 4.890625 26.703125 \nz\n\" id=\"DejaVuSans-52\"/>\n      </defs>\n      <g transform=\"translate(170.67887 242.738437)scale(0.1 -0.1)\">\n       <use xlink:href=\"#DejaVuSans-52\"/>\n      </g>\n     </g>\n    </g>\n    <g id=\"xtick_5\">\n     <g id=\"line2d_5\">\n      <g>\n       <use style=\"stroke:#000000;stroke-width:0.8;\" x=\"208.198582\" xlink:href=\"#m8c69216663\" y=\"228.14\"/>\n      </g>\n     </g>\n     <g id=\"text_5\">\n      <!-- 5 -->\n      <defs>\n       <path d=\"M 10.796875 72.90625 \nL 49.515625 72.90625 \nL 49.515625 64.59375 \nL 19.828125 64.59375 \nL 19.828125 46.734375 \nQ 21.96875 47.46875 24.109375 47.828125 \nQ 26.265625 48.1875 28.421875 48.1875 \nQ 40.625 48.1875 47.75 41.5 \nQ 54.890625 34.8125 54.890625 23.390625 \nQ 54.890625 11.625 47.5625 5.09375 \nQ 40.234375 -1.421875 26.90625 -1.421875 \nQ 22.3125 -1.421875 17.546875 -0.640625 \nQ 12.796875 0.140625 7.71875 1.703125 \nL 7.71875 11.625 \nQ 12.109375 9.234375 16.796875 8.0625 \nQ 21.484375 6.890625 26.703125 6.890625 \nQ 35.15625 6.890625 40.078125 11.328125 \nQ 45.015625 15.765625 45.015625 23.390625 \nQ 45.015625 31 40.078125 35.4375 \nQ 35.15625 39.890625 26.703125 39.890625 \nQ 22.75 39.890625 18.8125 39.015625 \nQ 14.890625 38.140625 10.796875 36.28125 \nz\n\" id=\"DejaVuSans-53\"/>\n      </defs>\n      <g transform=\"translate(205.017332 242.738437)scale(0.1 -0.1)\">\n       <use xlink:href=\"#DejaVuSans-53\"/>\n      </g>\n     </g>\n    </g>\n    <g id=\"xtick_6\">\n     <g id=\"line2d_6\">\n      <g>\n       <use style=\"stroke:#000000;stroke-width:0.8;\" x=\"242.537043\" xlink:href=\"#m8c69216663\" y=\"228.14\"/>\n      </g>\n     </g>\n     <g id=\"text_6\">\n      <!-- 6 -->\n      <defs>\n       <path d=\"M 33.015625 40.375 \nQ 26.375 40.375 22.484375 35.828125 \nQ 18.609375 31.296875 18.609375 23.390625 \nQ 18.609375 15.53125 22.484375 10.953125 \nQ 26.375 6.390625 33.015625 6.390625 \nQ 39.65625 6.390625 43.53125 10.953125 \nQ 47.40625 15.53125 47.40625 23.390625 \nQ 47.40625 31.296875 43.53125 35.828125 \nQ 39.65625 40.375 33.015625 40.375 \nz\nM 52.59375 71.296875 \nL 52.59375 62.3125 \nQ 48.875 64.0625 45.09375 64.984375 \nQ 41.3125 65.921875 37.59375 65.921875 \nQ 27.828125 65.921875 22.671875 59.328125 \nQ 17.53125 52.734375 16.796875 39.40625 \nQ 19.671875 43.65625 24.015625 45.921875 \nQ 28.375 48.1875 33.59375 48.1875 \nQ 44.578125 48.1875 50.953125 41.515625 \nQ 57.328125 34.859375 57.328125 23.390625 \nQ 57.328125 12.15625 50.6875 5.359375 \nQ 44.046875 -1.421875 33.015625 -1.421875 \nQ 20.359375 -1.421875 13.671875 8.265625 \nQ 6.984375 17.96875 6.984375 36.375 \nQ 6.984375 53.65625 15.1875 63.9375 \nQ 23.390625 74.21875 37.203125 74.21875 \nQ 40.921875 74.21875 44.703125 73.484375 \nQ 48.484375 72.75 52.59375 71.296875 \nz\n\" id=\"DejaVuSans-54\"/>\n      </defs>\n      <g transform=\"translate(239.355793 242.738437)scale(0.1 -0.1)\">\n       <use xlink:href=\"#DejaVuSans-54\"/>\n      </g>\n     </g>\n    </g>\n    <g id=\"xtick_7\">\n     <g id=\"line2d_7\">\n      <g>\n       <use style=\"stroke:#000000;stroke-width:0.8;\" x=\"276.875505\" xlink:href=\"#m8c69216663\" y=\"228.14\"/>\n      </g>\n     </g>\n     <g id=\"text_7\">\n      <!-- 7 -->\n      <defs>\n       <path d=\"M 8.203125 72.90625 \nL 55.078125 72.90625 \nL 55.078125 68.703125 \nL 28.609375 0 \nL 18.3125 0 \nL 43.21875 64.59375 \nL 8.203125 64.59375 \nz\n\" id=\"DejaVuSans-55\"/>\n      </defs>\n      <g transform=\"translate(273.694255 242.738437)scale(0.1 -0.1)\">\n       <use xlink:href=\"#DejaVuSans-55\"/>\n      </g>\n     </g>\n    </g>\n    <g id=\"xtick_8\">\n     <g id=\"line2d_8\">\n      <g>\n       <use style=\"stroke:#000000;stroke-width:0.8;\" x=\"311.213966\" xlink:href=\"#m8c69216663\" y=\"228.14\"/>\n      </g>\n     </g>\n     <g id=\"text_8\">\n      <!-- 8 -->\n      <defs>\n       <path d=\"M 31.78125 34.625 \nQ 24.75 34.625 20.71875 30.859375 \nQ 16.703125 27.09375 16.703125 20.515625 \nQ 16.703125 13.921875 20.71875 10.15625 \nQ 24.75 6.390625 31.78125 6.390625 \nQ 38.8125 6.390625 42.859375 10.171875 \nQ 46.921875 13.96875 46.921875 20.515625 \nQ 46.921875 27.09375 42.890625 30.859375 \nQ 38.875 34.625 31.78125 34.625 \nz\nM 21.921875 38.8125 \nQ 15.578125 40.375 12.03125 44.71875 \nQ 8.5 49.078125 8.5 55.328125 \nQ 8.5 64.0625 14.71875 69.140625 \nQ 20.953125 74.21875 31.78125 74.21875 \nQ 42.671875 74.21875 48.875 69.140625 \nQ 55.078125 64.0625 55.078125 55.328125 \nQ 55.078125 49.078125 51.53125 44.71875 \nQ 48 40.375 41.703125 38.8125 \nQ 48.828125 37.15625 52.796875 32.3125 \nQ 56.78125 27.484375 56.78125 20.515625 \nQ 56.78125 9.90625 50.3125 4.234375 \nQ 43.84375 -1.421875 31.78125 -1.421875 \nQ 19.734375 -1.421875 13.25 4.234375 \nQ 6.78125 9.90625 6.78125 20.515625 \nQ 6.78125 27.484375 10.78125 32.3125 \nQ 14.796875 37.15625 21.921875 38.8125 \nz\nM 18.3125 54.390625 \nQ 18.3125 48.734375 21.84375 45.5625 \nQ 25.390625 42.390625 31.78125 42.390625 \nQ 38.140625 42.390625 41.71875 45.5625 \nQ 45.3125 48.734375 45.3125 54.390625 \nQ 45.3125 60.0625 41.71875 63.234375 \nQ 38.140625 66.40625 31.78125 66.40625 \nQ 25.390625 66.40625 21.84375 63.234375 \nQ 18.3125 60.0625 18.3125 54.390625 \nz\n\" id=\"DejaVuSans-56\"/>\n      </defs>\n      <g transform=\"translate(308.032716 242.738437)scale(0.1 -0.1)\">\n       <use xlink:href=\"#DejaVuSans-56\"/>\n      </g>\n     </g>\n    </g>\n    <g id=\"xtick_9\">\n     <g id=\"line2d_9\">\n      <g>\n       <use style=\"stroke:#000000;stroke-width:0.8;\" x=\"345.552428\" xlink:href=\"#m8c69216663\" y=\"228.14\"/>\n      </g>\n     </g>\n     <g id=\"text_9\">\n      <!-- 9 -->\n      <defs>\n       <path d=\"M 10.984375 1.515625 \nL 10.984375 10.5 \nQ 14.703125 8.734375 18.5 7.8125 \nQ 22.3125 6.890625 25.984375 6.890625 \nQ 35.75 6.890625 40.890625 13.453125 \nQ 46.046875 20.015625 46.78125 33.40625 \nQ 43.953125 29.203125 39.59375 26.953125 \nQ 35.25 24.703125 29.984375 24.703125 \nQ 19.046875 24.703125 12.671875 31.3125 \nQ 6.296875 37.9375 6.296875 49.421875 \nQ 6.296875 60.640625 12.9375 67.421875 \nQ 19.578125 74.21875 30.609375 74.21875 \nQ 43.265625 74.21875 49.921875 64.515625 \nQ 56.59375 54.828125 56.59375 36.375 \nQ 56.59375 19.140625 48.40625 8.859375 \nQ 40.234375 -1.421875 26.421875 -1.421875 \nQ 22.703125 -1.421875 18.890625 -0.6875 \nQ 15.09375 0.046875 10.984375 1.515625 \nz\nM 30.609375 32.421875 \nQ 37.25 32.421875 41.125 36.953125 \nQ 45.015625 41.5 45.015625 49.421875 \nQ 45.015625 57.28125 41.125 61.84375 \nQ 37.25 66.40625 30.609375 66.40625 \nQ 23.96875 66.40625 20.09375 61.84375 \nQ 16.21875 57.28125 16.21875 49.421875 \nQ 16.21875 41.5 20.09375 36.953125 \nQ 23.96875 32.421875 30.609375 32.421875 \nz\n\" id=\"DejaVuSans-57\"/>\n      </defs>\n      <g transform=\"translate(342.371178 242.738437)scale(0.1 -0.1)\">\n       <use xlink:href=\"#DejaVuSans-57\"/>\n      </g>\n     </g>\n    </g>\n    <g id=\"xtick_10\">\n     <g id=\"line2d_10\">\n      <g>\n       <use style=\"stroke:#000000;stroke-width:0.8;\" x=\"379.890889\" xlink:href=\"#m8c69216663\" y=\"228.14\"/>\n      </g>\n     </g>\n     <g id=\"text_10\">\n      <!-- 10 -->\n      <defs>\n       <path d=\"M 31.78125 66.40625 \nQ 24.171875 66.40625 20.328125 58.90625 \nQ 16.5 51.421875 16.5 36.375 \nQ 16.5 21.390625 20.328125 13.890625 \nQ 24.171875 6.390625 31.78125 6.390625 \nQ 39.453125 6.390625 43.28125 13.890625 \nQ 47.125 21.390625 47.125 36.375 \nQ 47.125 51.421875 43.28125 58.90625 \nQ 39.453125 66.40625 31.78125 66.40625 \nz\nM 31.78125 74.21875 \nQ 44.046875 74.21875 50.515625 64.515625 \nQ 56.984375 54.828125 56.984375 36.375 \nQ 56.984375 17.96875 50.515625 8.265625 \nQ 44.046875 -1.421875 31.78125 -1.421875 \nQ 19.53125 -1.421875 13.0625 8.265625 \nQ 6.59375 17.96875 6.59375 36.375 \nQ 6.59375 54.828125 13.0625 64.515625 \nQ 19.53125 74.21875 31.78125 74.21875 \nz\n\" id=\"DejaVuSans-48\"/>\n      </defs>\n      <g transform=\"translate(373.528389 242.738437)scale(0.1 -0.1)\">\n       <use xlink:href=\"#DejaVuSans-49\"/>\n       <use x=\"63.623047\" xlink:href=\"#DejaVuSans-48\"/>\n      </g>\n     </g>\n    </g>\n    <g id=\"text_11\">\n     <!-- $i$ -->\n     <defs>\n      <path d=\"M 18.3125 75.984375 \nL 27.296875 75.984375 \nL 25.09375 64.59375 \nL 16.109375 64.59375 \nz\nM 14.203125 54.6875 \nL 23.1875 54.6875 \nL 12.5 0 \nL 3.515625 0 \nz\n\" id=\"DejaVuSans-Oblique-105\"/>\n     </defs>\n     <g transform=\"translate(223.127813 260.975625)scale(0.16 -0.16)\">\n      <use transform=\"translate(0 0.015625)\" xlink:href=\"#DejaVuSans-Oblique-105\"/>\n     </g>\n    </g>\n   </g>\n   <g id=\"matplotlib.axis_2\">\n    <g id=\"ytick_1\">\n     <g id=\"line2d_11\">\n      <defs>\n       <path d=\"M 0 0 \nL -3.5 0 \n\" id=\"m6ce6ff8bfa\" style=\"stroke:#000000;stroke-width:0.8;\"/>\n      </defs>\n      <g>\n       <use style=\"stroke:#000000;stroke-width:0.8;\" x=\"57.967813\" xlink:href=\"#m6ce6ff8bfa\" y=\"217.702169\"/>\n      </g>\n     </g>\n     <g id=\"text_12\">\n      <!-- −0.4 -->\n      <defs>\n       <path d=\"M 10.59375 35.5 \nL 73.1875 35.5 \nL 73.1875 27.203125 \nL 10.59375 27.203125 \nz\n\" id=\"DejaVuSans-8722\"/>\n       <path d=\"M 10.6875 12.40625 \nL 21 12.40625 \nL 21 0 \nL 10.6875 0 \nz\n\" id=\"DejaVuSans-46\"/>\n      </defs>\n      <g transform=\"translate(26.685 221.501388)scale(0.1 -0.1)\">\n       <use xlink:href=\"#DejaVuSans-8722\"/>\n       <use x=\"83.789062\" xlink:href=\"#DejaVuSans-48\"/>\n       <use x=\"147.412109\" xlink:href=\"#DejaVuSans-46\"/>\n       <use x=\"179.199219\" xlink:href=\"#DejaVuSans-52\"/>\n      </g>\n     </g>\n    </g>\n    <g id=\"ytick_2\">\n     <g id=\"line2d_12\">\n      <g>\n       <use style=\"stroke:#000000;stroke-width:0.8;\" x=\"57.967813\" xlink:href=\"#m6ce6ff8bfa\" y=\"188.604796\"/>\n      </g>\n     </g>\n     <g id=\"text_13\">\n      <!-- −0.2 -->\n      <g transform=\"translate(26.685 192.404015)scale(0.1 -0.1)\">\n       <use xlink:href=\"#DejaVuSans-8722\"/>\n       <use x=\"83.789062\" xlink:href=\"#DejaVuSans-48\"/>\n       <use x=\"147.412109\" xlink:href=\"#DejaVuSans-46\"/>\n       <use x=\"179.199219\" xlink:href=\"#DejaVuSans-50\"/>\n      </g>\n     </g>\n    </g>\n    <g id=\"ytick_3\">\n     <g id=\"line2d_13\">\n      <g>\n       <use style=\"stroke:#000000;stroke-width:0.8;\" x=\"57.967813\" xlink:href=\"#m6ce6ff8bfa\" y=\"159.507423\"/>\n      </g>\n     </g>\n     <g id=\"text_14\">\n      <!-- 0.0 -->\n      <g transform=\"translate(35.064687 163.306642)scale(0.1 -0.1)\">\n       <use xlink:href=\"#DejaVuSans-48\"/>\n       <use x=\"63.623047\" xlink:href=\"#DejaVuSans-46\"/>\n       <use x=\"95.410156\" xlink:href=\"#DejaVuSans-48\"/>\n      </g>\n     </g>\n    </g>\n    <g id=\"ytick_4\">\n     <g id=\"line2d_14\">\n      <g>\n       <use style=\"stroke:#000000;stroke-width:0.8;\" x=\"57.967813\" xlink:href=\"#m6ce6ff8bfa\" y=\"130.41005\"/>\n      </g>\n     </g>\n     <g id=\"text_15\">\n      <!-- 0.2 -->\n      <g transform=\"translate(35.064687 134.209268)scale(0.1 -0.1)\">\n       <use xlink:href=\"#DejaVuSans-48\"/>\n       <use x=\"63.623047\" xlink:href=\"#DejaVuSans-46\"/>\n       <use x=\"95.410156\" xlink:href=\"#DejaVuSans-50\"/>\n      </g>\n     </g>\n    </g>\n    <g id=\"ytick_5\">\n     <g id=\"line2d_15\">\n      <g>\n       <use style=\"stroke:#000000;stroke-width:0.8;\" x=\"57.967813\" xlink:href=\"#m6ce6ff8bfa\" y=\"101.312676\"/>\n      </g>\n     </g>\n     <g id=\"text_16\">\n      <!-- 0.4 -->\n      <g transform=\"translate(35.064687 105.111895)scale(0.1 -0.1)\">\n       <use xlink:href=\"#DejaVuSans-48\"/>\n       <use x=\"63.623047\" xlink:href=\"#DejaVuSans-46\"/>\n       <use x=\"95.410156\" xlink:href=\"#DejaVuSans-52\"/>\n      </g>\n     </g>\n    </g>\n    <g id=\"ytick_6\">\n     <g id=\"line2d_16\">\n      <g>\n       <use style=\"stroke:#000000;stroke-width:0.8;\" x=\"57.967813\" xlink:href=\"#m6ce6ff8bfa\" y=\"72.215303\"/>\n      </g>\n     </g>\n     <g id=\"text_17\">\n      <!-- 0.6 -->\n      <g transform=\"translate(35.064687 76.014522)scale(0.1 -0.1)\">\n       <use xlink:href=\"#DejaVuSans-48\"/>\n       <use x=\"63.623047\" xlink:href=\"#DejaVuSans-46\"/>\n       <use x=\"95.410156\" xlink:href=\"#DejaVuSans-54\"/>\n      </g>\n     </g>\n    </g>\n    <g id=\"ytick_7\">\n     <g id=\"line2d_17\">\n      <g>\n       <use style=\"stroke:#000000;stroke-width:0.8;\" x=\"57.967813\" xlink:href=\"#m6ce6ff8bfa\" y=\"43.11793\"/>\n      </g>\n     </g>\n     <g id=\"text_18\">\n      <!-- 0.8 -->\n      <g transform=\"translate(35.064687 46.917149)scale(0.1 -0.1)\">\n       <use xlink:href=\"#DejaVuSans-48\"/>\n       <use x=\"63.623047\" xlink:href=\"#DejaVuSans-46\"/>\n       <use x=\"95.410156\" xlink:href=\"#DejaVuSans-56\"/>\n      </g>\n     </g>\n    </g>\n    <g id=\"ytick_8\">\n     <g id=\"line2d_18\">\n      <g>\n       <use style=\"stroke:#000000;stroke-width:0.8;\" x=\"57.967813\" xlink:href=\"#m6ce6ff8bfa\" y=\"14.020557\"/>\n      </g>\n     </g>\n     <g id=\"text_19\">\n      <!-- 1.0 -->\n      <g transform=\"translate(35.064687 17.819775)scale(0.1 -0.1)\">\n       <use xlink:href=\"#DejaVuSans-49\"/>\n       <use x=\"63.623047\" xlink:href=\"#DejaVuSans-46\"/>\n       <use x=\"95.410156\" xlink:href=\"#DejaVuSans-48\"/>\n      </g>\n     </g>\n    </g>\n    <g id=\"text_20\">\n     <!-- $w_i$ -->\n     <defs>\n      <path d=\"M 8.5 54.6875 \nL 17.390625 54.6875 \nL 19.671875 10.6875 \nL 40.09375 54.6875 \nL 50.484375 54.6875 \nL 53.515625 10.6875 \nL 72.90625 54.6875 \nL 81.890625 54.6875 \nL 56.890625 0 \nL 46.390625 0 \nL 43.703125 45.3125 \nL 22.796875 0 \nL 12.203125 0 \nz\n\" id=\"DejaVuSans-Oblique-119\"/>\n     </defs>\n     <g transform=\"translate(19.3575 127.74)rotate(-90)scale(0.16 -0.16)\">\n      <use transform=\"translate(0 0.3125)\" xlink:href=\"#DejaVuSans-Oblique-119\"/>\n      <use transform=\"translate(81.787109 -16.09375)scale(0.7)\" xlink:href=\"#DejaVuSans-Oblique-105\"/>\n     </g>\n    </g>\n   </g>\n   <g id=\"patch_33\">\n    <path d=\"M 57.967813 228.14 \nL 57.967813 10.7 \n\" style=\"fill:none;stroke:#000000;stroke-linecap:square;stroke-linejoin:miter;stroke-width:0.8;\"/>\n   </g>\n   <g id=\"patch_34\">\n    <path d=\"M 392.767812 228.14 \nL 392.767812 10.7 \n\" style=\"fill:none;stroke:#000000;stroke-linecap:square;stroke-linejoin:miter;stroke-width:0.8;\"/>\n   </g>\n   <g id=\"patch_35\">\n    <path d=\"M 57.967813 228.14 \nL 392.767812 228.14 \n\" style=\"fill:none;stroke:#000000;stroke-linecap:square;stroke-linejoin:miter;stroke-width:0.8;\"/>\n   </g>\n   <g id=\"patch_36\">\n    <path d=\"M 57.967813 10.7 \nL 392.767812 10.7 \n\" style=\"fill:none;stroke:#000000;stroke-linecap:square;stroke-linejoin:miter;stroke-width:0.8;\"/>\n   </g>\n  </g>\n </g>\n <defs>\n  <clipPath id=\"pbc52fb767c\">\n   <rect height=\"217.44\" width=\"334.8\" x=\"57.967813\" y=\"10.7\"/>\n  </clipPath>\n </defs>\n</svg>\n",
            "text/plain": [
              "<Figure size 432x288 with 1 Axes>"
            ]
          },
          "metadata": {
            "tags": [],
            "needs_background": "light"
          }
        }
      ]
    },
    {
      "cell_type": "markdown",
      "metadata": {
        "id": "_1yezTpDvRPq",
        "colab_type": "text"
      },
      "source": [
        "### Variations\n",
        "\n",
        "There are many more variations of classical portfolio optimization. We might require that $\\mu^T w \\geq R^\\mathrm{min}$ and minimize $w^T \\Sigma w$ or $\\|\\Sigma ^{1/2} w\\|_2$.\n",
        "We could include the (broker) cost of short positions as the penalty $s^T (w)_-$ for some $s \\geq 0$.\n",
        "We could include transaction costs (from a previous portfolio $w^\\mathrm{prev}$) as the penalty\n",
        "\n",
        "$$\n",
        "\\kappa ^T |w-w^\\mathrm{prev}|^\\eta, \\quad\n",
        "\\kappa \\geq 0.\n",
        "$$\n",
        "\n",
        "\n",
        "Common values of $\\eta$ are $\\eta =1, ~ 3/2, ~2$.\n"
      ]
    },
    {
      "cell_type": "markdown",
      "metadata": {
        "id": "sQ1udlx4vRPr",
        "colab_type": "text"
      },
      "source": [
        "### Factor covariance model\n",
        "\n",
        "A particularly common and useful variation is to model the covariance matrix $\\Sigma$ as a factor model\n",
        "\n",
        "$$\n",
        "\\Sigma  =  F \\tilde \\Sigma F^T + D,\n",
        "$$\n",
        "\n",
        "where  $F \\in {\\bf R}^{n \\times k}$, $k \\ll n$ is the *factor loading matrix*. $k$ is the number of factors (or sectors) (typically 10s). $F_{ij}$ is the loading of asset $i$ to factor $j$.\n",
        "$D$ is a diagonal matrix; $D_{ii}>0$ is the *idiosyncratic risk*. $\\tilde \\Sigma > 0$ is the *factor covariance matrix*.\n",
        "\n",
        "$F^Tw \\in {\\bf R}^k$ gives the portfolio *factor exposures*. A portfolio is *factor $j$ neutral* if $(F^Tw)_j=0$.\n"
      ]
    },
    {
      "cell_type": "markdown",
      "metadata": {
        "id": "yLM-ip0fvRPr",
        "colab_type": "text"
      },
      "source": [
        "### Portfolio optimization with factor covariance model\n",
        "\n",
        "Using the factor covariance model, we frame the portfolio optimization problem as \n",
        "\n",
        "\\begin{array}{ll} \\mbox{maximize} & \\mu^T w - \\gamma \\left(f^T \\tilde \\Sigma f  + w^TDw \\right) \\\\\n",
        "\\mbox{subject to} & {\\bf 1}^T w = 1, \\quad f=F^Tw\\\\\n",
        "& w \\in {\\cal W}, \\quad f \\in {\\cal F},\n",
        "\\end{array}\n",
        "\n",
        "where the variables are the allocations $w \\in {\\bf R}^n$ and factor exposures $f\\in {\\bf R}^k$ and $\\cal F$ gives the factor exposure constraints.\n",
        "\n",
        "Using the factor covariance model in the optimization problem has a computational advantage. The solve time is $O(nk^2)$ versus $O(n^3)$ for the standard problem."
      ]
    },
    {
      "cell_type": "markdown",
      "metadata": {
        "id": "MHFVjj2jvRPr",
        "colab_type": "text"
      },
      "source": [
        "### Example\n",
        "\n",
        "In the following code we generate and solve a portfolio optimization problem with 50 factors and 3000 assets.\n",
        "We set the leverage limit $=2$ and $\\gamma=0.1$.\n",
        "\n",
        "We solve the problem both with the covariance given as a single matrix and as a factor model.\n",
        "Using CVXPY with the OSQP solver running in a single thread, the solve time was 173.30 seconds for the single matrix formulation and 0.85 seconds for the factor model formulation.\n",
        "We collected the timings on a MacBook Air with an Intel Core i7 processor."
      ]
    },
    {
      "cell_type": "code",
      "metadata": {
        "id": "Ol0Od1w4vRPr",
        "colab_type": "code",
        "colab": {}
      },
      "source": [
        "# Generate data for factor model.\n",
        "n = 3000\n",
        "m = 50\n",
        "np.random.seed(1)\n",
        "mu = np.abs(np.random.randn(n, 1))\n",
        "Sigma_tilde = np.random.randn(m, m)\n",
        "Sigma_tilde = Sigma_tilde.T.dot(Sigma_tilde)\n",
        "D = np.diag(np.random.uniform(0, 0.9, size=n))\n",
        "F = np.random.randn(n, m)"
      ],
      "execution_count": 0,
      "outputs": []
    },
    {
      "cell_type": "code",
      "metadata": {
        "id": "wMXVQyZavRPv",
        "colab_type": "code",
        "outputId": "ba23c893-8380-4faf-e020-152338f21463",
        "colab": {}
      },
      "source": [
        "# Factor model portfolio optimization.\n",
        "w = cp.Variable(n)\n",
        "f = F.T*w\n",
        "gamma = cp.Parameter(nonneg=True)\n",
        "Lmax = cp.Parameter()\n",
        "ret = mu.T*w \n",
        "risk = cp.quad_form(f, Sigma_tilde) + cp.quad_form(w, D)\n",
        "prob_factor = cp.Problem(cp.Maximize(ret - gamma*risk), \n",
        "                     [cp.sum(w) == 1, \n",
        "                      cp.norm(w, 1) <= Lmax])\n",
        "\n",
        "# Solve the factor model problem.\n",
        "Lmax.value = 2\n",
        "gamma.value = 0.1\n",
        "prob_factor.solve(verbose=True)"
      ],
      "execution_count": 0,
      "outputs": [
        {
          "output_type": "stream",
          "text": [
            "-----------------------------------------------------------------\n",
            "           OSQP v0.5.0  -  Operator Splitting QP Solver\n",
            "              (c) Bartolomeo Stellato,  Goran Banjac\n",
            "        University of Oxford  -  Stanford University 2018\n",
            "-----------------------------------------------------------------\n",
            "problem:  variables n = 6050, constraints m = 6052\n",
            "          nnz(P) + nnz(A) = 172325\n",
            "settings: linear system solver = qdldl,\n",
            "          eps_abs = 1.0e-04, eps_rel = 1.0e-04,\n",
            "          eps_prim_inf = 1.0e-04, eps_dual_inf = 1.0e-04,\n",
            "          rho = 1.00e-01 (adaptive),\n",
            "          sigma = 1.00e-06, alpha = 1.60, max_iter = 10000\n",
            "          check_termination: on (interval 25),\n",
            "          scaling: on, scaled_termination: off\n",
            "          warm start: on, polish: on\n",
            "\n",
            "iter   objective    pri res    dua res    rho        time\n",
            "   1  -2.1359e+03   7.63e+00   3.73e+02   1.00e-01   8.41e-02s\n",
            " 200  -4.1947e+00   1.61e-03   7.86e-03   3.60e-01   3.24e-01s\n",
            " 400  -4.6288e+00   3.02e-04   6.01e-04   3.60e-01   6.26e-01s\n",
            " 500  -4.6491e+00   2.49e-04   4.66e-04   3.60e-01   7.69e-01s\n",
            "\n",
            "status:               solved\n",
            "solution polish:      unsuccessful\n",
            "number of iterations: 500\n",
            "optimal objective:    -4.6491\n",
            "run time:             8.46e-01s\n",
            "optimal rho estimate: 3.31e-01\n",
            "\n"
          ],
          "name": "stdout"
        },
        {
          "output_type": "execute_result",
          "data": {
            "text/plain": [
              "4.649145900085359"
            ]
          },
          "metadata": {
            "tags": []
          },
          "execution_count": 13
        }
      ]
    },
    {
      "cell_type": "code",
      "metadata": {
        "id": "DMckYpt-vRPz",
        "colab_type": "code",
        "outputId": "7afffa1c-8ae6-4f82-87e0-fe8e0b772664",
        "colab": {}
      },
      "source": [
        "# Standard portfolio optimization with data from factor model.\n",
        "risk = cp.quad_form(w, F.dot(Sigma_tilde).dot(F.T) + D)\n",
        "prob = cp.Problem(cp.Maximize(ret - gamma*risk), \n",
        "               [cp.sum(w) == 1, \n",
        "                cp.norm(w, 1) <= Lmax])\n",
        "\n",
        "# Uncomment to solve the problem.\n",
        "# WARNING: this will take many minutes to run.\n",
        "prob.solve(verbose=True)"
      ],
      "execution_count": 0,
      "outputs": [
        {
          "output_type": "stream",
          "text": [
            "-----------------------------------------------------------------\n",
            "           OSQP v0.5.0  -  Operator Splitting QP Solver\n",
            "              (c) Bartolomeo Stellato,  Goran Banjac\n",
            "        University of Oxford  -  Stanford University 2018\n",
            "-----------------------------------------------------------------\n",
            "problem:  variables n = 6000, constraints m = 6002\n",
            "          nnz(P) + nnz(A) = 4519500\n",
            "settings: linear system solver = qdldl,\n",
            "          eps_abs = 1.0e-04, eps_rel = 1.0e-04,\n",
            "          eps_prim_inf = 1.0e-04, eps_dual_inf = 1.0e-04,\n",
            "          rho = 1.00e-01 (adaptive),\n",
            "          sigma = 1.00e-06, alpha = 1.60, max_iter = 10000\n",
            "          check_termination: on (interval 25),\n",
            "          scaling: on, scaled_termination: off\n",
            "          warm start: on, polish: on\n",
            "\n",
            "iter   objective    pri res    dua res    rho        time\n",
            "   1  -1.1774e+04   2.65e+02   1.51e+04   1.00e-01   7.43e+00s\n",
            " 200  -4.1080e+02   2.42e-01   8.86e-04   1.00e-01   1.03e+01s\n",
            " 400  -1.9413e+02   1.13e-01   2.51e-04   1.00e-01   1.30e+01s\n",
            " 600  -1.2345e+02   6.40e-02   1.09e-04   1.00e-01   1.59e+01s\n",
            " 800  -8.7560e+01   4.67e-02   5.29e-05   1.00e-01   1.90e+01s\n",
            "1000  -6.5202e+01   3.49e-02   2.99e-05   1.00e-01   2.20e+01s\n",
            "1200  -5.0118e+01   2.68e-02   1.91e-05   1.00e-01   2.52e+01s\n",
            "1400  -3.9737e+01   2.09e-02   1.41e-05   1.00e-01   2.81e+01s\n",
            "1600  -3.2445e+01   1.72e-02   1.06e-05   1.00e-01   3.10e+01s\n",
            "1800  -2.6947e+01   1.42e-02   8.27e-06   1.00e-01   3.41e+01s\n",
            "2000  -2.2700e+01   1.17e-02   6.57e-06   1.00e-01   3.72e+01s\n",
            "2200  -1.9294e+01   9.74e-03   5.29e-06   1.00e-01   4.06e+01s\n",
            "2400  -1.6616e+01   8.26e-03   4.32e-06   1.00e-01   4.41e+01s\n",
            "2600  -1.4460e+01   7.01e-03   3.56e-06   1.00e-01   4.69e+01s\n",
            "2800  -1.2704e+01   5.95e-03   2.93e-06   1.00e-01   4.99e+01s\n",
            "3000  -1.1267e+01   5.06e-03   2.43e-06   1.00e-01   5.41e+01s\n",
            "3200  -1.0092e+01   4.25e-03   2.00e-06   1.00e-01   5.73e+01s\n",
            "3400  -9.1244e+00   3.58e-03   1.66e-06   1.00e-01   6.14e+01s\n",
            "3600  -8.3286e+00   3.04e-03   1.38e-06   1.00e-01   6.50e+01s\n",
            "3800  -7.6760e+00   2.60e-03   1.14e-06   1.00e-01   6.84e+01s\n",
            "4000  -7.1409e+00   2.26e-03   9.40e-07   1.00e-01   7.18e+01s\n",
            "4200  -6.7000e+00   2.04e-03   7.81e-07   1.00e-01   7.53e+01s\n",
            "4400  -6.3366e+00   1.85e-03   6.50e-07   1.00e-01   7.87e+01s\n",
            "4600  -6.0382e+00   1.69e-03   5.41e-07   1.00e-01   8.31e+01s\n",
            "4800  -5.7969e+00   1.58e-03   4.54e-07   1.00e-01   8.65e+01s\n",
            "5000  -5.5953e+00   1.46e-03   3.83e-07   1.00e-01   8.97e+01s\n",
            "5200  -5.4277e+00   1.37e-03   3.24e-07   1.00e-01   9.30e+01s\n",
            "5400  -5.2885e+00   1.28e-03   2.73e-07   1.00e-01   9.62e+01s\n",
            "5600  -5.1729e+00   1.20e-03   2.30e-07   1.00e-01   1.00e+02s\n",
            "5800  -5.0768e+00   1.13e-03   1.94e-07   1.00e-01   1.04e+02s\n",
            "6000  -4.9968e+00   1.08e-03   1.63e-07   1.00e-01   1.07e+02s\n",
            "6200  -4.9301e+00   1.02e-03   1.37e-07   1.00e-01   1.10e+02s\n",
            "6400  -4.8746e+00   9.80e-04   1.18e-07   1.00e-01   1.14e+02s\n",
            "6600  -4.8281e+00   9.40e-04   1.09e-07   1.00e-01   1.18e+02s\n",
            "6800  -4.7893e+00   9.04e-04   1.01e-07   1.00e-01   1.22e+02s\n",
            "7000  -4.7568e+00   8.72e-04   9.40e-08   1.00e-01   1.25e+02s\n",
            "7200  -4.7295e+00   8.44e-04   8.75e-08   1.00e-01   1.28e+02s\n",
            "7400  -4.7372e+00   8.63e-04   2.54e-07   1.00e-01   1.32e+02s\n",
            "7600  -4.7339e+00   8.57e-04   1.41e-07   1.00e-01   1.35e+02s\n",
            "7800  -4.7278e+00   8.25e-04   8.93e-08   1.00e-01   1.38e+02s\n",
            "8000  -4.7195e+00   7.99e-04   5.47e-08   1.00e-01   1.41e+02s\n",
            "8200  -4.7100e+00   7.75e-04   4.25e-08   1.00e-01   1.45e+02s\n",
            "8400  -4.7002e+00   7.59e-04   3.67e-08   1.00e-01   1.48e+02s\n",
            "8600  -4.6909e+00   7.51e-04   3.23e-08   1.00e-01   1.51e+02s\n",
            "8800  -4.6824e+00   7.42e-04   3.05e-08   1.00e-01   1.54e+02s\n",
            "9000  -4.6749e+00   7.35e-04   2.86e-08   1.00e-01   1.58e+02s\n",
            "9200  -4.6684e+00   7.27e-04   2.66e-08   1.00e-01   1.61e+02s\n",
            "9400  -4.6627e+00   7.21e-04   2.47e-08   1.00e-01   1.64e+02s\n",
            "9600  -4.6577e+00   7.17e-04   2.29e-08   1.00e-01   1.67e+02s\n",
            "9800  -4.6534e+00   7.13e-04   2.15e-08   1.00e-01   1.70e+02s\n",
            "10000  -4.6496e+00   7.10e-04   2.03e-08   1.00e-01   1.73e+02s\n",
            "\n",
            "status:               solved inaccurate\n",
            "number of iterations: 10000\n",
            "optimal objective:    -4.6496\n",
            "run time:             1.73e+02s\n",
            "optimal rho estimate: 4.78e-01\n",
            "\n"
          ],
          "name": "stdout"
        },
        {
          "output_type": "execute_result",
          "data": {
            "text/plain": [
              "4.649583488853883"
            ]
          },
          "metadata": {
            "tags": []
          },
          "execution_count": 14
        }
      ]
    },
    {
      "cell_type": "code",
      "metadata": {
        "id": "bOIdguO2vRP2",
        "colab_type": "code",
        "outputId": "90540bca-20aa-44f6-c006-34d3000d36ad",
        "colab": {}
      },
      "source": [
        "print('Factor model solve time = {}'.format(prob_factor.solver_stats.solve_time))\n",
        "print('Single model solve time = {}'.format(prob.solver_stats.solve_time))"
      ],
      "execution_count": 0,
      "outputs": [
        {
          "output_type": "stream",
          "text": [
            "Factor model solve time = 0.845742191\n",
            "Single model solve time = 173.303122558\n"
          ],
          "name": "stdout"
        }
      ]
    }
  ]
}